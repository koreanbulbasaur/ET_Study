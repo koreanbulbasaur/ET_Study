{
 "cells": [
  {
   "cell_type": "code",
   "execution_count": 1,
   "metadata": {},
   "outputs": [],
   "source": [
    "import numpy as np\n",
    "import tensorflow as tf"
   ]
  },
  {
   "cell_type": "code",
   "execution_count": 2,
   "metadata": {},
   "outputs": [],
   "source": [
    "data_set = np.loadtxt('./model_df.csv', delimiter=',')\n",
    "\n",
    "X = data_set[:, :-1]\n",
    "y = data_set[:, -1]"
   ]
  },
  {
   "cell_type": "code",
   "execution_count": 3,
   "metadata": {},
   "outputs": [],
   "source": [
    "model_sgd = tf.keras.Sequential([\n",
    "    tf.keras.layers.Dense(30, activation='relu', input_shape=(X.shape[1],)),\n",
    "    tf.keras.layers.Dense(10, activation='relu'),\n",
    "    tf.keras.layers.Dense(1, activation='sigmoid')\n",
    "])\n",
    "\n",
    "model_adam = tf.keras.Sequential([\n",
    "    tf.keras.layers.Dense(30, activation='relu', input_shape=(X.shape[1],)),\n",
    "    tf.keras.layers.Dense(10, activation='relu'),\n",
    "    tf.keras.layers.Dense(1, activation='sigmoid')\n",
    "])"
   ]
  },
  {
   "cell_type": "code",
   "execution_count": 4,
   "metadata": {},
   "outputs": [
    {
     "data": {
      "text/plain": [
       "<keras.callbacks.History at 0x2d6f7f404d0>"
      ]
     },
     "execution_count": 4,
     "metadata": {},
     "output_type": "execute_result"
    }
   ],
   "source": [
    "model_sgd.compile(loss='binary_crossentropy', optimizer='sgd', metrics=['accuracy'])\n",
    "model_sgd.fit(X, y, epochs=100, batch_size=10, verbose=0)\n",
    "\n",
    "model_adam.compile(loss='binary_crossentropy', optimizer='adam', metrics=['accuracy'])\n",
    "model_adam.fit(X, y, epochs=100, batch_size=10, verbose=0)"
   ]
  },
  {
   "cell_type": "code",
   "execution_count": 5,
   "metadata": {},
   "outputs": [
    {
     "name": "stdout",
     "output_type": "stream",
     "text": [
      "1/1 [==============================] - 0s 138ms/step\n",
      "1/1 [==============================] - 0s 53ms/step\n",
      "SGD 모델 예측 결과: [[nan]]\n",
      "Adam 모델 예측 결과: [[1.]]\n"
     ]
    }
   ],
   "source": [
    "test_sample = X[-1, :-1]  # 예측할 데이터 (마지막 행)\n",
    "test_sample = np.expand_dims(test_sample, axis=0)  # (1, 1) 형태로 차원 확장\n",
    "test_sample = np.concatenate([test_sample, test_sample], axis=1)  # (1, 2) 형태로 차원 확장\n",
    "\n",
    "prediction_sgd = model_sgd.predict(test_sample)\n",
    "prediction_adam = model_adam.predict(test_sample)\n",
    "\n",
    "print(\"SGD 모델 예측 결과:\", prediction_sgd)\n",
    "print(\"Adam 모델 예측 결과:\", prediction_adam)"
   ]
  }
 ],
 "metadata": {
  "kernelspec": {
   "display_name": "ET_study",
   "language": "python",
   "name": "python3"
  },
  "language_info": {
   "codemirror_mode": {
    "name": "ipython",
    "version": 3
   },
   "file_extension": ".py",
   "mimetype": "text/x-python",
   "name": "python",
   "nbconvert_exporter": "python",
   "pygments_lexer": "ipython3",
   "version": "3.11.3"
  },
  "orig_nbformat": 4
 },
 "nbformat": 4,
 "nbformat_minor": 2
}

{
 "cells": [
  {
   "cell_type": "code",
   "execution_count": 1,
   "metadata": {},
   "outputs": [],
   "source": [
    "import sys\n",
    "import os\n",
    "import cv2\n",
    "import numpy as np\n",
    "import matplotlib.pyplot as plt"
   ]
  },
  {
   "cell_type": "code",
   "execution_count": 2,
   "metadata": {},
   "outputs": [],
   "source": [
    "img = cv2.imread('./data/puppy.bmp')\n",
    "\n",
    "h, w = img.shape[:2]\n",
    "x = w // 2\n",
    "y = h // 2\n",
    "\n",
    "# 빨간색 박스\n",
    "# img[30:100, 30:200] = 0, 0, 255\n",
    "\n",
    "img[367:470, 360:440] = 153, 51, 255\n",
    "img[367:470, 398:400] = 0, 0, 0\n",
    "\n",
    "# 영역 그리기\n",
    "# x, y, w, h = cv2.selectROI('img', img)\n",
    "# print(x, y, w, h)\n",
    "\n",
    "if img is None:\n",
    "    print('image read failed')\n",
    "    sys.exit()\n",
    "\n",
    "cv2.imshow('img', img)\n",
    "\n",
    "\n",
    "cv2.waitKey()\n",
    "cv2.destroyAllWindows()"
   ]
  },
  {
   "cell_type": "code",
   "execution_count": 3,
   "metadata": {},
   "outputs": [],
   "source": [
    "img1 = np.zeros((400, 600, 3), dtype=np.uint8)\n",
    "\n",
    "cv2.imshow('img1', img1)\n",
    "\n",
    "cv2.waitKey()\n",
    "cv2.destroyAllWindows()"
   ]
  },
  {
   "cell_type": "code",
   "execution_count": 4,
   "metadata": {},
   "outputs": [],
   "source": [
    "img2 = np.zeros((400, 600, 3), dtype=np.uint8)\n",
    "\n",
    "cv2.imshow('img1', img1)\n",
    "\n",
    "cv2.waitKey()\n",
    "cv2.destroyAllWindows()"
   ]
  },
  {
   "cell_type": "code",
   "execution_count": 5,
   "metadata": {},
   "outputs": [],
   "source": [
    "img = cv2.imread('./data/cow.png', cv2.IMREAD_COLOR)\n",
    "\n",
    "img1 = img[200:400, 400:500]\n",
    "img2 = img[200:400, 400:500].copy()\n",
    "\n",
    "cv2.circle(img1, (200, 100), 10, (0, 0, 255), 1, cv2.LINE_AA)\n",
    "\n",
    "cv2.imshow('img', img1)\n",
    "cv2.waitKey(0)\n",
    "cv2.destroyAllWindows()"
   ]
  },
  {
   "cell_type": "code",
   "execution_count": 6,
   "metadata": {},
   "outputs": [],
   "source": [
    "img = cv2.imread('./data/rudolf.png', cv2.IMREAD_COLOR)\n",
    "\n",
    "cv2.circle(img, (505, 520), 75, (0, 0, 255), cv2.FILLED, cv2.LINE_AA)\n",
    "\n",
    "cv2.imshow('img', img)\n",
    "cv2.waitKey(0)\n",
    "cv2.destroyAllWindows()"
   ]
  },
  {
   "cell_type": "code",
   "execution_count": 7,
   "metadata": {},
   "outputs": [
    {
     "data": {
      "text/plain": [
       "(693, 601, 3)"
      ]
     },
     "execution_count": 7,
     "metadata": {},
     "output_type": "execute_result"
    }
   ],
   "source": [
    "img_d = cv2.imread('./data/dolph.jpg', cv2.IMREAD_COLOR)\n",
    "\n",
    "cv2.circle(img_d, (73, 340), 45, (0, 0, 255), cv2.FILLED, cv2.LINE_AA)\n",
    "\n",
    "cv2.imshow('img_d', img_d)\n",
    "cv2.waitKey(0)\n",
    "cv2.destroyAllWindows()\n",
    "\n",
    "img_d.shape"
   ]
  },
  {
   "cell_type": "code",
   "execution_count": 8,
   "metadata": {},
   "outputs": [],
   "source": [
    "src = cv2.imread('./data/airplane.bmp', cv2.IMREAD_COLOR)\n",
    "mask = cv2.imread('./data/mask_plane.bmp', cv2.IMREAD_GRAYSCALE)\n",
    "dst = cv2.imread('./data/field.bmp')\n",
    "\n",
    "cv2.copyTo(src, mask, dst)\n",
    "\n",
    "cv2.imshow('src', src)\n",
    "cv2.imshow('mask', mask)\n",
    "cv2.imshow('dst', dst)\n",
    "\n",
    "cv2.waitKey()\n",
    "cv2.destroyAllWindows()"
   ]
  },
  {
   "cell_type": "code",
   "execution_count": 9,
   "metadata": {},
   "outputs": [],
   "source": [
    "dst[mask > 0] = src[mask > 0]\n",
    "\n",
    "cv2.imshow('src', src)\n",
    "cv2.imshow('mask', mask)\n",
    "cv2.imshow('dst', dst)\n",
    "\n",
    "cv2.waitKey()\n",
    "cv2.destroyAllWindows()"
   ]
  },
  {
   "cell_type": "code",
   "execution_count": 10,
   "metadata": {},
   "outputs": [],
   "source": [
    "dst[mask > 0] = (0, 0, 255)\n",
    "\n",
    "cv2.imshow('src', src)\n",
    "cv2.imshow('mask', mask)\n",
    "cv2.imshow('dst', dst)\n",
    "\n",
    "cv2.waitKey()\n",
    "cv2.destroyAllWindows()"
   ]
  }
 ],
 "metadata": {
  "kernelspec": {
   "display_name": "Python 3",
   "language": "python",
   "name": "python3"
  },
  "language_info": {
   "codemirror_mode": {
    "name": "ipython",
    "version": 3
   },
   "file_extension": ".py",
   "mimetype": "text/x-python",
   "name": "python",
   "nbconvert_exporter": "python",
   "pygments_lexer": "ipython3",
   "version": "3.11.3"
  },
  "orig_nbformat": 4
 },
 "nbformat": 4,
 "nbformat_minor": 2
}

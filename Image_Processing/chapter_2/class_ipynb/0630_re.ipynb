{
 "cells": [
  {
   "cell_type": "code",
   "execution_count": 1,
   "metadata": {},
   "outputs": [],
   "source": [
    "import sys\n",
    "import numpy as np\n",
    "import matplotlib.pyplot as plt\n",
    "import cv2"
   ]
  },
  {
   "cell_type": "code",
   "execution_count": 2,
   "metadata": {},
   "outputs": [],
   "source": [
    "src = cv2.imread('./data/puppy.bmp')\n",
    "alpha = cv2.imread('./data/imgbin_sunglasses_1.png', cv2.IMREAD_UNCHANGED)\n",
    "alpha = cv2.resize(alpha, (300, 150), interpolation=cv2.INTER_AREA)\n",
    "\n",
    "sunglass = alpha[:, :, 0:3,]\n",
    "mask = alpha[:, :, -1]\n",
    "\n",
    "# src_crop는 src 이미지의 일부분을 잘라낸(cropped) 영역\n",
    "# src_crop에 적용된 변경은 원본 이미지 src에도 영향을 미침\n",
    "src_crop = src[120:120+150, 220:220+300]\n",
    "\n",
    "src_crop[mask > 0] = (0, 0, 255)\n",
    "\n",
    "# cv2.copyTo(sunglass, mask, src_crop)\n",
    "\n",
    "cv2.imshow('src', src)\n",
    "# cv2.imshow('src_crop', src_crop)\n",
    "# cv2.imshow('alpha', alpha)\n",
    "# cv2.imshow('mask', mask)\n",
    "\n",
    "cv2.waitKey(0)\n",
    "cv2.destroyAllWindows()"
   ]
  },
  {
   "cell_type": "code",
   "execution_count": 3,
   "metadata": {},
   "outputs": [
    {
     "name": "stdout",
     "output_type": "stream",
     "text": [
      "src.shape = (480, 640, 3)\n",
      "alpha.shape = (150, 300, 4)\n"
     ]
    }
   ],
   "source": [
    "print('src.shape =', src.shape)\n",
    "print('alpha.shape =', alpha.shape)"
   ]
  },
  {
   "cell_type": "code",
   "execution_count": 4,
   "metadata": {},
   "outputs": [],
   "source": [
    "background = cv2.imread('./data/green.png')\n",
    "\n",
    "background_cow = np.zeros((600, 600, 3), dtype=np.uint8)\n",
    "background_cow[:] = (255, 255, 255)\n",
    "cow = cv2.imread('./data/cow.png')\n",
    "cow_gray = cv2.cvtColor(cow, cv2.COLOR_BGR2GRAY)\n",
    "cv2.threshold(cow_gray, 150, 255, cv2.THRESH_BINARY)\n",
    "_, mask_cow = cv2.threshold(cow_gray, 240, 255, cv2.THRESH_BINARY_INV)\n",
    "\n",
    "crop = background[500:1100, 200:800]\n",
    "\n",
    "cv2.copyTo(cow, mask_cow, crop)\n",
    "cv2.imwrite('test.png', background)\n",
    "\n",
    "cv2.imshow('background', background)\n",
    "\n",
    "cv2.waitKey(0)\n",
    "cv2.destroyAllWindows()"
   ]
  },
  {
   "cell_type": "code",
   "execution_count": 5,
   "metadata": {},
   "outputs": [],
   "source": [
    "background_edit = cv2.imread('test.png')\n",
    "\n",
    "plane = cv2.imread('./data/airplane.bmp')\n",
    "mask_plane = cv2.imread('./data/mask_plane.bmp')\n",
    "\n",
    "h, w = plane.shape[:2]\n",
    "crop_plane = background_edit[0:0+h, 900:900+w]\n",
    "\n",
    "cv2.copyTo(plane, mask_plane, crop_plane)\n",
    "cv2.imwrite('test_plane.png', background_edit)\n",
    "\n",
    "cv2.imshow('background_edit', background_edit)\n",
    "\n",
    "cv2.waitKey(0)\n",
    "cv2.destroyAllWindows()"
   ]
  },
  {
   "cell_type": "code",
   "execution_count": 41,
   "metadata": {},
   "outputs": [
    {
     "name": "stdout",
     "output_type": "stream",
     "text": [
      "(769, 616, 3)\n",
      "(500, 300, 4)\n"
     ]
    }
   ],
   "source": [
    "background_puppy = cv2.imread('test_plane.png')\n",
    "puppy = cv2.imread('data/puppy2.png')\n",
    "\n",
    "w, h = 300, 500\n",
    "x, y = 140, 0\n",
    "alpha_hat = cv2.imread('data/imgbin_hat.png', cv2.IMREAD_UNCHANGED)\n",
    "alpha_hat = cv2.resize(alpha_hat, (w, h), interpolation=cv2.INTER_AREA)\n",
    "\n",
    "hat = alpha_hat[:, :, 0:3,]\n",
    "mask_hat = alpha_hat[:, :, -1]\n",
    "\n",
    "print(puppy.shape)\n",
    "print(alpha_hat.shape)\n",
    "\n",
    "part_puppy = puppy[y:y+h, x:x+w]\n",
    "\n",
    "cv2.copyTo(hat, mask_hat, part_puppy)\n",
    "cv2.imwrite('test_puppy.png', puppy)\n",
    "\n",
    "cv2.imshow('puppy', puppy)\n",
    "\n",
    "cv2.waitKey(0)\n",
    "cv2.destroyAllWindows()"
   ]
  }
 ],
 "metadata": {
  "kernelspec": {
   "display_name": "Python 3",
   "language": "python",
   "name": "python3"
  },
  "language_info": {
   "codemirror_mode": {
    "name": "ipython",
    "version": 3
   },
   "file_extension": ".py",
   "mimetype": "text/x-python",
   "name": "python",
   "nbconvert_exporter": "python",
   "pygments_lexer": "ipython3",
   "version": "3.11.3"
  },
  "orig_nbformat": 4
 },
 "nbformat": 4,
 "nbformat_minor": 2
}

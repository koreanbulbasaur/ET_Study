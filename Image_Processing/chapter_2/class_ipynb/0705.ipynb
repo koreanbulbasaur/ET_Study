{
 "cells": [
  {
   "cell_type": "code",
   "execution_count": 1,
   "metadata": {},
   "outputs": [],
   "source": [
    "import numpy as np\n",
    "import sys\n",
    "import cv2\n",
    "import matplotlib.pyplot as plt"
   ]
  },
  {
   "attachments": {},
   "cell_type": "markdown",
   "metadata": {},
   "source": [
    "# 이벤트 처리"
   ]
  },
  {
   "cell_type": "code",
   "execution_count": 2,
   "metadata": {},
   "outputs": [],
   "source": [
    "img = cv2.imread('../data/puppy.bmp', 0)\n",
    "img_c = img.copy()\n",
    "\n",
    "fliped = False\n",
    "\n",
    "cv2.namedWindow('img', cv2.WINDOW_AUTOSIZE)\n",
    "cv2.imshow('img', img)\n",
    "\n",
    "while True:\n",
    "    key = cv2.waitKey(0)\n",
    "    if key == ord('q') or key == 27:\n",
    "        break\n",
    "    elif key == ord('w'):\n",
    "        if fliped == False:\n",
    "            img = 255 - img\n",
    "            cv2.imshow('img', img)\n",
    "        else:\n",
    "            img = 255 - img\n",
    "            cv2.imshow('img', img)\n",
    "    elif key == ord('e'):\n",
    "        if fliped == False:\n",
    "            img = img_c\n",
    "            img = cv2.Canny(img, 50, 100)\n",
    "            cv2.imshow('img', img)\n",
    "        else:\n",
    "            img = img_c\n",
    "            img = cv2.flip(img, 1)\n",
    "            img = cv2.Canny(img, 50, 100)\n",
    "            cv2.imshow('img', img)\n",
    "    elif key == ord('s'):\n",
    "        cv2.imwrite('../data/saved.png', img)\n",
    "    elif key == ord('r'):\n",
    "        if fliped == False:\n",
    "            img = cv2.flip(img, 1)\n",
    "            cv2.imshow('img', img)\n",
    "            fliped = True\n",
    "        else:\n",
    "            img = cv2.flip(img, 1)\n",
    "            cv2.imshow('img', img)\n",
    "            fliped = False\n",
    "\n",
    "cv2.destroyAllWindows()"
   ]
  },
  {
   "cell_type": "code",
   "execution_count": 3,
   "metadata": {},
   "outputs": [],
   "source": [
    "cap = cv2.VideoCapture(0)\n",
    "\n",
    "if not cap.isOpened():\n",
    "    print('Program End')\n",
    "    sys.exit()\n",
    "\n",
    "e_flag = False\n",
    "f_flag = False\n",
    "\n",
    "while 1:\n",
    "    ret, frame = cap.read()\n",
    "    if not ret:\n",
    "        print('error')\n",
    "        break\n",
    "\n",
    "    if f_flag:\n",
    "        frame = cv2.flip(frame, 1)\n",
    "\n",
    "    if e_flag:\n",
    "        frame = cv2.Canny(frame, 50, 150)\n",
    "\n",
    "    cv2.imshow('frame', frame)\n",
    "\n",
    "    key = cv2.waitKey(1)\n",
    "\n",
    "    if key == ord('q'):\n",
    "        break\n",
    "    elif key == ord('e'):\n",
    "        e_flag = not(e_flag)\n",
    "    elif key == ord('f'):\n",
    "        f_flag = not(f_flag)\n",
    "\n",
    "cv2.destroyAllWindows()"
   ]
  },
  {
   "cell_type": "code",
   "execution_count": 4,
   "metadata": {},
   "outputs": [],
   "source": [
    "import random\n",
    "\n",
    "def random_rgb():\n",
    "    r = random.randint(0, 255)\n",
    "    g = random.randint(0, 255)\n",
    "    b = random.randint(0, 255)\n",
    "    return r, g, b"
   ]
  },
  {
   "cell_type": "code",
   "execution_count": 8,
   "metadata": {},
   "outputs": [],
   "source": [
    "def call_mouse(event, x, y, flags, param):\n",
    "    global oldx, oldy\n",
    "\n",
    "    if event == cv2.EVENT_LBUTTONDOWN:\n",
    "        oldx, oldy = x, y\n",
    "\n",
    "    elif event == cv2.EVENT_MOUSEMOVE:\n",
    "        if flags == cv2.EVENT_FLAG_LBUTTON:\n",
    "            cv2.line(img, (oldx, oldy), (x, y), random_rgb(), 10, cv2.LINE_AA)\n",
    "            cv2.imshow('img', img)\n",
    "            oldx, oldy = x, y\n",
    "\n",
    "img = np.ones((600, 600, 3), np.uint8)*255\n",
    "\n",
    "while 1:\n",
    "    cv2.namedWindow('img', cv2.WINDOW_AUTOSIZE)\n",
    "    cv2.setMouseCallback('img', call_mouse)\n",
    "\n",
    "    cv2.imshow('img', img)\n",
    "\n",
    "    key = cv2.waitKey(0)\n",
    "\n",
    "    if key == ord('q') or key == 27:\n",
    "        break\n",
    "    elif key == ord('s'):\n",
    "        cv2.imwrite('../data/paint.png', img)\n",
    "cv2.destroyAllWindows()"
   ]
  }
 ],
 "metadata": {
  "kernelspec": {
   "display_name": "Python 3",
   "language": "python",
   "name": "python3"
  },
  "language_info": {
   "codemirror_mode": {
    "name": "ipython",
    "version": 3
   },
   "file_extension": ".py",
   "mimetype": "text/x-python",
   "name": "python",
   "nbconvert_exporter": "python",
   "pygments_lexer": "ipython3",
   "version": "3.11.3"
  },
  "orig_nbformat": 4
 },
 "nbformat": 4,
 "nbformat_minor": 2
}

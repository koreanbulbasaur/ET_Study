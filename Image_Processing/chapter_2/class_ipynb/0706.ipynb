{
 "cells": [
  {
   "cell_type": "code",
   "execution_count": 1,
   "metadata": {},
   "outputs": [],
   "source": [
    "import cv2\n",
    "import numpy as np"
   ]
  },
  {
   "cell_type": "code",
   "execution_count": 13,
   "metadata": {},
   "outputs": [],
   "source": [
    "def call_track(pos):\n",
    "    img[:] = img_1*(pos/255)\n",
    "    cv2.imshow('img', img)\n",
    "\n",
    "img = cv2.imread('../data/puppy.bmp', 0)\n",
    "img_1 = img.copy()\n",
    "\n",
    "cv2.imshow('img', img)\n",
    "cv2.createTrackbar('level', 'img', 0, 255, call_track)\n",
    "\n",
    "cv2.waitKey()\n",
    "cv2.destroyAllWindows()"
   ]
  },
  {
   "cell_type": "code",
   "execution_count": 10,
   "metadata": {},
   "outputs": [],
   "source": [
    "import time\n",
    "\n",
    "img = cv2.imread('../data/puppy.bmp', 0)\n",
    "\n",
    "t1 = time.time()\n",
    "img_1 = cv2.GaussianBlur(img, (0, 0), 3)\n",
    "\n",
    "t2 = time.time()\n",
    "\n",
    "cv2.imshow('img', img)\n",
    "cv2.imshow('img_1', img_1)  \n",
    "\n",
    "cv2.waitKey()\n",
    "cv2.destroyAllWindows()"
   ]
  }
 ],
 "metadata": {
  "kernelspec": {
   "display_name": "Python 3",
   "language": "python",
   "name": "python3"
  },
  "language_info": {
   "codemirror_mode": {
    "name": "ipython",
    "version": 3
   },
   "file_extension": ".py",
   "mimetype": "text/x-python",
   "name": "python",
   "nbconvert_exporter": "python",
   "pygments_lexer": "ipython3",
   "version": "3.11.3"
  },
  "orig_nbformat": 4
 },
 "nbformat": 4,
 "nbformat_minor": 2
}

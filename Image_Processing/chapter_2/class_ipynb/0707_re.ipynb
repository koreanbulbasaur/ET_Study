{
 "cells": [
  {
   "cell_type": "code",
   "execution_count": 1,
   "metadata": {},
   "outputs": [],
   "source": [
    "import os, sys\n",
    "current_dir = os.path.dirname(os.path.abspath(r\"C:\\ET_study\\Image Processing\\module.py\"))\n",
    "sys.path.append(current_dir)\n",
    "from module import *"
   ]
  },
  {
   "cell_type": "code",
   "execution_count": 2,
   "metadata": {},
   "outputs": [],
   "source": [
    "img_path_ad = glob.glob('../data/train/ad/*.*') + glob.glob('../data/test/ad/*.*')\n",
    "img_path_normal = glob.glob('../data/train/normal/*.*') + glob.glob('../data/test/normal/*.*')\n",
    "\n",
    "img_paths = img_path_ad + img_path_normal"
   ]
  },
  {
   "cell_type": "code",
   "execution_count": 3,
   "metadata": {},
   "outputs": [
    {
     "data": {
      "text/plain": [
       "(280, 150, 150, 3)"
      ]
     },
     "execution_count": 3,
     "metadata": {},
     "output_type": "execute_result"
    }
   ],
   "source": [
    "imgs = np.zeros((0, 150, 150, 3), np.float32)\n",
    "\n",
    "for i in img_paths:\n",
    "    img = cv2.imread(i)\n",
    "    img = cv2.cvtColor(img, cv2.COLOR_BGR2RGB)\n",
    "    img = (img.astype(np.float32))/255.\n",
    "    img = np.expand_dims(img, axis=0)\n",
    "    imgs = np.append(imgs, img, axis=0)\n",
    "\n",
    "imgs.shape"
   ]
  },
  {
   "cell_type": "code",
   "execution_count": 4,
   "metadata": {},
   "outputs": [],
   "source": [
    "target = np.array([1]*len(img_path_ad) + [0]*len(img_path_normal))"
   ]
  },
  {
   "cell_type": "code",
   "execution_count": 5,
   "metadata": {},
   "outputs": [],
   "source": [
    "from sklearn.model_selection import train_test_split\n",
    "\n",
    "x_train, X_val, y_train, y_val = train_test_split(imgs, target, test_size=0.2, shuffle=True)"
   ]
  },
  {
   "cell_type": "code",
   "execution_count": 6,
   "metadata": {},
   "outputs": [
    {
     "name": "stdout",
     "output_type": "stream",
     "text": [
      "Model: \"model\"\n",
      "_________________________________________________________________\n",
      " Layer (type)                Output Shape              Param #   \n",
      "=================================================================\n",
      " input_1 (InputLayer)        [(None, 150, 150, 3)]     0         \n",
      "                                                                 \n",
      " conv2d (Conv2D)             (None, 148, 148, 64)      1792      \n",
      "                                                                 \n",
      " conv2d_1 (Conv2D)           (None, 146, 146, 32)      18464     \n",
      "                                                                 \n",
      " max_pooling2d (MaxPooling2D  (None, 73, 73, 32)       0         \n",
      " )                                                               \n",
      "                                                                 \n",
      " flatten (Flatten)           (None, 170528)            0         \n",
      "                                                                 \n",
      " dense (Dense)               (None, 120)               20463480  \n",
      "                                                                 \n",
      " dropout (Dropout)           (None, 120)               0         \n",
      "                                                                 \n",
      " dense_1 (Dense)             (None, 32)                3872      \n",
      "                                                                 \n",
      " dense_2 (Dense)             (None, 1)                 33        \n",
      "                                                                 \n",
      "=================================================================\n",
      "Total params: 20,487,641\n",
      "Trainable params: 20,487,641\n",
      "Non-trainable params: 0\n",
      "_________________________________________________________________\n"
     ]
    }
   ],
   "source": [
    "inputs = Input(shape=(150, 150, 3))\n",
    "Conv1 = Conv2D(64, kernel_size=3, activation='relu')(inputs)\n",
    "Conv2 = Conv2D(32, kernel_size=3, activation='relu')(Conv1)\n",
    "max_pool = MaxPooling2D(pool_size=2)(Conv2)\n",
    "flatten_layer = Flatten()(max_pool)\n",
    "dense1 = Dense(120, activation='relu')(flatten_layer)\n",
    "drop_out = Dropout(0.2)(dense1)\n",
    "dense2 = Dense(32, activation='relu')(drop_out)\n",
    "output = Dense(1, activation='sigmoid')(dense2)\n",
    "\n",
    "alz_model = Model(inputs = inputs, outputs=output)\n",
    "\n",
    "alz_model.summary()"
   ]
  },
  {
   "cell_type": "code",
   "execution_count": 9,
   "metadata": {},
   "outputs": [],
   "source": [
    "alz_model.compile(loss='binary_crossentropy',\n",
    "                  optimizer='adam',\n",
    "                  metrics=['acc'])\n",
    "early_stop = EarlyStopping(patience=10)\n",
    "check_model = ModelCheckpoint(filepath='./alz_model.hdf5',\n",
    "                                                 save_best_only=True)"
   ]
  },
  {
   "cell_type": "code",
   "execution_count": 10,
   "metadata": {},
   "outputs": [
    {
     "name": "stdout",
     "output_type": "stream",
     "text": [
      "Epoch 1/100\n",
      "12/12 [==============================] - 13s 915ms/step - loss: 0.9121 - acc: 0.5045 - val_loss: 0.6751 - val_acc: 0.5893\n",
      "Epoch 2/100\n",
      "12/12 [==============================] - 10s 844ms/step - loss: 0.6082 - acc: 0.7366 - val_loss: 0.5232 - val_acc: 0.6607\n",
      "Epoch 3/100\n",
      "12/12 [==============================] - 12s 1s/step - loss: 0.3901 - acc: 0.8571 - val_loss: 0.2334 - val_acc: 0.9464\n",
      "Epoch 4/100\n",
      "12/12 [==============================] - 12s 985ms/step - loss: 0.2426 - acc: 0.9062 - val_loss: 0.2141 - val_acc: 0.8929\n",
      "Epoch 5/100\n",
      "12/12 [==============================] - 12s 961ms/step - loss: 0.0961 - acc: 0.9688 - val_loss: 0.1066 - val_acc: 0.9821\n",
      "Epoch 6/100\n",
      "12/12 [==============================] - 12s 975ms/step - loss: 0.0544 - acc: 0.9821 - val_loss: 0.0776 - val_acc: 0.9821\n",
      "Epoch 7/100\n",
      "12/12 [==============================] - 12s 959ms/step - loss: 0.0300 - acc: 0.9911 - val_loss: 0.0555 - val_acc: 0.9821\n",
      "Epoch 8/100\n",
      "12/12 [==============================] - 12s 973ms/step - loss: 0.0114 - acc: 1.0000 - val_loss: 0.0553 - val_acc: 0.9821\n",
      "Epoch 9/100\n",
      "12/12 [==============================] - 11s 913ms/step - loss: 0.0091 - acc: 0.9955 - val_loss: 0.0616 - val_acc: 0.9821\n",
      "Epoch 10/100\n",
      "12/12 [==============================] - 11s 957ms/step - loss: 0.0052 - acc: 1.0000 - val_loss: 0.0352 - val_acc: 0.9643\n",
      "Epoch 11/100\n",
      "12/12 [==============================] - 11s 954ms/step - loss: 0.0040 - acc: 1.0000 - val_loss: 0.0370 - val_acc: 0.9821\n",
      "Epoch 12/100\n",
      "12/12 [==============================] - 12s 985ms/step - loss: 0.0018 - acc: 1.0000 - val_loss: 0.0416 - val_acc: 0.9821\n",
      "Epoch 13/100\n",
      "12/12 [==============================] - 12s 980ms/step - loss: 0.0031 - acc: 1.0000 - val_loss: 0.0321 - val_acc: 0.9821\n",
      "Epoch 14/100\n",
      "12/12 [==============================] - 12s 971ms/step - loss: 0.0028 - acc: 1.0000 - val_loss: 0.0694 - val_acc: 0.9821\n",
      "Epoch 15/100\n",
      "12/12 [==============================] - 11s 929ms/step - loss: 0.0018 - acc: 1.0000 - val_loss: 0.0350 - val_acc: 0.9821\n",
      "Epoch 16/100\n",
      "12/12 [==============================] - 12s 961ms/step - loss: 9.9571e-04 - acc: 1.0000 - val_loss: 0.0307 - val_acc: 0.9821\n",
      "Epoch 17/100\n",
      "12/12 [==============================] - 11s 930ms/step - loss: 0.0034 - acc: 1.0000 - val_loss: 0.0706 - val_acc: 0.9821\n",
      "Epoch 18/100\n",
      "12/12 [==============================] - 11s 927ms/step - loss: 6.3254e-04 - acc: 1.0000 - val_loss: 0.0421 - val_acc: 0.9821\n",
      "Epoch 19/100\n",
      "12/12 [==============================] - 11s 925ms/step - loss: 0.0011 - acc: 1.0000 - val_loss: 0.0403 - val_acc: 0.9821\n",
      "Epoch 20/100\n",
      "12/12 [==============================] - 11s 929ms/step - loss: 4.7285e-04 - acc: 1.0000 - val_loss: 0.0513 - val_acc: 0.9821\n",
      "Epoch 21/100\n",
      "12/12 [==============================] - 11s 922ms/step - loss: 3.1771e-04 - acc: 1.0000 - val_loss: 0.0541 - val_acc: 0.9821\n",
      "Epoch 22/100\n",
      "12/12 [==============================] - 11s 922ms/step - loss: 0.0013 - acc: 1.0000 - val_loss: 0.0381 - val_acc: 0.9821\n",
      "Epoch 23/100\n",
      "12/12 [==============================] - 11s 948ms/step - loss: 9.3221e-04 - acc: 1.0000 - val_loss: 0.0398 - val_acc: 0.9821\n",
      "Epoch 24/100\n",
      "12/12 [==============================] - 11s 954ms/step - loss: 4.0299e-04 - acc: 1.0000 - val_loss: 0.0636 - val_acc: 0.9821\n",
      "Epoch 25/100\n",
      "12/12 [==============================] - 11s 937ms/step - loss: 3.2532e-04 - acc: 1.0000 - val_loss: 0.0447 - val_acc: 0.9821\n",
      "Epoch 26/100\n",
      "12/12 [==============================] - 11s 910ms/step - loss: 2.9012e-04 - acc: 1.0000 - val_loss: 0.0333 - val_acc: 0.9821\n"
     ]
    }
   ],
   "source": [
    "history = alz_model.fit(x_train, y_train, epochs=100,\n",
    "                        batch_size=20,\n",
    "                        validation_data=(X_val, y_val),\n",
    "                        callbacks=[early_stop, check_model])"
   ]
  },
  {
   "cell_type": "code",
   "execution_count": 11,
   "metadata": {},
   "outputs": [
    {
     "name": "stdout",
     "output_type": "stream",
     "text": [
      "2/2 [==============================] - 0s 169ms/step - loss: 0.0333 - acc: 0.9821\n"
     ]
    },
    {
     "data": {
      "text/plain": [
       "[0.033322982490062714, 0.9821428656578064]"
      ]
     },
     "execution_count": 11,
     "metadata": {},
     "output_type": "execute_result"
    }
   ],
   "source": [
    "alz_model.evaluate(X_val, y_val)"
   ]
  },
  {
   "cell_type": "code",
   "execution_count": 12,
   "metadata": {},
   "outputs": [
    {
     "data": {
      "image/png": "[encoded data removed]",
      "text/plain": [
       "<Figure size 640x480 with 1 Axes>"
      ]
     },
     "metadata": {},
     "output_type": "display_data"
    }
   ],
   "source": [
    "val_loss = history.history['val_loss']\n",
    "train_loss = history.history['loss']\n",
    "\n",
    "plt.plot(val_loss, marker='.', c='r', label='validation_loss')\n",
    "plt.plot(train_loss, marker='.', c='b', label='train_loss')\n",
    "plt.legend()\n",
    "plt.grid()\n",
    "plt.xlabel('Epochs')\n",
    "plt.ylabel('Loss')\n",
    "plt.show()"
   ]
  },
  {
   "cell_type": "code",
   "execution_count": 13,
   "metadata": {},
   "outputs": [],
   "source": [
    "target = np.array([1]*len(img_path_ad) + [0]*len(img_path_normal))\n",
    "\n",
    "def img_prep(x):\n",
    "    x = load_img(x)\n",
    "    x = img_to_array(x)\n",
    "    x = np.expand_dims(x, axis=0)\n",
    "    x = preprocess_input(x)\n",
    "\n",
    "    return x"
   ]
  },
  {
   "cell_type": "code",
   "execution_count": 15,
   "metadata": {},
   "outputs": [
    {
     "data": {
      "text/plain": [
       "(280, 150, 150, 3)"
      ]
     },
     "execution_count": 15,
     "metadata": {},
     "output_type": "execute_result"
    }
   ],
   "source": [
    "imgs = np.zeros((0, 150, 150, 3), np.float32)\n",
    "\n",
    "for i in img_paths:\n",
    "    x = img_prep(i)\n",
    "    imgs = np.append(imgs, img, axis=0)\n",
    "\n",
    "imgs.shape"
   ]
  },
  {
   "cell_type": "code",
   "execution_count": 16,
   "metadata": {},
   "outputs": [],
   "source": [
    "X_train, X_val, y_train, y_val = train_test_split(imgs, target, test_size=0.2,\n",
    "                                                  shuffle=True)"
   ]
  },
  {
   "cell_type": "code",
   "execution_count": 17,
   "metadata": {},
   "outputs": [
    {
     "name": "stdout",
     "output_type": "stream",
     "text": [
      "Model: \"vgg16\"\n",
      "_________________________________________________________________\n",
      " Layer (type)                Output Shape              Param #   \n",
      "=================================================================\n",
      " input_2 (InputLayer)        [(None, 150, 150, 3)]     0         \n",
      "                                                                 \n",
      " block1_conv1 (Conv2D)       (None, 150, 150, 64)      1792      \n",
      "                                                                 \n",
      " block1_conv2 (Conv2D)       (None, 150, 150, 64)      36928     \n",
      "                                                                 \n",
      " block1_pool (MaxPooling2D)  (None, 75, 75, 64)        0         \n",
      "                                                                 \n",
      " block2_conv1 (Conv2D)       (None, 75, 75, 128)       73856     \n",
      "                                                                 \n",
      " block2_conv2 (Conv2D)       (None, 75, 75, 128)       147584    \n",
      "                                                                 \n",
      " block2_pool (MaxPooling2D)  (None, 37, 37, 128)       0         \n",
      "                                                                 \n",
      " block3_conv1 (Conv2D)       (None, 37, 37, 256)       295168    \n",
      "                                                                 \n",
      " block3_conv2 (Conv2D)       (None, 37, 37, 256)       590080    \n",
      "                                                                 \n",
      " block3_conv3 (Conv2D)       (None, 37, 37, 256)       590080    \n",
      "                                                                 \n",
      " block3_pool (MaxPooling2D)  (None, 18, 18, 256)       0         \n",
      "                                                                 \n",
      " block4_conv1 (Conv2D)       (None, 18, 18, 512)       1180160   \n",
      "                                                                 \n",
      " block4_conv2 (Conv2D)       (None, 18, 18, 512)       2359808   \n",
      "                                                                 \n",
      " block4_conv3 (Conv2D)       (None, 18, 18, 512)       2359808   \n",
      "                                                                 \n",
      " block4_pool (MaxPooling2D)  (None, 9, 9, 512)         0         \n",
      "                                                                 \n",
      " block5_conv1 (Conv2D)       (None, 9, 9, 512)         2359808   \n",
      "                                                                 \n",
      " block5_conv2 (Conv2D)       (None, 9, 9, 512)         2359808   \n",
      "                                                                 \n",
      " block5_conv3 (Conv2D)       (None, 9, 9, 512)         2359808   \n",
      "                                                                 \n",
      " block5_pool (MaxPooling2D)  (None, 4, 4, 512)         0         \n",
      "                                                                 \n",
      "=================================================================\n",
      "Total params: 14,714,688\n",
      "Trainable params: 0\n",
      "Non-trainable params: 14,714,688\n",
      "_________________________________________________________________\n"
     ]
    }
   ],
   "source": [
    "transfer_vgg16 = VGG16(\n",
    "    weights='imagenet',\n",
    "    include_top=False,\n",
    "    input_shape=(150, 150, 3)\n",
    ")\n",
    "\n",
    "transfer_vgg16.trainable = False\n",
    "transfer_vgg16.summary()"
   ]
  },
  {
   "cell_type": "code",
   "execution_count": 19,
   "metadata": {},
   "outputs": [
    {
     "name": "stdout",
     "output_type": "stream",
     "text": [
      "Model: \"sequential\"\n",
      "_________________________________________________________________\n",
      " Layer (type)                Output Shape              Param #   \n",
      "=================================================================\n",
      " vgg16 (Functional)          (None, 4, 4, 512)         14714688  \n",
      "                                                                 \n",
      " flatten_1 (Flatten)         (None, 8192)              0         \n",
      "                                                                 \n",
      " dense_3 (Dense)             (None, 64)                524352    \n",
      "                                                                 \n",
      " dropout_1 (Dropout)         (None, 64)                0         \n",
      "                                                                 \n",
      " dense_4 (Dense)             (None, 1)                 65        \n",
      "                                                                 \n",
      "=================================================================\n",
      "Total params: 15,239,105\n",
      "Trainable params: 524,417\n",
      "Non-trainable params: 14,714,688\n",
      "_________________________________________________________________\n"
     ]
    }
   ],
   "source": [
    "finetun_vgg6 = Sequential()\n",
    "finetun_vgg6.add(transfer_vgg16)\n",
    "finetun_vgg6.add(Flatten())\n",
    "finetun_vgg6.add(Dense(64, activation='relu'))\n",
    "finetun_vgg6.add(Dropout(0.2))\n",
    "finetun_vgg6.add(Dense(1, activation='sigmoid'))\n",
    "finetun_vgg6.summary()"
   ]
  },
  {
   "cell_type": "code",
   "execution_count": 20,
   "metadata": {},
   "outputs": [],
   "source": [
    "alz_model.compile(loss='binary_crossentropy',\n",
    "                  optimizer='adam',\n",
    "                  metrics=['acc'])\n",
    "early_stop = EarlyStopping(patience=10)\n",
    "check_model = ModelCheckpoint(filepath='./alz_model_another.hdf5',\n",
    "                                                 save_best_only=True)"
   ]
  },
  {
   "cell_type": "code",
   "execution_count": 21,
   "metadata": {},
   "outputs": [
    {
     "name": "stdout",
     "output_type": "stream",
     "text": [
      "Epoch 1/100\n",
      "12/12 [==============================] - 14s 982ms/step - loss: 1.7283 - acc: 0.5357 - val_loss: 0.6913 - val_acc: 0.5357\n",
      "Epoch 2/100\n",
      "12/12 [==============================] - 12s 1s/step - loss: 0.6932 - acc: 0.5312 - val_loss: 0.6929 - val_acc: 0.5357\n",
      "Epoch 3/100\n",
      "12/12 [==============================] - 12s 971ms/step - loss: 0.6931 - acc: 0.5134 - val_loss: 0.6933 - val_acc: 0.4643\n",
      "Epoch 4/100\n",
      "12/12 [==============================] - 11s 948ms/step - loss: 0.6931 - acc: 0.5045 - val_loss: 0.6934 - val_acc: 0.4643\n",
      "Epoch 5/100\n",
      "12/12 [==============================] - 11s 957ms/step - loss: 0.7034 - acc: 0.4955 - val_loss: 0.6931 - val_acc: 0.5357\n",
      "Epoch 6/100\n",
      "12/12 [==============================] - 12s 1s/step - loss: 0.6928 - acc: 0.5357 - val_loss: 0.6930 - val_acc: 0.5357\n",
      "Epoch 7/100\n",
      "12/12 [==============================] - 12s 957ms/step - loss: 0.6923 - acc: 0.5580 - val_loss: 0.6914 - val_acc: 0.5357\n",
      "Epoch 8/100\n",
      "12/12 [==============================] - 12s 1s/step - loss: 0.6903 - acc: 0.5848 - val_loss: 0.6929 - val_acc: 0.5357\n",
      "Epoch 9/100\n",
      "12/12 [==============================] - 13s 1s/step - loss: 0.6917 - acc: 0.5357 - val_loss: 0.6912 - val_acc: 0.5357\n",
      "Epoch 10/100\n",
      "12/12 [==============================] - 13s 1s/step - loss: 0.6899 - acc: 0.5268 - val_loss: 0.6906 - val_acc: 0.5357\n",
      "Epoch 11/100\n",
      "12/12 [==============================] - 13s 1s/step - loss: 0.6831 - acc: 0.5759 - val_loss: 0.6953 - val_acc: 0.5357\n",
      "Epoch 12/100\n",
      "12/12 [==============================] - 12s 1s/step - loss: 0.6678 - acc: 0.5848 - val_loss: 0.7687 - val_acc: 0.5357\n",
      "Epoch 13/100\n",
      "12/12 [==============================] - 12s 1s/step - loss: 0.6411 - acc: 0.6295 - val_loss: 0.7537 - val_acc: 0.5357\n",
      "Epoch 14/100\n",
      "12/12 [==============================] - 12s 1s/step - loss: 0.6206 - acc: 0.6786 - val_loss: 0.8801 - val_acc: 0.5357\n",
      "Epoch 15/100\n",
      "12/12 [==============================] - 12s 997ms/step - loss: 0.5817 - acc: 0.7009 - val_loss: 1.8159 - val_acc: 0.5357\n",
      "Epoch 16/100\n",
      "12/12 [==============================] - 12s 992ms/step - loss: 0.5194 - acc: 0.7188 - val_loss: 1.7033 - val_acc: 0.5357\n",
      "Epoch 17/100\n",
      "12/12 [==============================] - 13s 1s/step - loss: 0.4496 - acc: 0.7812 - val_loss: 1.6311 - val_acc: 0.5357\n",
      "Epoch 18/100\n",
      "12/12 [==============================] - 13s 1s/step - loss: 0.3507 - acc: 0.8438 - val_loss: 2.2694 - val_acc: 0.5357\n",
      "Epoch 19/100\n",
      "12/12 [==============================] - 12s 998ms/step - loss: 0.3281 - acc: 0.8705 - val_loss: 2.2757 - val_acc: 0.5357\n",
      "Epoch 20/100\n",
      "12/12 [==============================] - 12s 1s/step - loss: 0.2742 - acc: 0.8884 - val_loss: 2.0620 - val_acc: 0.5357\n"
     ]
    }
   ],
   "source": [
    "history_another = alz_model.fit(x_train, y_train, epochs=100,\n",
    "                        batch_size=20,\n",
    "                        validation_data=(X_val, y_val),\n",
    "                        callbacks=[early_stop, check_model])"
   ]
  },
  {
   "cell_type": "code",
   "execution_count": null,
   "metadata": {},
   "outputs": [],
   "source": []
  }
 ],
 "metadata": {
  "kernelspec": {
   "display_name": "Python 3",
   "language": "python",
   "name": "python3"
  },
  "language_info": {
   "codemirror_mode": {
    "name": "ipython",
    "version": 3
   },
   "file_extension": ".py",
   "mimetype": "text/x-python",
   "name": "python",
   "nbconvert_exporter": "python",
   "pygments_lexer": "ipython3",
   "version": "3.11.3"
  },
  "orig_nbformat": 4
 },
 "nbformat": 4,
 "nbformat_minor": 2
}

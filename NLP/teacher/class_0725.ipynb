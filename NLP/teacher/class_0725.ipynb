{
 "cells": [
  {
   "cell_type": "code",
   "execution_count": 1,
   "metadata": {},
   "outputs": [],
   "source": [
    "import tensorflow as tf\n",
    "from tensorflow import keras\n",
    "import numpy as np\n",
    "import pandas as pd\n",
    "import matplotlib.pyplot as plt\n"
   ]
  },
  {
   "cell_type": "code",
   "execution_count": 4,
   "metadata": {},
   "outputs": [
    {
     "name": "stdout",
     "output_type": "stream",
     "text": [
      "Model: \"sequential_1\"\n",
      "_________________________________________________________________\n",
      " Layer (type)                Output Shape              Param #   \n",
      "=================================================================\n",
      " dense (Dense)               (None, 64)                704       \n",
      "                                                                 \n",
      " dropout (Dropout)           (None, 64)                0         \n",
      "                                                                 \n",
      " dense_1 (Dense)             (None, 32)                2080      \n",
      "                                                                 \n",
      " dense_2 (Dense)             (None, 1)                 33        \n",
      "                                                                 \n",
      "=================================================================\n",
      "Total params: 2,817\n",
      "Trainable params: 2,817\n",
      "Non-trainable params: 0\n",
      "_________________________________________________________________\n"
     ]
    }
   ],
   "source": [
    "## Sequential\n",
    "\n",
    "model_seq = keras.Sequential()\n",
    "model_seq.add(keras.Input(shape = (10, ), name = 'Inputlayer'))\n",
    "model_seq.add(keras.layers.Dense(64, 'relu'))\n",
    "model_seq.add(keras.layers.Dropout(0.2))\n",
    "model_seq.add(keras.layers.Dense(32,'relu'))\n",
    "model_seq.add(keras.layers.Dense(1,'sigmoid'))\n",
    "\n",
    "model_seq.summary()\n",
    "\n",
    "model_seq = keras.Sequential([\n",
    "    keras.Input(shape = (10, ), name = 'Inputlayer'),\n",
    "    keras.layers.Dense(64, 'relu'),\n",
    "    keras.layers.Dense(1,'sigmoid')\n",
    "])\n"
   ]
  },
  {
   "cell_type": "code",
   "execution_count": 6,
   "metadata": {},
   "outputs": [
    {
     "name": "stdout",
     "output_type": "stream",
     "text": [
      "Model: \"Functional_api\"\n",
      "_________________________________________________________________\n",
      " Layer (type)                Output Shape              Param #   \n",
      "=================================================================\n",
      " input_3 (InputLayer)        [(None, 10)]              0         \n",
      "                                                                 \n",
      " dense_5 (Dense)             (None, 64)                704       \n",
      "                                                                 \n",
      " dropout_2 (Dropout)         (None, 64)                0         \n",
      "                                                                 \n",
      " dense_6 (Dense)             (None, 10)                650       \n",
      "                                                                 \n",
      "=================================================================\n",
      "Total params: 1,354\n",
      "Trainable params: 1,354\n",
      "Non-trainable params: 0\n",
      "_________________________________________________________________\n"
     ]
    }
   ],
   "source": [
    "## Functional API\n",
    "inputs = keras.Input(shape = (10, ))\n",
    "hidden1 = keras.layers.Dense(64, 'relu')(inputs)\n",
    "dropout  = keras.layers.Dropout(0.2)(hidden1)\n",
    "hidden2 = keras.layers.Dense(10, 'softmax')(dropout)\n",
    "\n",
    "model_fun = keras.Model(inputs, hidden2, name = 'Functional_api')\n",
    "model_fun.summary()"
   ]
  },
  {
   "cell_type": "code",
   "execution_count": 10,
   "metadata": {},
   "outputs": [],
   "source": [
    "## Subclasing API\n",
    "\n",
    "class Model_sub(keras.Model):\n",
    "    def __init__(self, hidden, dropout, outputs):\n",
    "        super(Model_sub, self).__init__()\n",
    "        self.hidden = keras.layers.Dense(hidden, 'relu')\n",
    "        self.dropout = keras.layers.Dropout(dropout)\n",
    "        self.outputs = keras.layers.Dense(outputs, 'softmax')\n",
    "        \n",
    "    def call(self, inputs):\n",
    "        x = self.hidden(inputs)\n",
    "        x = self.dropout(x)\n",
    "        x = self.outputs(x)\n",
    "        return x\n",
    "        \n",
    "model_sub = Model_sub(64, 0.2, 10)"
   ]
  },
  {
   "cell_type": "code",
   "execution_count": 11,
   "metadata": {},
   "outputs": [
    {
     "name": "stdout",
     "output_type": "stream",
     "text": [
      "Model: \"model_sub_3\"\n",
      "_________________________________________________________________\n",
      " Layer (type)                Output Shape              Param #   \n",
      "=================================================================\n",
      " dense_13 (Dense)            multiple                  6464      \n",
      "                                                                 \n",
      " dropout_6 (Dropout)         multiple                  0         \n",
      "                                                                 \n",
      " dense_14 (Dense)            multiple                  650       \n",
      "                                                                 \n",
      "=================================================================\n",
      "Total params: 7,114\n",
      "Trainable params: 7,114\n",
      "Non-trainable params: 0\n",
      "_________________________________________________________________\n"
     ]
    }
   ],
   "source": [
    "model_sub.build(input_shape=(1, 100))\n",
    "model_sub.summary()"
   ]
  },
  {
   "cell_type": "code",
   "execution_count": 13,
   "metadata": {},
   "outputs": [],
   "source": [
    "## Sentimental analysis\n",
    "samples = np.array(['너 오늘 이뻐 보인다',\n",
    "          '나는 오늘 기분이 더러워',\n",
    "          '끝내주는데, 좋은 일이 있나봐',\n",
    "          '나 좋은 일이 생겼어',\n",
    "          '아 오늘 진짜 짜증나',\n",
    "          '환상적인데, 정말 좋은거 같아'])\n",
    "targets = np.array([[1], [0], [1], [1], [0], [1]])"
   ]
  },
  {
   "cell_type": "code",
   "execution_count": 18,
   "metadata": {},
   "outputs": [
    {
     "data": {
      "text/plain": [
       "list"
      ]
     },
     "execution_count": 18,
     "metadata": {},
     "output_type": "execute_result"
    }
   ],
   "source": [
    "tokenizer = keras.preprocessing.text.Tokenizer()\n",
    "tokenizer.fit_on_texts(samples)\n",
    "# sequences = tokenizer.\n",
    "tokenizer.word_counts\n",
    "tokenizer.word_index\n",
    "\n",
    "sequences = tokenizer.texts_to_sequences(samples)\n",
    "input_seq = np.array(sequences)"
   ]
  },
  {
   "cell_type": "code",
   "execution_count": 20,
   "metadata": {},
   "outputs": [],
   "source": [
    "batch_size = 2\n",
    "epochs = 10\n",
    "vocab_size = len(tokenizer.word_index) + 1\n",
    "emb_size = 128\n",
    "hidden1 = 256\n",
    "hidden2 = 1"
   ]
  },
  {
   "cell_type": "code",
   "execution_count": 21,
   "metadata": {},
   "outputs": [],
   "source": [
    "class Sentimental_analy(keras.Model):\n",
    "    def __init__(self, vocab_size, emb_size, hidden1, hidden2):\n",
    "        super(Sentimental_analy, self).__init__()\n",
    "        self.embedding = keras.layers.Embedding(vocab_size, emb_size)\n",
    "        self.dense = keras.layers.Dense(hidden1, 'relu')\n",
    "        self.outputs = keras.layers.Dense(hidden2, 'sigmoid')\n",
    "        \n",
    "    def call(self, inputs):\n",
    "        x = self.embedding(inputs)\n",
    "        x = tf.reduce_mean(x, axis = 1)\n",
    "        x = self.dense(x)\n",
    "        x = self.outputs(x)\n",
    "        return x\n",
    "    \n",
    "sentimental_analy = Sentimental_analy(vocab_size, emb_size, hidden1, hidden2)"
   ]
  },
  {
   "cell_type": "code",
   "execution_count": null,
   "metadata": {},
   "outputs": [],
   "source": [
    "sentimental_analy.compile()\n",
    "sentimental_analy.fit()"
   ]
  },
  {
   "cell_type": "code",
   "execution_count": 22,
   "metadata": {},
   "outputs": [],
   "source": [
    "from sklearn.feature_extraction.text import CountVectorizer, TfidfVectorizer"
   ]
  },
  {
   "cell_type": "code",
   "execution_count": 24,
   "metadata": {},
   "outputs": [],
   "source": [
    "text_data = ['나는 배가 고프다', \n",
    "             '내일 점심 뭐먹지', \n",
    "             '내일 공부 해야겠다', \n",
    "             '점심 먹고 공부 해야지']"
   ]
  },
  {
   "cell_type": "code",
   "execution_count": 31,
   "metadata": {},
   "outputs": [
    {
     "name": "stdout",
     "output_type": "stream",
     "text": [
      "[[1 0 1 0 0 0 1 0 0 0]\n",
      " [0 0 0 1 0 1 0 1 0 0]\n",
      " [0 1 0 1 0 0 0 0 1 0]\n",
      " [0 1 0 0 1 0 0 1 0 1]]\n",
      "==================================================\n",
      "[[0.57735027 0.         0.57735027 0.         0.         0.\n",
      "  0.57735027 0.         0.         0.        ]\n",
      " [0.         0.         0.         0.52640543 0.         0.66767854\n",
      "  0.         0.52640543 0.         0.        ]\n",
      " [0.         0.52640543 0.         0.52640543 0.         0.\n",
      "  0.         0.         0.66767854 0.        ]\n",
      " [0.         0.43779123 0.         0.         0.55528266 0.\n",
      "  0.         0.43779123 0.         0.55528266]]\n"
     ]
    }
   ],
   "source": [
    "tokenizer = keras.preprocessing.text.Tokenizer()\n",
    "tokenizer.fit_on_texts(text_data)\n",
    "tokenizer.word_index\n",
    "\n",
    "text_data = ['나는 배가 고프다', \n",
    "             '내일 점심 뭐먹지', \n",
    "             '내일 공부 해야겠다', \n",
    "             '점심 먹고 공부 해야지']\n",
    "\n",
    "countVectorizer = CountVectorizer()\n",
    "countVectorizer.fit(text_data)\n",
    "Count_vector = countVectorizer.transform(text_data)\n",
    "DTM = Count_vector.toarray()\n",
    "print(DTM)\n",
    "print('='*50)\n",
    "tfidf_vectorizer = TfidfVectorizer()\n",
    "tfidf_vectorizer.fit(text_data)\n",
    "Tfidf_vector = tfidf_vectorizer.transform(text_data).toarray()\n",
    "TFIDF_matrix = Tfidf_vector\n",
    "print(TFIDF_matrix)"
   ]
  },
  {
   "cell_type": "code",
   "execution_count": 34,
   "metadata": {},
   "outputs": [],
   "source": [
    "## English tokenizer\n",
    "# ! pip install nltk\n",
    "import nltk"
   ]
  },
  {
   "cell_type": "code",
   "execution_count": 36,
   "metadata": {},
   "outputs": [
    {
     "name": "stderr",
     "output_type": "stream",
     "text": [
      "[nltk_data] Downloading collection 'all-corpora'\n",
      "[nltk_data]    | \n",
      "[nltk_data]    | Downloading package abc to\n",
      "[nltk_data]    |     C:\\Users\\ETV\\AppData\\Roaming\\nltk_data...\n",
      "[nltk_data]    |   Unzipping corpora\\abc.zip.\n",
      "[nltk_data]    | Downloading package alpino to\n",
      "[nltk_data]    |     C:\\Users\\ETV\\AppData\\Roaming\\nltk_data...\n",
      "[nltk_data]    |   Unzipping corpora\\alpino.zip.\n",
      "[nltk_data]    | Downloading package bcp47 to\n",
      "[nltk_data]    |     C:\\Users\\ETV\\AppData\\Roaming\\nltk_data...\n",
      "[nltk_data]    | Downloading package biocreative_ppi to\n",
      "[nltk_data]    |     C:\\Users\\ETV\\AppData\\Roaming\\nltk_data...\n",
      "[nltk_data]    |   Unzipping corpora\\biocreative_ppi.zip.\n",
      "[nltk_data]    | Downloading package brown to\n",
      "[nltk_data]    |     C:\\Users\\ETV\\AppData\\Roaming\\nltk_data...\n",
      "[nltk_data]    |   Unzipping corpora\\brown.zip.\n",
      "[nltk_data]    | Downloading package brown_tei to\n",
      "[nltk_data]    |     C:\\Users\\ETV\\AppData\\Roaming\\nltk_data...\n",
      "[nltk_data]    |   Unzipping corpora\\brown_tei.zip.\n",
      "[nltk_data]    | Downloading package cess_cat to\n",
      "[nltk_data]    |     C:\\Users\\ETV\\AppData\\Roaming\\nltk_data...\n",
      "[nltk_data]    |   Unzipping corpora\\cess_cat.zip.\n",
      "[nltk_data]    | Downloading package cess_esp to\n",
      "[nltk_data]    |     C:\\Users\\ETV\\AppData\\Roaming\\nltk_data...\n",
      "[nltk_data]    |   Unzipping corpora\\cess_esp.zip.\n",
      "[nltk_data]    | Downloading package chat80 to\n",
      "[nltk_data]    |     C:\\Users\\ETV\\AppData\\Roaming\\nltk_data...\n",
      "[nltk_data]    |   Unzipping corpora\\chat80.zip.\n",
      "[nltk_data]    | Downloading package city_database to\n",
      "[nltk_data]    |     C:\\Users\\ETV\\AppData\\Roaming\\nltk_data...\n",
      "[nltk_data]    |   Unzipping corpora\\city_database.zip.\n",
      "[nltk_data]    | Downloading package cmudict to\n",
      "[nltk_data]    |     C:\\Users\\ETV\\AppData\\Roaming\\nltk_data...\n",
      "[nltk_data]    |   Unzipping corpora\\cmudict.zip.\n",
      "[nltk_data]    | Downloading package comparative_sentences to\n",
      "[nltk_data]    |     C:\\Users\\ETV\\AppData\\Roaming\\nltk_data...\n",
      "[nltk_data]    |   Unzipping corpora\\comparative_sentences.zip.\n",
      "[nltk_data]    | Downloading package comtrans to\n",
      "[nltk_data]    |     C:\\Users\\ETV\\AppData\\Roaming\\nltk_data...\n",
      "[nltk_data]    | Downloading package conll2000 to\n",
      "[nltk_data]    |     C:\\Users\\ETV\\AppData\\Roaming\\nltk_data...\n",
      "[nltk_data]    |   Unzipping corpora\\conll2000.zip.\n",
      "[nltk_data]    | Downloading package conll2002 to\n",
      "[nltk_data]    |     C:\\Users\\ETV\\AppData\\Roaming\\nltk_data...\n",
      "[nltk_data]    |   Unzipping corpora\\conll2002.zip.\n",
      "[nltk_data]    | Downloading package conll2007 to\n",
      "[nltk_data]    |     C:\\Users\\ETV\\AppData\\Roaming\\nltk_data...\n",
      "[nltk_data]    | Downloading package crubadan to\n",
      "[nltk_data]    |     C:\\Users\\ETV\\AppData\\Roaming\\nltk_data...\n",
      "[nltk_data]    |   Unzipping corpora\\crubadan.zip.\n",
      "[nltk_data]    | Downloading package dependency_treebank to\n",
      "[nltk_data]    |     C:\\Users\\ETV\\AppData\\Roaming\\nltk_data...\n",
      "[nltk_data]    |   Unzipping corpora\\dependency_treebank.zip.\n",
      "[nltk_data]    | Downloading package dolch to\n",
      "[nltk_data]    |     C:\\Users\\ETV\\AppData\\Roaming\\nltk_data...\n",
      "[nltk_data]    |   Unzipping corpora\\dolch.zip.\n",
      "[nltk_data]    | Downloading package europarl_raw to\n",
      "[nltk_data]    |     C:\\Users\\ETV\\AppData\\Roaming\\nltk_data...\n",
      "[nltk_data]    |   Unzipping corpora\\europarl_raw.zip.\n",
      "[nltk_data]    | Downloading package extended_omw to\n",
      "[nltk_data]    |     C:\\Users\\ETV\\AppData\\Roaming\\nltk_data...\n",
      "[nltk_data]    | Downloading package floresta to\n",
      "[nltk_data]    |     C:\\Users\\ETV\\AppData\\Roaming\\nltk_data...\n",
      "[nltk_data]    |   Unzipping corpora\\floresta.zip.\n",
      "[nltk_data]    | Downloading package framenet_v15 to\n",
      "[nltk_data]    |     C:\\Users\\ETV\\AppData\\Roaming\\nltk_data...\n",
      "[nltk_data]    |   Unzipping corpora\\framenet_v15.zip.\n",
      "[nltk_data]    | Downloading package framenet_v17 to\n",
      "[nltk_data]    |     C:\\Users\\ETV\\AppData\\Roaming\\nltk_data...\n",
      "[nltk_data]    |   Unzipping corpora\\framenet_v17.zip.\n",
      "[nltk_data]    | Downloading package gazetteers to\n",
      "[nltk_data]    |     C:\\Users\\ETV\\AppData\\Roaming\\nltk_data...\n",
      "[nltk_data]    |   Unzipping corpora\\gazetteers.zip.\n",
      "[nltk_data]    | Downloading package genesis to\n",
      "[nltk_data]    |     C:\\Users\\ETV\\AppData\\Roaming\\nltk_data...\n",
      "[nltk_data]    |   Unzipping corpora\\genesis.zip.\n",
      "[nltk_data]    | Downloading package gutenberg to\n",
      "[nltk_data]    |     C:\\Users\\ETV\\AppData\\Roaming\\nltk_data...\n",
      "[nltk_data]    |   Unzipping corpora\\gutenberg.zip.\n",
      "[nltk_data]    | Downloading package ieer to\n",
      "[nltk_data]    |     C:\\Users\\ETV\\AppData\\Roaming\\nltk_data...\n",
      "[nltk_data]    |   Unzipping corpora\\ieer.zip.\n",
      "[nltk_data]    | Downloading package inaugural to\n",
      "[nltk_data]    |     C:\\Users\\ETV\\AppData\\Roaming\\nltk_data...\n",
      "[nltk_data]    |   Unzipping corpora\\inaugural.zip.\n",
      "[nltk_data]    | Downloading package indian to\n",
      "[nltk_data]    |     C:\\Users\\ETV\\AppData\\Roaming\\nltk_data...\n",
      "[nltk_data]    |   Unzipping corpora\\indian.zip.\n",
      "[nltk_data]    | Downloading package jeita to\n",
      "[nltk_data]    |     C:\\Users\\ETV\\AppData\\Roaming\\nltk_data...\n",
      "[nltk_data]    | Downloading package kimmo to\n",
      "[nltk_data]    |     C:\\Users\\ETV\\AppData\\Roaming\\nltk_data...\n",
      "[nltk_data]    |   Unzipping corpora\\kimmo.zip.\n",
      "[nltk_data]    | Downloading package knbc to\n",
      "[nltk_data]    |     C:\\Users\\ETV\\AppData\\Roaming\\nltk_data...\n",
      "[nltk_data]    | Downloading package lin_thesaurus to\n",
      "[nltk_data]    |     C:\\Users\\ETV\\AppData\\Roaming\\nltk_data...\n",
      "[nltk_data]    |   Unzipping corpora\\lin_thesaurus.zip.\n",
      "[nltk_data]    | Downloading package mac_morpho to\n",
      "[nltk_data]    |     C:\\Users\\ETV\\AppData\\Roaming\\nltk_data...\n",
      "[nltk_data]    |   Unzipping corpora\\mac_morpho.zip.\n",
      "[nltk_data]    | Downloading package machado to\n",
      "[nltk_data]    |     C:\\Users\\ETV\\AppData\\Roaming\\nltk_data...\n",
      "[nltk_data]    | Downloading package masc_tagged to\n",
      "[nltk_data]    |     C:\\Users\\ETV\\AppData\\Roaming\\nltk_data...\n",
      "[nltk_data]    | Downloading package movie_reviews to\n",
      "[nltk_data]    |     C:\\Users\\ETV\\AppData\\Roaming\\nltk_data...\n",
      "[nltk_data]    |   Unzipping corpora\\movie_reviews.zip.\n",
      "[nltk_data]    | Downloading package mte_teip5 to\n",
      "[nltk_data]    |     C:\\Users\\ETV\\AppData\\Roaming\\nltk_data...\n",
      "[nltk_data]    |   Unzipping corpora\\mte_teip5.zip.\n",
      "[nltk_data]    | Downloading package names to\n",
      "[nltk_data]    |     C:\\Users\\ETV\\AppData\\Roaming\\nltk_data...\n",
      "[nltk_data]    |   Unzipping corpora\\names.zip.\n",
      "[nltk_data]    | Downloading package nombank.1.0 to\n",
      "[nltk_data]    |     C:\\Users\\ETV\\AppData\\Roaming\\nltk_data...\n",
      "[nltk_data]    | Downloading package nonbreaking_prefixes to\n",
      "[nltk_data]    |     C:\\Users\\ETV\\AppData\\Roaming\\nltk_data...\n",
      "[nltk_data]    |   Unzipping corpora\\nonbreaking_prefixes.zip.\n",
      "[nltk_data]    | Downloading package nps_chat to\n",
      "[nltk_data]    |     C:\\Users\\ETV\\AppData\\Roaming\\nltk_data...\n",
      "[nltk_data]    |   Unzipping corpora\\nps_chat.zip.\n",
      "[nltk_data]    | Downloading package omw to\n",
      "[nltk_data]    |     C:\\Users\\ETV\\AppData\\Roaming\\nltk_data...\n",
      "[nltk_data]    | Downloading package omw-1.4 to\n",
      "[nltk_data]    |     C:\\Users\\ETV\\AppData\\Roaming\\nltk_data...\n",
      "[nltk_data]    | Downloading package opinion_lexicon to\n",
      "[nltk_data]    |     C:\\Users\\ETV\\AppData\\Roaming\\nltk_data...\n",
      "[nltk_data]    |   Unzipping corpora\\opinion_lexicon.zip.\n",
      "[nltk_data]    | Downloading package panlex_swadesh to\n",
      "[nltk_data]    |     C:\\Users\\ETV\\AppData\\Roaming\\nltk_data...\n",
      "[nltk_data]    | Downloading package paradigms to\n",
      "[nltk_data]    |     C:\\Users\\ETV\\AppData\\Roaming\\nltk_data...\n",
      "[nltk_data]    |   Unzipping corpora\\paradigms.zip.\n",
      "[nltk_data]    | Downloading package pe08 to\n",
      "[nltk_data]    |     C:\\Users\\ETV\\AppData\\Roaming\\nltk_data...\n",
      "[nltk_data]    |   Unzipping corpora\\pe08.zip.\n",
      "[nltk_data]    | Downloading package pil to\n",
      "[nltk_data]    |     C:\\Users\\ETV\\AppData\\Roaming\\nltk_data...\n",
      "[nltk_data]    |   Unzipping corpora\\pil.zip.\n",
      "[nltk_data]    | Downloading package pl196x to\n",
      "[nltk_data]    |     C:\\Users\\ETV\\AppData\\Roaming\\nltk_data...\n",
      "[nltk_data]    |   Unzipping corpora\\pl196x.zip.\n",
      "[nltk_data]    | Downloading package ppattach to\n",
      "[nltk_data]    |     C:\\Users\\ETV\\AppData\\Roaming\\nltk_data...\n",
      "[nltk_data]    |   Unzipping corpora\\ppattach.zip.\n",
      "[nltk_data]    | Downloading package problem_reports to\n",
      "[nltk_data]    |     C:\\Users\\ETV\\AppData\\Roaming\\nltk_data...\n",
      "[nltk_data]    |   Unzipping corpora\\problem_reports.zip.\n",
      "[nltk_data]    | Downloading package product_reviews_1 to\n",
      "[nltk_data]    |     C:\\Users\\ETV\\AppData\\Roaming\\nltk_data...\n",
      "[nltk_data]    |   Unzipping corpora\\product_reviews_1.zip.\n",
      "[nltk_data]    | Downloading package product_reviews_2 to\n",
      "[nltk_data]    |     C:\\Users\\ETV\\AppData\\Roaming\\nltk_data...\n",
      "[nltk_data]    |   Unzipping corpora\\product_reviews_2.zip.\n",
      "[nltk_data]    | Downloading package propbank to\n",
      "[nltk_data]    |     C:\\Users\\ETV\\AppData\\Roaming\\nltk_data...\n",
      "[nltk_data]    | Downloading package pros_cons to\n",
      "[nltk_data]    |     C:\\Users\\ETV\\AppData\\Roaming\\nltk_data...\n",
      "[nltk_data]    |   Unzipping corpora\\pros_cons.zip.\n",
      "[nltk_data]    | Downloading package ptb to\n",
      "[nltk_data]    |     C:\\Users\\ETV\\AppData\\Roaming\\nltk_data...\n",
      "[nltk_data]    |   Unzipping corpora\\ptb.zip.\n",
      "[nltk_data]    | Downloading package qc to\n",
      "[nltk_data]    |     C:\\Users\\ETV\\AppData\\Roaming\\nltk_data...\n",
      "[nltk_data]    |   Unzipping corpora\\qc.zip.\n",
      "[nltk_data]    | Downloading package reuters to\n",
      "[nltk_data]    |     C:\\Users\\ETV\\AppData\\Roaming\\nltk_data...\n",
      "[nltk_data]    | Downloading package rte to\n",
      "[nltk_data]    |     C:\\Users\\ETV\\AppData\\Roaming\\nltk_data...\n",
      "[nltk_data]    |   Unzipping corpora\\rte.zip.\n",
      "[nltk_data]    | Downloading package semcor to\n",
      "[nltk_data]    |     C:\\Users\\ETV\\AppData\\Roaming\\nltk_data...\n",
      "[nltk_data]    | Downloading package senseval to\n",
      "[nltk_data]    |     C:\\Users\\ETV\\AppData\\Roaming\\nltk_data...\n",
      "[nltk_data]    |   Unzipping corpora\\senseval.zip.\n",
      "[nltk_data]    | Downloading package sentence_polarity to\n",
      "[nltk_data]    |     C:\\Users\\ETV\\AppData\\Roaming\\nltk_data...\n",
      "[nltk_data]    |   Unzipping corpora\\sentence_polarity.zip.\n",
      "[nltk_data]    | Downloading package sentiwordnet to\n",
      "[nltk_data]    |     C:\\Users\\ETV\\AppData\\Roaming\\nltk_data...\n",
      "[nltk_data]    |   Unzipping corpora\\sentiwordnet.zip.\n",
      "[nltk_data]    | Downloading package shakespeare to\n",
      "[nltk_data]    |     C:\\Users\\ETV\\AppData\\Roaming\\nltk_data...\n",
      "[nltk_data]    |   Unzipping corpora\\shakespeare.zip.\n",
      "[nltk_data]    | Downloading package sinica_treebank to\n",
      "[nltk_data]    |     C:\\Users\\ETV\\AppData\\Roaming\\nltk_data...\n",
      "[nltk_data]    |   Unzipping corpora\\sinica_treebank.zip.\n",
      "[nltk_data]    | Downloading package smultron to\n",
      "[nltk_data]    |     C:\\Users\\ETV\\AppData\\Roaming\\nltk_data...\n",
      "[nltk_data]    |   Unzipping corpora\\smultron.zip.\n",
      "[nltk_data]    | Downloading package state_union to\n",
      "[nltk_data]    |     C:\\Users\\ETV\\AppData\\Roaming\\nltk_data...\n",
      "[nltk_data]    |   Unzipping corpora\\state_union.zip.\n",
      "[nltk_data]    | Downloading package stopwords to\n",
      "[nltk_data]    |     C:\\Users\\ETV\\AppData\\Roaming\\nltk_data...\n",
      "[nltk_data]    |   Unzipping corpora\\stopwords.zip.\n",
      "[nltk_data]    | Downloading package subjectivity to\n",
      "[nltk_data]    |     C:\\Users\\ETV\\AppData\\Roaming\\nltk_data...\n",
      "[nltk_data]    |   Unzipping corpora\\subjectivity.zip.\n",
      "[nltk_data]    | Downloading package swadesh to\n",
      "[nltk_data]    |     C:\\Users\\ETV\\AppData\\Roaming\\nltk_data...\n",
      "[nltk_data]    |   Unzipping corpora\\swadesh.zip.\n",
      "[nltk_data]    | Downloading package switchboard to\n",
      "[nltk_data]    |     C:\\Users\\ETV\\AppData\\Roaming\\nltk_data...\n",
      "[nltk_data]    |   Unzipping corpora\\switchboard.zip.\n",
      "[nltk_data]    | Downloading package timit to\n",
      "[nltk_data]    |     C:\\Users\\ETV\\AppData\\Roaming\\nltk_data...\n",
      "[nltk_data]    |   Unzipping corpora\\timit.zip.\n",
      "[nltk_data]    | Downloading package toolbox to\n",
      "[nltk_data]    |     C:\\Users\\ETV\\AppData\\Roaming\\nltk_data...\n",
      "[nltk_data]    |   Unzipping corpora\\toolbox.zip.\n",
      "[nltk_data]    | Downloading package treebank to\n",
      "[nltk_data]    |     C:\\Users\\ETV\\AppData\\Roaming\\nltk_data...\n",
      "[nltk_data]    |   Unzipping corpora\\treebank.zip.\n",
      "[nltk_data]    | Downloading package twitter_samples to\n",
      "[nltk_data]    |     C:\\Users\\ETV\\AppData\\Roaming\\nltk_data...\n",
      "[nltk_data]    |   Unzipping corpora\\twitter_samples.zip.\n",
      "[nltk_data]    | Downloading package udhr to\n",
      "[nltk_data]    |     C:\\Users\\ETV\\AppData\\Roaming\\nltk_data...\n",
      "[nltk_data]    |   Unzipping corpora\\udhr.zip.\n",
      "[nltk_data]    | Downloading package udhr2 to\n",
      "[nltk_data]    |     C:\\Users\\ETV\\AppData\\Roaming\\nltk_data...\n",
      "[nltk_data]    |   Unzipping corpora\\udhr2.zip.\n",
      "[nltk_data]    | Downloading package unicode_samples to\n",
      "[nltk_data]    |     C:\\Users\\ETV\\AppData\\Roaming\\nltk_data...\n",
      "[nltk_data]    |   Unzipping corpora\\unicode_samples.zip.\n",
      "[nltk_data]    | Downloading package universal_treebanks_v20 to\n",
      "[nltk_data]    |     C:\\Users\\ETV\\AppData\\Roaming\\nltk_data...\n",
      "[nltk_data]    | Downloading package verbnet to\n",
      "[nltk_data]    |     C:\\Users\\ETV\\AppData\\Roaming\\nltk_data...\n",
      "[nltk_data]    |   Unzipping corpora\\verbnet.zip.\n",
      "[nltk_data]    | Downloading package verbnet3 to\n",
      "[nltk_data]    |     C:\\Users\\ETV\\AppData\\Roaming\\nltk_data...\n",
      "[nltk_data]    |   Unzipping corpora\\verbnet3.zip.\n",
      "[nltk_data]    | Downloading package webtext to\n",
      "[nltk_data]    |     C:\\Users\\ETV\\AppData\\Roaming\\nltk_data...\n",
      "[nltk_data]    |   Unzipping corpora\\webtext.zip.\n",
      "[nltk_data]    | Downloading package wordnet to\n",
      "[nltk_data]    |     C:\\Users\\ETV\\AppData\\Roaming\\nltk_data...\n",
      "[nltk_data]    | Downloading package wordnet2021 to\n",
      "[nltk_data]    |     C:\\Users\\ETV\\AppData\\Roaming\\nltk_data...\n",
      "[nltk_data]    | Downloading package wordnet2022 to\n",
      "[nltk_data]    |     C:\\Users\\ETV\\AppData\\Roaming\\nltk_data...\n",
      "[nltk_data]    |   Unzipping corpora\\wordnet2022.zip.\n",
      "[nltk_data]    | Downloading package wordnet31 to\n",
      "[nltk_data]    |     C:\\Users\\ETV\\AppData\\Roaming\\nltk_data...\n",
      "[nltk_data]    | Downloading package wordnet_ic to\n",
      "[nltk_data]    |     C:\\Users\\ETV\\AppData\\Roaming\\nltk_data...\n",
      "[nltk_data]    |   Unzipping corpora\\wordnet_ic.zip.\n",
      "[nltk_data]    | Downloading package words to\n",
      "[nltk_data]    |     C:\\Users\\ETV\\AppData\\Roaming\\nltk_data...\n",
      "[nltk_data]    |   Unzipping corpora\\words.zip.\n",
      "[nltk_data]    | Downloading package ycoe to\n",
      "[nltk_data]    |     C:\\Users\\ETV\\AppData\\Roaming\\nltk_data...\n",
      "[nltk_data]    |   Unzipping corpora\\ycoe.zip.\n",
      "[nltk_data]    | \n",
      "[nltk_data]  Done downloading collection all-corpora\n",
      "[nltk_data] Downloading package punkt to\n",
      "[nltk_data]     C:\\Users\\ETV\\AppData\\Roaming\\nltk_data...\n",
      "[nltk_data]   Package punkt is already up-to-date!\n"
     ]
    },
    {
     "data": {
      "text/plain": [
       "True"
      ]
     },
     "execution_count": 36,
     "metadata": {},
     "output_type": "execute_result"
    }
   ],
   "source": [
    "nltk.download('all-corpora')\n",
    "nltk.download('punkt')"
   ]
  },
  {
   "cell_type": "code",
   "execution_count": 46,
   "metadata": {},
   "outputs": [
    {
     "name": "stdout",
     "output_type": "stream",
     "text": [
      "Natural language processing (NLP) is a subfield of computer science, information engineering, and artificial intelligence concerned with the interactions between computers and human (natural) languages, in particular how to program computers to process and analyze large amounts of natural language data.\n"
     ]
    }
   ],
   "source": [
    "sentence = \"Natural language processing (NLP) is a subfield of computer science, \\\n",
    "information engineering, and artificial intelligence concerned \\\n",
    "with the interactions between computers and human (natural) languages, \\\n",
    "in particular how to program computers to process and analyze \\\n",
    "large amounts of natural language data.\"\n",
    "\n",
    "paragraph = \"Natural language processing (NLP) is a subfield of computer science, \\\n",
    "    information engineering, and artificial intelligence concerned with the \\\n",
    "    interactions between computers and human (natural) languages, \\\n",
    "    in particular how to program computers to process and analyze \\\n",
    "    large amounts of natural language data. \\\n",
    "    Challenges in natural language processing frequently involve speech recognition, \\\n",
    "    natural language understanding, and natural language generation.\"\n",
    "\n",
    "print(sentence)"
   ]
  },
  {
   "cell_type": "code",
   "execution_count": 38,
   "metadata": {},
   "outputs": [],
   "source": [
    "from nltk.tokenize import word_tokenize, sent_tokenize"
   ]
  },
  {
   "cell_type": "code",
   "execution_count": 48,
   "metadata": {},
   "outputs": [
    {
     "name": "stdout",
     "output_type": "stream",
     "text": [
      "['Natural', 'language', 'processing', '(', 'NLP', ')', 'is', 'a', 'subfield', 'of', 'computer', 'science', ',', 'information', 'engineering', ',', 'and', 'artificial', 'intelligence', 'concerned', 'with', 'the', 'interactions', 'between', 'computers', 'and', 'human', '(', 'natural', ')', 'languages', ',', 'in', 'particular', 'how', 'to', 'program', 'computers', 'to', 'process', 'and', 'analyze', 'large', 'amounts', 'of', 'natural', 'language', 'data', '.']\n"
     ]
    },
    {
     "data": {
      "text/plain": [
       "['Natural language processing (NLP) is a subfield of computer science,     information engineering, and artificial intelligence concerned with the     interactions between computers and human (natural) languages,     in particular how to program computers to process and analyze     large amounts of natural language data.',\n",
       " 'Challenges in natural language processing frequently involve speech recognition,     natural language understanding, and natural language generation.']"
      ]
     },
     "metadata": {},
     "output_type": "display_data"
    },
    {
     "data": {
      "text/plain": [
       "2"
      ]
     },
     "execution_count": 48,
     "metadata": {},
     "output_type": "execute_result"
    }
   ],
   "source": [
    "nltk_word = word_tokenize(sentence)\n",
    "print(nltk_word)\n",
    "# print(sentence.split())\n",
    "nltk_sent = sent_tokenize(paragraph)\n",
    "display(nltk_sent)\n",
    "len(nltk_sent)"
   ]
  },
  {
   "cell_type": "code",
   "execution_count": 2,
   "metadata": {},
   "outputs": [
    {
     "name": "stderr",
     "output_type": "stream",
     "text": [
      "java version \"1.8.0_381\"\n",
      "Java(TM) SE Runtime Environment (build 1.8.0_381-b09)\n",
      "Java HotSpot(TM) 64-Bit Server VM (build 25.381-b09, mixed mode)\n"
     ]
    }
   ],
   "source": [
    "! java -version"
   ]
  },
  {
   "cell_type": "code",
   "execution_count": 3,
   "metadata": {},
   "outputs": [
    {
     "data": {
      "text/plain": [
       "'3.8.16 (default, Jun 12 2023, 21:00:42) [MSC v.1916 64 bit (AMD64)]'"
      ]
     },
     "execution_count": 3,
     "metadata": {},
     "output_type": "execute_result"
    }
   ],
   "source": [
    "import sys\n",
    "sys.version"
   ]
  },
  {
   "cell_type": "code",
   "execution_count": 4,
   "metadata": {},
   "outputs": [
    {
     "name": "stdout",
     "output_type": "stream",
     "text": [
      "Processing c:\\users\\etv\\nbkim\\onedrive\\documents\\lecture_2019\\academy\\6_nlp\\tensorflow-ml-nlp-tf2-master\\2.nlp_prep\\jpype1-1.4.0-cp38-cp38-win_amd64.whl\n",
      "Installing collected packages: JPype1\n",
      "Successfully installed JPype1-1.4.0\n"
     ]
    }
   ],
   "source": [
    "! pip install ./JPype1-1.4.0-cp38-cp38-win_amd64.whl"
   ]
  },
  {
   "cell_type": "code",
   "execution_count": 5,
   "metadata": {},
   "outputs": [
    {
     "name": "stdout",
     "output_type": "stream",
     "text": [
      "Collecting konlpy\n",
      "  Downloading konlpy-0.6.0-py2.py3-none-any.whl (19.4 MB)\n",
      "                                              0.0/19.4 MB ? eta -:--:--\n",
      "                                              0.0/19.4 MB ? eta -:--:--\n",
      "                                              0.0/19.4 MB ? eta -:--:--\n",
      "                                             0.0/19.4 MB 219.4 kB/s eta 0:01:29\n",
      "                                             0.1/19.4 MB 438.1 kB/s eta 0:00:45\n",
      "     -                                        0.9/19.4 MB 3.9 MB/s eta 0:00:05\n",
      "     ------------                             6.2/19.4 MB 22.0 MB/s eta 0:00:01\n",
      "     ----------------------                 11.5/19.4 MB 108.8 MB/s eta 0:00:01\n",
      "     ----------------------------            14.0/19.4 MB 93.0 MB/s eta 0:00:01\n",
      "     --------------------------------------  19.3/19.4 MB 93.9 MB/s eta 0:00:01\n",
      "     --------------------------------------  19.4/19.4 MB 93.9 MB/s eta 0:00:01\n",
      "     --------------------------------------- 19.4/19.4 MB 50.4 MB/s eta 0:00:00\n",
      "Requirement already satisfied: JPype1>=0.7.0 in c:\\users\\etv\\anaconda3\\envs\\py3.8\\lib\\site-packages (from konlpy) (1.4.0)\n",
      "Collecting lxml>=4.1.0 (from konlpy)\n",
      "  Downloading lxml-4.9.3-cp38-cp38-win_amd64.whl (3.9 MB)\n",
      "                                              0.0/3.9 MB ? eta -:--:--\n",
      "     ---------------------------------------  3.9/3.9 MB 125.5 MB/s eta 0:00:01\n",
      "     ---------------------------------------- 3.9/3.9 MB 62.8 MB/s eta 0:00:00\n",
      "Requirement already satisfied: numpy>=1.6 in c:\\users\\etv\\anaconda3\\envs\\py3.8\\lib\\site-packages (from konlpy) (1.23.5)\n",
      "Installing collected packages: lxml, konlpy\n",
      "Successfully installed konlpy-0.6.0 lxml-4.9.3\n"
     ]
    }
   ],
   "source": [
    "! pip install konlpy"
   ]
  },
  {
   "cell_type": "code",
   "execution_count": 7,
   "metadata": {},
   "outputs": [],
   "source": [
    "from konlpy.tag import Okt"
   ]
  },
  {
   "cell_type": "code",
   "execution_count": 8,
   "metadata": {},
   "outputs": [],
   "source": [
    "okt = Okt()"
   ]
  },
  {
   "cell_type": "code",
   "execution_count": 18,
   "metadata": {},
   "outputs": [
    {
     "name": "stdout",
     "output_type": "stream",
     "text": [
      "['한글', '자연어', '처리는', '재밌다', '이제부터', '열심히', '해야ㅎㅎㅎ']\n",
      "['한글', '자연어', '처리', '이제']\n",
      "['한글', '자연어', '처리', '는', '재밌다', '이제', '부터', '열심히', '해야', 'ㅎㅎㅎ']\n",
      "['한글', '자연어', '처리', '는', '재밌다', '이제', '부터', '열심히', '하다', 'ㅎㅎㅎ']\n",
      "['한글', '한글 자연어', '한글 자연어 처리', '이제', '자연어', '처리']\n",
      "[('한글', 'Noun'), ('자연어', 'Noun'), ('처리', 'Noun'), ('는', 'Josa'), ('재밌다', 'Adjective'), ('이제', 'Noun'), ('부터', 'Josa'), ('열심히', 'Adverb'), ('해야', 'Verb'), ('ㅎㅎㅎ', 'KoreanParticle')]\n"
     ]
    }
   ],
   "source": [
    "text = \"한글 자연어 처리는 재밌다 이제부터 열심히 해야ㅎㅎㅎ\"\n",
    "print(text.split())\n",
    "print(okt.nouns(text))\n",
    "print(okt.morphs(text))\n",
    "print(okt.morphs(text, stem = True))\n",
    "print(okt.phrases(text))\n",
    "print(okt.pos(text))"
   ]
  },
  {
   "cell_type": "code",
   "execution_count": 19,
   "metadata": {},
   "outputs": [],
   "source": [
    "from konlpy.corpus import kolaw, kobill"
   ]
  },
  {
   "cell_type": "code",
   "execution_count": 24,
   "metadata": {},
   "outputs": [
    {
     "name": "stdout",
     "output_type": "stream",
     "text": [
      "지방공무원법 일부개정법률안\n",
      "\n",
      "(정의화의원 대표발의 )\n",
      "\n",
      " 의 안\n",
      " 번 호\n",
      "\n",
      "9890\n",
      "\n",
      "발의연월일 : 2010.  11.  12.  \n",
      "\n",
      "발  의  자 : 정의화․이명수․김을동 \n",
      "\n",
      "이사철․여상규․안규백\n",
      "\n",
      "황영철․박영아․김정훈\n",
      "\n",
      "김학송 의원(10인)\n",
      "\n",
      "제안이유 및 주요내용\n",
      "\n",
      "  초등학교 저학년의 경우에도 부모의 따뜻한 사랑과 보살핌이 필요\n",
      "\n",
      "한 나이이나, 현재 공무원이 자녀를 양육하기 위하여 육아휴직을 할 \n",
      "\n",
      "수 있는 자녀의 나이는 만 6세 이하로 되어 있어 초등학교 저학년인 \n",
      "\n",
      "자녀를 돌보기 위해서는 해당 부모님은 일자리를 그만 두어야 하고 \n",
      "\n",
      "이는 곧 출산의욕을 저하시키는 문제로 이어질 수 있을 것임.\n",
      "\n",
      "  따라서 육아휴직이 가능한 자녀의 연령을 만 8세 이하로 개정하려\n",
      "\n",
      "는 것임(안 제63조제2항제4호).\n",
      "\n",
      "- 1 -\n",
      "\n",
      "\f법률  제        호\n",
      "\n",
      "지방공무원법 일부개정법률안\n",
      "\n",
      "지방공무원법 일부를 다음과 같이 개정한다.\n",
      "\n",
      "제63조제2항제4호 중 “만 6세 이하의 초등학교 취학 전 자녀를”을 “만 \n",
      "\n",
      "8세 이하(취학 중인 경우에는 초등학교 2학년 이하를 말한다)의 자녀를”\n",
      "\n",
      "로 한다.\n",
      "\n",
      "부      칙\n",
      "\n",
      "이 법은 공포한 날부터 시행한다.\n",
      "\n",
      "- 3 -\n",
      "\n",
      "\f신 ·구조문대비표\n",
      "\n",
      "현      행\n",
      "\n",
      "개   정   안\n",
      "\n",
      "제63조(휴직) ① (생  략)\n",
      "\n",
      "제63조(휴직) ① (현행과 같음)\n",
      "\n",
      "  ② 공무원이 다음 각 호의 어\n",
      "\n",
      "  ② -------------------------\n",
      "\n",
      "느 하나에 해당하는 사유로 휴\n",
      "\n",
      "----------------------------\n",
      "\n",
      "직을 원하면 임용권자는 휴직\n",
      "\n",
      "----------------------------\n",
      "\n",
      "을 명할 수 있다. 다만, 제4호\n",
      "\n",
      "-------------.---------------\n",
      "\n",
      "의 경우에는 대통령령으로 정\n",
      "\n",
      "----------------------------\n",
      "\n",
      "하는 특별한 사정이 없으면 휴\n",
      "\n",
      "----------------------------\n",
      "\n",
      "직을 명하여야 한다.\n",
      "\n",
      "--------------.\n",
      "\n",
      "  1. ∼ 3. (생  략)\n",
      "\n",
      "  1. ∼ 3. (현행과 같음)\n",
      "\n",
      "  4. 만 6세 이하의 초등학교 취\n",
      "\n",
      "  4. 만 8세 이하(취학 중인 경우\n",
      "\n",
      "학 전 자녀를 양육하기 위하\n",
      "\n",
      "에는 초등학교 2학년 이하를 \n",
      "\n",
      "여 필요하거나 여자공무원이 \n",
      "\n",
      "말한다)의 자녀를 ----------\n",
      "\n",
      "임신 또는 출산하게 되었을 \n",
      "\n",
      "---------------------------\n",
      "\n",
      "때\n",
      "\n",
      "---------------------------\n",
      "\n",
      "  5.⋅6. (생  략)\n",
      "\n",
      "  ③⋅④ (생  략)\n",
      "\n",
      "--------\n",
      "\n",
      "  5.⋅6. (현행과 같음)\n",
      "\n",
      "  ③⋅④ (현행과 같음)\n",
      "\n",
      "- 5 -\n",
      "\n",
      "\f지방공무원법 일부개정법률안 등 비용추계서 미첨부사유서\n",
      "1.  재정수반요인\n",
      "\n",
      "개정안에서 ｢국가공무원법｣  제71조제2항제4호 중 국가공무원의 육아\n",
      "\n",
      "휴직 가능 자녀의 연령을 만6세 이하에서 만8세 이하로 하고, ｢지방공\n",
      "\n",
      "무원법｣ 제63조제2항제4호 중 지방공무원의 육아휴직 가능 자녀의 연\n",
      "\n",
      "령을 만6세 이하에서 만8세 이하로 하고, ｢교육공무원법｣ 제44조제1항\n",
      "\n",
      "제7조 중 교육공무원의 육아휴직 가능 자녀의 연령을 만6세 이하에서 \n",
      "\n",
      "만8세 이하로 하고, ｢남녀고용평등과 일․가정 양립지원에 관한 법률｣ \n",
      "\n",
      "제19조제1항 중 근로자 육아휴직 가능 자녀연령을 만6세 이하에서 만\n",
      "\n",
      "8세 이하로 조정함에 따라 추가 재정소요가 예상됨.\n",
      "\n",
      "2.  미첨부  근거  규정\n",
      "｢의안의 비용추계에 관한 규칙｣ 제3조제1항 단서 중 제1호(예상되는 비용이 연평균  10억원 미만\n",
      "이거나  한시적인  경비로서  총  30억원  미만인  경우)에  해당함.\n",
      "\n",
      "3.  미첨부  사유\n",
      "\n",
      "개정안에서 국가․지방․교육공무원 및 근로자가 육아휴직을 신청할 \n",
      "\n",
      "수 있는 자녀의 연령을 만6세 이하에서 만8세 이하로 상향조정함에 \n",
      "\n",
      "따라 추가 재정소요가 예상된다. 동 법률 개정안이 2011년에 시행된다\n",
      "\n",
      "고 가정한 경우, 2010년 현재 자녀의 연령이 7세이고 육아휴직을 신청\n",
      "\n",
      "- 7 -\n",
      "\n",
      "\f- 8 -\n",
      "\n",
      "하지 않은 국가․지방․교육공무원 및 근로자가 대상이 된다.\n",
      "\n",
      "대상연령의 확대됨에 따라 육아휴직신청자의 수가 어느 정도 늘어날 \n",
      "\n",
      "것으로 예상된다. 이 경우 발생하는 비용은 현행법에 따르면 월50만원\n",
      "\n",
      "이나 현재 관련법령 개정이 추진되고 있으며, 이에 따라 2011년에는 \n",
      "\n",
      "육아휴직자가 지급받는 월급여액에 비례하여 육아휴직급여가 지급되\n",
      "\n",
      "기 때문에 법령개정을 가정하고 추계한다. 이러한 경우 육아휴직급여\n",
      "\n",
      "액은 육아휴직자가 지급받는 월급여의 40%에 해당한다. 육아휴직자가 \n",
      "\n",
      "발생한 경우 발생하는 비용은 대체인력 고용인건비와 육아휴직자가 \n",
      "\n",
      "받는 월급여액의 40%이다. 이와 대비하여 육아휴직자에게 지급하던 \n",
      "\n",
      "임금은 더 이상 발생하지 않는다. 따라서 실제 발생하는 순비용은 육\n",
      "\n",
      "아휴직자에게 지급하던 월 급여액과 연령 확대에 따라 발생하는 비용\n",
      "\n",
      "인 육아휴직자가 받던 월급여액의 40%와 대체인력 고용인건비의 차\n",
      "\n",
      "액인데 이 값이 0보다 크면 추가 재정소요는 발생하지 않는다고 볼 \n",
      "\n",
      "수 있다.\n",
      "\n",
      "추가비용 발생여부를 정확하게 알아보기 위하여 비용에 대한 수리모\n",
      "\n",
      "델을 만들고 이에 따라 비용발생 여부를 알아보기로 하자. 모델에 사\n",
      "\n",
      "용되는 변수를 다음과 같이 정의한다.\n",
      "\n",
      "발생비용 : N×p×X + N×육아휴직급여액 - N×P\n",
      "\n",
      "N\n",
      "\n",
      "P\n",
      "\n",
      ": 육아휴직대상자의 수\n",
      "\n",
      ": 육아휴직대상자의 월급여액\n",
      "\n",
      "\fp\n",
      "\n",
      "X\n",
      "\n",
      ": 육아휴직자가 발생한 경우 대체 고용할 확률\n",
      "\n",
      ": 대체 고용한 인력에게 지급하는 월급여액\n",
      "\n",
      "위의 수식에서 육아휴직급여액은 육아휴직자 월급여액의 40%까지 지\n",
      "\n",
      "급할 예정이므로 육아휴직급여액은 P×40%이다. 육아휴직자가 발생한 \n",
      "\n",
      "경우 대체 고용할 확률 p는 고용노동부의 육아휴직 관련 자료를 이용\n",
      "\n",
      "한다. 고용노동부에 따르면 2011년의 경우 육아휴직급여 대상자는 \n",
      "\n",
      "40,923명이며, 육아휴직에 따른 대체인력 고용 예상인원은 2,836명이\n",
      "\n",
      "다. 2007년부터 2011년까지의 현황을 정리하면 다음의 [표]와 같다.\n",
      "\n",
      "[표]  육아휴직급여  수급자의  수  및  대체인력  고용  현황:  2007~2011년\n",
      "\n",
      "(단위:  명,  % )\n",
      "\n",
      "2007\n",
      "\n",
      "2008\n",
      "\n",
      "2009\n",
      "\n",
      "2010\n",
      "\n",
      "2011\n",
      "\n",
      "평균\n",
      "\n",
      "육아휴직급여  수급자(A)\n",
      "\n",
      "21,185\n",
      "\n",
      "29,145\n",
      "\n",
      "35,400\n",
      "\n",
      "41,291\n",
      "\n",
      "43,899\n",
      "\n",
      "34,184\n",
      "\n",
      "대체인력  채용(B)\n",
      "\n",
      "796\n",
      "\n",
      "1,658\n",
      "\n",
      "1,957\n",
      "\n",
      "2,396\n",
      "\n",
      "2,836\n",
      "\n",
      "1,929\n",
      "\n",
      "비  율(B/A)\n",
      "\n",
      "3.8\n",
      "\n",
      "5.7\n",
      "\n",
      "5.5\n",
      "\n",
      "5.8\n",
      "\n",
      "6.5\n",
      "\n",
      "5.6\n",
      "\n",
      "자료: 고용노동부  자료를  바탕으로  국회예산정책처  작성\n",
      "\n",
      "위의 [표]의 자료에 따라 육아휴직자가 발생한 경우 대체 고용할 확률 \n",
      "\n",
      "p의 값은 5.6%라고 가정한다. 그리고 비용이 발생한다고 가정하여 위\n",
      "\n",
      "의 수식을 다시 작성하면 다음의 수식과 같다.\n",
      "\n",
      "N×p×X + N×육아휴직급여액 - N×P > 0\n",
      "\n",
      "(1)\n",
      "\n",
      "- 9 -\n",
      "\n",
      "\f- 10 -\n",
      "\n",
      "N×5.6%×X + N×P×40% - N×P > 0\n",
      "\n",
      "0.056×X > 0.6P\n",
      "\n",
      "X > 10.7×P\n",
      "\n",
      "(2)\n",
      "\n",
      "(3)\n",
      "\n",
      "(5)\n",
      "\n",
      "위의 수식에 육아휴직자가 받는 월 급여액을 대입하여 대체고용인력\n",
      "\n",
      "자에게 지급하는 월 급여액을 추정하여 보자. 육아휴직자가 월 200만\n",
      "\n",
      "원을 받는다고 가정하면, 대체고용인력자에게 육아휴직자가 받는 월 \n",
      "\n",
      "급여액의 10.7배에 달하는 월 21,428,571원 이상을 지급해야 추가 비용\n",
      "\n",
      "이 발생한다. 대체고용인력자에게 육아휴직자보다 더 많은 월급여액을 \n",
      "\n",
      "주지는 않을 것이고 그리고 10여배 이상 월급을 주지도 않을 것이기 \n",
      "\n",
      "때문에 추가 비용이 발생한다고 보기 힘들다. 위의 수식에서 대체인력 \n",
      "\n",
      "고용확률 p를 20%로 가정하더라도(이 경우 X > 3×P) 200만원 받는 \n",
      "\n",
      "육아휴직자 대체인력에게 월 600만원 이상을 지급해야 추가 비용이 \n",
      "\n",
      "발생한다.\n",
      "\n",
      "행정안전부의 통계자료(행정안전부 통계연감)에서는 지방공무원의 육\n",
      "\n",
      "아휴직 현황자료를 보여주고 있다. 여기서 육아휴직자가 발생한 경우 \n",
      "\n",
      "대체인력을 주로 임용대기자 또는 일용직을 활용하는 것으로 보인다. \n",
      "\n",
      "따라서 공무원의 경우에도 [표]에서 보여주는 일반기업체의 대체인력 \n",
      "\n",
      "고용확률과 차이는 크지 않을 것으로 보인다.\n",
      "\n",
      "이상의 논의를 바탕으로 육아휴직기간을 만6에서 만8세로 연장하더라\n",
      "\n",
      "도 법률 개정에 따른 추가 비용은 발생하지 않을 것으로 예상된다.\n",
      "\n",
      "\f4.  작성자\n",
      "\n",
      "국회예산정책처 법안비용추계1팀\n",
      "\n",
      "팀      장   정 문 종\n",
      "\n",
      "예산분석관   김 태 완\n",
      "\n",
      "(02-788-4649, tanzania@assembly.go.kr)\n",
      "\n",
      "- 11 -\n",
      "\n",
      "\f\n"
     ]
    }
   ],
   "source": [
    "# print(kolaw.open('constitution.txt').read())\n",
    "# 1809890.txt - 1809899.txt\n",
    "print(kobill.open('1809890.txt').read())"
   ]
  },
  {
   "cell_type": "code",
   "execution_count": 30,
   "metadata": {},
   "outputs": [
    {
     "data": {
      "text/plain": [
       "-1"
      ]
     },
     "execution_count": 30,
     "metadata": {},
     "output_type": "execute_result"
    }
   ],
   "source": [
    "## python string 함수\n",
    "a = ' Natural language  '\n",
    "# print(a)\n",
    "# a\n",
    "a.count('a')\n",
    "a.find('a')\n",
    "a.find('al')\n",
    "a.find('w')"
   ]
  },
  {
   "cell_type": "code",
   "execution_count": 35,
   "metadata": {},
   "outputs": [
    {
     "name": "stdout",
     "output_type": "stream",
     "text": [
      " ,N,a,t,u,r,a,l, ,l,a,n,g,u,a,g,e, , \n",
      "k,k,k,k\n",
      "kkk,llll\n",
      "kkk llll\n"
     ]
    }
   ],
   "source": [
    "print(','.join(a))\n",
    "print(','.join('kkkk'))\n",
    "print(','.join(['kkk', 'llll']))\n",
    "print(' '.join(['kkk', 'llll'])) #"
   ]
  },
  {
   "cell_type": "code",
   "execution_count": 37,
   "metadata": {},
   "outputs": [
    {
     "data": {
      "text/plain": [
       "' natural language  '"
      ]
     },
     "execution_count": 37,
     "metadata": {},
     "output_type": "execute_result"
    }
   ],
   "source": [
    "a.upper()\n",
    "a.lower() #"
   ]
  },
  {
   "cell_type": "code",
   "execution_count": 41,
   "metadata": {},
   "outputs": [
    {
     "data": {
      "text/plain": [
       "' Natural language'"
      ]
     },
     "execution_count": 41,
     "metadata": {},
     "output_type": "execute_result"
    }
   ],
   "source": [
    "a.strip() #\n",
    "a.lstrip()\n",
    "a.rstrip()"
   ]
  },
  {
   "cell_type": "code",
   "execution_count": 50,
   "metadata": {},
   "outputs": [
    {
     "name": "stdout",
     "output_type": "stream",
     "text": [
      " Natural language  \n"
     ]
    },
    {
     "data": {
      "text/plain": [
       "['Natural', 'language']"
      ]
     },
     "execution_count": 50,
     "metadata": {},
     "output_type": "execute_result"
    }
   ],
   "source": [
    "## \n",
    "print(a)\n",
    "a.replace('^', ' ') #\n",
    "a.split() #\n"
   ]
  },
  {
   "cell_type": "code",
   "execution_count": 57,
   "metadata": {},
   "outputs": [
    {
     "name": "stdout",
     "output_type": "stream",
     "text": [
      "I eat 3 apples a day\n",
      "I eat 3 apples a day\n",
      "I eat 3 apples a day\n"
     ]
    }
   ],
   "source": [
    "print('I eat %s apples a day' % 3)\n",
    "numbers = 3\n",
    "print('I eat {} apples a day'.format(3))\n",
    "print(f'I eat {numbers} apples a day')\n"
   ]
  },
  {
   "cell_type": "code",
   "execution_count": 58,
   "metadata": {},
   "outputs": [],
   "source": [
    "import re"
   ]
  },
  {
   "cell_type": "code",
   "execution_count": 61,
   "metadata": {},
   "outputs": [
    {
     "name": "stdout",
     "output_type": "stream",
     "text": [
      "<re.Match object; span=(1, 3), match='ab'>\n",
      "<re.Match object; span=(0, 3), match='aab'>\n",
      "<re.Match object; span=(0, 3), match='axb'>\n"
     ]
    }
   ],
   "source": [
    "## 메타문자, '.' 줄바꿈 문자인 \\n을 제외한 모든 문자와 매치됨을 의미한다.\n",
    "print(re.search('ab', 'aababc'))\n",
    "print(re.search('a.b', 'aababc'))\n",
    "print(re.search('a.b', 'axbabc'))\n"
   ]
  },
  {
   "cell_type": "code",
   "execution_count": 64,
   "metadata": {},
   "outputs": [
    {
     "name": "stdout",
     "output_type": "stream",
     "text": [
      "<re.Match object; span=(0, 3), match='axb'>\n",
      "0\n",
      "3\n"
     ]
    }
   ],
   "source": [
    "ind = re.search('a.b', 'axbawbc')\n",
    "print(ind)\n",
    "print(ind.start())\n",
    "print(ind.end())\n"
   ]
  },
  {
   "cell_type": "code",
   "execution_count": 67,
   "metadata": {},
   "outputs": [
    {
     "name": "stdout",
     "output_type": "stream",
     "text": [
      "None\n",
      "<re.Match object; span=(5, 8), match='a.b'>\n"
     ]
    }
   ],
   "source": [
    "# [.]\n",
    "print(re.search('a[.]b', 'aabccab'))\n",
    "print(re.search('a[.]b', 'aabcca.b'))\n"
   ]
  },
  {
   "cell_type": "code",
   "execution_count": 71,
   "metadata": {},
   "outputs": [
    {
     "name": "stdout",
     "output_type": "stream",
     "text": [
      "<re.Match object; span=(0, 3), match='aab'>\n",
      "<re.Match object; span=(0, 6), match='aaaaab'>\n",
      "<re.Match object; span=(0, 1), match='b'>\n",
      "<re.Match object; span=(0, 2), match='ab'>\n"
     ]
    }
   ],
   "source": [
    "# '*' , 반복을 의미하는 * 메타 문자, 앞에 있는 문자 a가 0부터 무한대로 반복\n",
    "print(re.search('a*b', 'aababc'))\n",
    "print(re.search('a*b', 'aaaaababc'))\n",
    "print(re.search('a*b', 'babc'))\n",
    "print(re.search('a*b', 'ababc'))"
   ]
  },
  {
   "cell_type": "code",
   "execution_count": 75,
   "metadata": {},
   "outputs": [
    {
     "name": "stdout",
     "output_type": "stream",
     "text": [
      "<re.Match object; span=(0, 3), match='aab'>\n",
      "<re.Match object; span=(0, 6), match='aaaaab'>\n",
      "<re.Match object; span=(1, 20), match='aaaaaaaaaaaaaaaaaab'>\n"
     ]
    }
   ],
   "source": [
    "# '+', 반복을 의미하는 + 메타 문자, 앞에 있는 문자 a가 1부터 무한대로 반복\n",
    "print(re.search('a+b', 'aababc'))\n",
    "print(re.search('a+b', 'aaaaababc'))\n",
    "print(re.search('a+b', 'baaaaaaaaaaaaaaaaaabc'))\n"
   ]
  },
  {
   "cell_type": "code",
   "execution_count": 76,
   "metadata": {},
   "outputs": [
    {
     "name": "stdout",
     "output_type": "stream",
     "text": [
      "<re.Match object; span=(1, 3), match='ab'>\n",
      "<re.Match object; span=(4, 6), match='ab'>\n",
      "<re.Match object; span=(0, 1), match='b'>\n",
      "<re.Match object; span=(0, 2), match='ab'>\n"
     ]
    }
   ],
   "source": [
    "# '?' , 반복을 의미하는 ? 메타 문자, 앞에 있는 문자 a가 0 또는 1부터 반복\n",
    "\n",
    "print(re.search('a?b', 'aababc'))\n",
    "print(re.search('a?b', 'aaaaababc'))\n",
    "print(re.search('a?b', 'babc'))\n",
    "print(re.search('a?b', 'ababc'))"
   ]
  },
  {
   "cell_type": "code",
   "execution_count": 87,
   "metadata": {},
   "outputs": [
    {
     "name": "stdout",
     "output_type": "stream",
     "text": [
      "None\n",
      "None\n",
      "None\n",
      "<re.Match object; span=(2, 8), match='aaaaab'>\n"
     ]
    }
   ],
   "source": [
    "# 반복 (a{3,5}b, ?), a{4}b\n",
    "\n",
    "# print(re.search('a{2}b', 'aababc'))\n",
    "# print(re.search('a{2}b', 'abaabc'))\n",
    "# print(re.search('a{2}b', 'ababc'))\n",
    "\n",
    "print(re.search('a{3,5}b', 'aababc'))\n",
    "print(re.search('a{3,5}b', 'abaabc'))\n",
    "print(re.search('a{3,5}b', 'ababc'))\n",
    "print(re.search('a{3,5}b', 'abaaaaabc'))"
   ]
  },
  {
   "cell_type": "code",
   "execution_count": 96,
   "metadata": {},
   "outputs": [
    {
     "name": "stdout",
     "output_type": "stream",
     "text": [
      "<re.Match object; span=(1, 7), match='python'>\n",
      "<re.Match object; span=(0, 6), match='python'>\n",
      "0\n",
      "6\n",
      "python\n"
     ]
    }
   ],
   "source": [
    "# [abc], search\n",
    "p = re.compile('[a-z]+')\n",
    "print(p.search(' python'))\n",
    "print(p.match('python'))\n",
    "print(p.match('python').start())\n",
    "print(p.match('python').end())\n",
    "print(p.match('python').group())\n",
    "\n"
   ]
  },
  {
   "cell_type": "code",
   "execution_count": 99,
   "metadata": {},
   "outputs": [
    {
     "name": "stdout",
     "output_type": "stream",
     "text": [
      "Matched here st\n"
     ]
    }
   ],
   "source": [
    "p = re.compile('sk*t')\n",
    "m = p.match('string goes here')\n",
    "\n",
    "if m:\n",
    "    print('Matched here', m.group())\n",
    "else:\n",
    "    print('No matched here')"
   ]
  },
  {
   "cell_type": "code",
   "execution_count": 100,
   "metadata": {},
   "outputs": [
    {
     "name": "stdout",
     "output_type": "stream",
     "text": [
      "None\n",
      "<re.Match object; span=(2, 8), match='python'>\n"
     ]
    }
   ],
   "source": [
    "p = re.compile('[a-z]+')\n",
    "print(p.match('4 python'))\n",
    "print(p.search('4 python hello pandas'))"
   ]
  },
  {
   "cell_type": "code",
   "execution_count": 105,
   "metadata": {},
   "outputs": [
    {
     "name": "stdout",
     "output_type": "stream",
     "text": [
      "['life', 'is', 'too', 'short']\n",
      "['life', 'is', 'too', 'short']\n"
     ]
    }
   ],
   "source": [
    "## findall\n",
    "p = re.compile('[a-z]+')\n",
    "# p.findall('You look only once YOLO')\n",
    "print(p.findall('life is too short'))\n",
    "print('life is too short'.split())"
   ]
  },
  {
   "cell_type": "code",
   "execution_count": 107,
   "metadata": {},
   "outputs": [
    {
     "name": "stdout",
     "output_type": "stream",
     "text": [
      "<re.Match object; span=(0, 4), match='life'>\n",
      "<re.Match object; span=(5, 7), match='is'>\n",
      "<re.Match object; span=(8, 11), match='too'>\n",
      "<re.Match object; span=(12, 17), match='short'>\n"
     ]
    }
   ],
   "source": [
    "result = p.finditer('life is too short')\n",
    "\n",
    "for i in result:\n",
    "    print(i)"
   ]
  },
  {
   "cell_type": "code",
   "execution_count": 111,
   "metadata": {},
   "outputs": [
    {
     "name": "stdout",
     "output_type": "stream",
     "text": [
      "<re.Match object; span=(0, 6), match='python'>\n",
      "<re.Match object; span=(0, 6), match='Python'>\n"
     ]
    }
   ],
   "source": [
    "p = re.compile('[a-z]+', re.I)\n",
    "# p = re.compile('[a-zA-Z]+')\n",
    "\n",
    "print(p.search('python'))\n",
    "print(p.search('Python'))\n"
   ]
  },
  {
   "cell_type": "code",
   "execution_count": 113,
   "metadata": {},
   "outputs": [
    {
     "data": {
      "text/plain": [
       "['python one', 'python two', 'python three']"
      ]
     },
     "execution_count": 113,
     "metadata": {},
     "output_type": "execute_result"
    }
   ],
   "source": [
    "##\n",
    "p = re.compile('^python\\s\\w+', re.MULTILINE)\n",
    "data = '''python one\n",
    "life is too short\n",
    "python two\n",
    "you need python\n",
    "python three\n",
    "'''\n",
    "p.findall(data)"
   ]
  },
  {
   "cell_type": "code",
   "execution_count": 118,
   "metadata": {},
   "outputs": [
    {
     "name": "stdout",
     "output_type": "stream",
     "text": [
      "<re.Match object; span=(0, 5), match='Hello'>\n",
      "<re.Match object; span=(0, 6), match='python'>\n"
     ]
    }
   ],
   "source": [
    "p = re.compile('python|Hello')\n",
    "p.match('python and hello')\n",
    "print(p.search('Hello and python'))\n",
    "print(p.search('python and Hello '))"
   ]
  },
  {
   "cell_type": "code",
   "execution_count": 121,
   "metadata": {},
   "outputs": [
    {
     "name": "stdout",
     "output_type": "stream",
     "text": [
      "<re.Match object; span=(0, 4), match='Life'>\n",
      "<re.Match object; span=(12, 16), match='Life'>\n"
     ]
    }
   ],
   "source": [
    "print(re.search('Life', 'Life is too short'))\n",
    "print(re.search('Life', 'Short is my Life'))\n"
   ]
  },
  {
   "cell_type": "code",
   "execution_count": 123,
   "metadata": {},
   "outputs": [
    {
     "name": "stdout",
     "output_type": "stream",
     "text": [
      "<re.Match object; span=(0, 4), match='Life'>\n",
      "<re.Match object; span=(13, 17), match='Life'>\n",
      "<re.Match object; span=(0, 4), match='Life'>\n",
      "None\n"
     ]
    }
   ],
   "source": [
    "## ^ 문자의 시작, $ 문장의 끝\n",
    "print(re.search('Life', 'Life is too short'))\n",
    "print(re.search('Life', 'Too short is Life'))\n",
    "\n",
    "print(re.search('^Life', 'Life is too short'))\n",
    "print(re.search('^Life', 'Too short is Life'))"
   ]
  },
  {
   "cell_type": "code",
   "execution_count": 124,
   "metadata": {},
   "outputs": [
    {
     "name": "stdout",
     "output_type": "stream",
     "text": [
      "<re.Match object; span=(0, 4), match='Life'>\n",
      "<re.Match object; span=(13, 17), match='Life'>\n",
      "None\n",
      "<re.Match object; span=(13, 17), match='Life'>\n"
     ]
    }
   ],
   "source": [
    "print(re.search('Life', 'Life is too short'))\n",
    "print(re.search('Life', 'Too short is Life'))\n",
    "\n",
    "print(re.search('Life$', 'Life is too short'))\n",
    "print(re.search('Life$', 'Too short is Life'))"
   ]
  },
  {
   "cell_type": "code",
   "execution_count": 126,
   "metadata": {},
   "outputs": [
    {
     "data": {
      "text/plain": [
       "<re.Match object; span=(0, 9), match='ABCABCABC'>"
      ]
     },
     "execution_count": 126,
     "metadata": {},
     "output_type": "execute_result"
    }
   ],
   "source": [
    "#  *, ?, +\n",
    "p = re.compile('(ABC)+')\n",
    "p.search('ABCABCABC OK?')"
   ]
  },
  {
   "cell_type": "code",
   "execution_count": 137,
   "metadata": {},
   "outputs": [
    {
     "name": "stdout",
     "output_type": "stream",
     "text": [
      "<re.Match object; span=(5, 18), match='010-1234-1234'>\n",
      "<re.Match object; span=(5, 16), match='01012341234'>\n"
     ]
    }
   ],
   "source": [
    "text = \"park 010-1234-1234\"\n",
    "text1 = \"park 01012341234\"\n",
    "\n",
    "p = re.compile('\\d{3}[-]?\\d{4}[-]?\\d{4}')\n",
    "print(p.search(text))\n",
    "print(p.search(text1))\n"
   ]
  },
  {
   "cell_type": "code",
   "execution_count": null,
   "metadata": {},
   "outputs": [],
   "source": [
    "text = \"park 010-1234-1234\"\n",
    "text1 = \"park 01012341234\"\n",
    "\n",
    "p = re.compile('\\d+[-]\\d+[-]\\d')\n"
   ]
  },
  {
   "cell_type": "code",
   "execution_count": 138,
   "metadata": {},
   "outputs": [],
   "source": [
    "import kaggle"
   ]
  },
  {
   "cell_type": "code",
   "execution_count": 139,
   "metadata": {},
   "outputs": [
    {
     "name": "stdout",
     "output_type": "stream",
     "text": [
      "ref                                                                                           deadline             category            reward  teamCount  userHasEntered  \n",
      "--------------------------------------------------------------------------------------------  -------------------  ---------------  ---------  ---------  --------------  \n",
      "https://www.kaggle.com/competitions/asl-fingerspelling                                        2023-08-24 23:59:00  Research          $200,000        805           False  \n",
      "https://www.kaggle.com/competitions/icr-identify-age-related-conditions                       2023-08-10 23:59:00  Featured           $60,000       5870           False  \n",
      "https://www.kaggle.com/competitions/commonlit-evaluate-student-summaries                      2023-10-11 23:59:00  Featured           $60,000        284           False  \n",
      "https://www.kaggle.com/competitions/bengaliai-speech                                          2023-10-17 23:59:00  Research           $53,000        104           False  \n",
      "https://www.kaggle.com/competitions/hubmap-hacking-the-human-vasculature                      2023-07-31 23:59:00  Research           $50,000        990           False  \n",
      "https://www.kaggle.com/competitions/google-research-identify-contrails-reduce-global-warming  2023-08-09 23:59:00  Research           $50,000        813           False  \n",
      "https://www.kaggle.com/competitions/cafa-5-protein-function-prediction                        2023-08-21 23:59:00  Research           $50,000       1190           False  \n",
      "https://www.kaggle.com/competitions/kaggle-llm-science-exam                                   2023-10-10 23:59:00  Featured           $50,000        540           False  \n",
      "https://www.kaggle.com/competitions/playground-series-s3e19                                   2023-07-31 23:59:00  Playground            Swag        861           False  \n",
      "https://www.kaggle.com/competitions/titanic                                                   2030-01-01 00:00:00  Getting Started  Knowledge      16020            True  \n",
      "https://www.kaggle.com/competitions/house-prices-advanced-regression-techniques               2030-01-01 00:00:00  Getting Started  Knowledge       4239            True  \n",
      "https://www.kaggle.com/competitions/spaceship-titanic                                         2030-01-01 00:00:00  Getting Started  Knowledge       2462           False  \n",
      "https://www.kaggle.com/competitions/digit-recognizer                                          2030-01-01 00:00:00  Getting Started  Knowledge       1595           False  \n",
      "https://www.kaggle.com/competitions/nlp-getting-started                                       2030-01-01 00:00:00  Getting Started  Knowledge        997           False  \n",
      "https://www.kaggle.com/competitions/connectx                                                  2030-01-01 00:00:00  Getting Started  Knowledge        199           False  \n",
      "https://www.kaggle.com/competitions/tpu-getting-started                                       2030-06-03 23:59:00  Getting Started  Knowledge        132           False  \n",
      "https://www.kaggle.com/competitions/store-sales-time-series-forecasting                       2030-06-30 23:59:00  Getting Started  Knowledge        842           False  \n",
      "https://www.kaggle.com/competitions/gan-getting-started                                       2030-07-01 23:59:00  Getting Started     Prizes        104           False  \n",
      "https://www.kaggle.com/competitions/contradictory-my-dear-watson                              2030-07-01 23:59:00  Getting Started     Prizes         69           False  \n"
     ]
    }
   ],
   "source": [
    "! kaggle competitions list"
   ]
  },
  {
   "cell_type": "code",
   "execution_count": 140,
   "metadata": {},
   "outputs": [
    {
     "name": "stdout",
     "output_type": "stream",
     "text": [
      "word2vec-nlp-tutorial.zip: Skipping, found more recently modified local copy (use --force to force download)\n"
     ]
    }
   ],
   "source": [
    "!kaggle competitions download -c word2vec-nlp-tutorial"
   ]
  },
  {
   "cell_type": "code",
   "execution_count": null,
   "metadata": {},
   "outputs": [],
   "source": []
  }
 ],
 "metadata": {
  "kernelspec": {
   "display_name": "py3.8",
   "language": "python",
   "name": "python3"
  },
  "language_info": {
   "codemirror_mode": {
    "name": "ipython",
    "version": 3
   },
   "file_extension": ".py",
   "mimetype": "text/x-python",
   "name": "python",
   "nbconvert_exporter": "python",
   "pygments_lexer": "ipython3",
   "version": "3.8.16"
  },
  "orig_nbformat": 4
 },
 "nbformat": 4,
 "nbformat_minor": 2
}

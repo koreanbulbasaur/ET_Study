{
 "cells": [
  {
   "cell_type": "code",
   "execution_count": 1,
   "metadata": {},
   "outputs": [
    {
     "name": "stdout",
     "output_type": "stream",
     "text": [
      "2.0.1\n"
     ]
    }
   ],
   "source": [
    "# ! pip install pandas\n",
    "import pandas as pd\n",
    "import numpy as np\n",
    "\n",
    "print(pd.__version__)"
   ]
  },
  {
   "cell_type": "code",
   "execution_count": 2,
   "metadata": {},
   "outputs": [
    {
     "name": "stdout",
     "output_type": "stream",
     "text": [
      "[[1, 3, 4], [2, 5, 6]]\n",
      "[10, 'apple', True]\n"
     ]
    },
    {
     "data": {
      "text/plain": [
       "array(['10', 'apple', 'True'], dtype='<U11')"
      ]
     },
     "execution_count": 2,
     "metadata": {},
     "output_type": "execute_result"
    }
   ],
   "source": [
    "## list\n",
    "\n",
    "a = [1, 2, 3, 4]\n",
    "a[1:3]\n",
    "\n",
    "b = [[1, 3, 4],\n",
    "    [2, 5, 6]]\n",
    "print(b)\n",
    "\n",
    "# print([b[0][0], a[0][2]])\n",
    "\n",
    "c = [10, 'apple', True]\n",
    "print(c)\n",
    "np.array(c)"
   ]
  },
  {
   "cell_type": "code",
   "execution_count": 3,
   "metadata": {},
   "outputs": [
    {
     "name": "stdout",
     "output_type": "stream",
     "text": [
      "a =  [0 1 2 3 4]\n",
      "<class 'numpy.ndarray'>\n"
     ]
    }
   ],
   "source": [
    "# numpy\n",
    "a = np.array([0, 1, 2, 3, 4])\n",
    "\n",
    "print('a = ', a)\n",
    "print(type(a))"
   ]
  },
  {
   "cell_type": "code",
   "execution_count": 4,
   "metadata": {},
   "outputs": [
    {
     "name": "stdout",
     "output_type": "stream",
     "text": [
      "a =  [0 1 2 3 4]\n",
      "<class 'numpy.ndarray'>\n",
      "int32\n"
     ]
    }
   ],
   "source": [
    "# numpy\n",
    "a = np.array([0, 1, 2, 3, 4], dtype= np.int32)\n",
    "\n",
    "print('a = ', a)\n",
    "print(type(a))\n",
    "print(a.dtype)"
   ]
  },
  {
   "cell_type": "code",
   "execution_count": 5,
   "metadata": {},
   "outputs": [
    {
     "name": "stdout",
     "output_type": "stream",
     "text": [
      "[2 3 4]\n"
     ]
    }
   ],
   "source": [
    "print(a[2:])"
   ]
  },
  {
   "attachments": {},
   "cell_type": "markdown",
   "metadata": {},
   "source": [
    "attribute"
   ]
  },
  {
   "cell_type": "code",
   "execution_count": 6,
   "metadata": {},
   "outputs": [
    {
     "name": "stdout",
     "output_type": "stream",
     "text": [
      "shape a = (5,)\n",
      "dtype a = int32\n"
     ]
    }
   ],
   "source": [
    "print('shape a =', a.shape)\n",
    "print('dtype a =', a.dtype)"
   ]
  },
  {
   "cell_type": "code",
   "execution_count": 7,
   "metadata": {},
   "outputs": [
    {
     "name": "stdout",
     "output_type": "stream",
     "text": [
      "range(1, 6)\n",
      "[[1 2]\n",
      " [4 5]\n",
      " [7 8]]\n"
     ]
    }
   ],
   "source": [
    "print(range(1, 6))\n",
    "\n",
    "array = np.array([range(i, i + 2)for i in[1, 4, 7]])    \n",
    "print(array)"
   ]
  },
  {
   "cell_type": "code",
   "execution_count": 8,
   "metadata": {},
   "outputs": [
    {
     "name": "stdout",
     "output_type": "stream",
     "text": [
      "(3, 2)\n",
      "int32\n"
     ]
    }
   ],
   "source": [
    "print(array.shape)\n",
    "print(array.dtype)"
   ]
  },
  {
   "cell_type": "code",
   "execution_count": 9,
   "metadata": {},
   "outputs": [
    {
     "name": "stdout",
     "output_type": "stream",
     "text": [
      "(2,)\n",
      "(1, 2)\n"
     ]
    }
   ],
   "source": [
    "a = np.array([0, 1])\n",
    "b = np.array([[0, 1]])\n",
    "\n",
    "print(a.shape)\n",
    "print(b.shape)"
   ]
  },
  {
   "cell_type": "code",
   "execution_count": 10,
   "metadata": {},
   "outputs": [
    {
     "name": "stdout",
     "output_type": "stream",
     "text": [
      "[[1. 0. 0. 0. 0.]\n",
      " [0. 1. 0. 0. 0.]\n",
      " [0. 0. 1. 0. 0.]]\n",
      "\n",
      "[[1. 0. 0.]\n",
      " [0. 1. 0.]\n",
      " [0. 0. 1.]]\n"
     ]
    }
   ],
   "source": [
    "print(np.eye(3, 5))\n",
    "print()\n",
    "print(np.identity(3))"
   ]
  },
  {
   "cell_type": "code",
   "execution_count": 11,
   "metadata": {},
   "outputs": [
    {
     "name": "stdout",
     "output_type": "stream",
     "text": [
      "[[1. 0. 0.]\n",
      " [0. 1. 0.]\n",
      " [0. 0. 1.]]\n",
      "\n",
      "[[1. 0. 0. 0. 0.]\n",
      " [0. 1. 0. 0. 0.]\n",
      " [0. 0. 1. 0. 0.]\n",
      " [0. 0. 0. 1. 0.]\n",
      " [0. 0. 0. 0. 1.]]\n"
     ]
    }
   ],
   "source": [
    "print(np.identity(3))\n",
    "print()\n",
    "print(np.identity(5))"
   ]
  },
  {
   "cell_type": "code",
   "execution_count": 12,
   "metadata": {},
   "outputs": [
    {
     "data": {
      "text/plain": [
       "array([[0., 0., 0., 0.],\n",
       "       [0., 0., 0., 0.],\n",
       "       [0., 0., 0., 0.]])"
      ]
     },
     "execution_count": 12,
     "metadata": {},
     "output_type": "execute_result"
    }
   ],
   "source": [
    "np.zeros([3, 4])"
   ]
  },
  {
   "cell_type": "code",
   "execution_count": 13,
   "metadata": {},
   "outputs": [
    {
     "data": {
      "text/plain": [
       "array([[1., 1., 1., 1., 1.],\n",
       "       [1., 1., 1., 1., 1.],\n",
       "       [1., 1., 1., 1., 1.]])"
      ]
     },
     "execution_count": 13,
     "metadata": {},
     "output_type": "execute_result"
    }
   ],
   "source": [
    "np.ones((3, 5))"
   ]
  },
  {
   "cell_type": "code",
   "execution_count": 14,
   "metadata": {},
   "outputs": [
    {
     "data": {
      "text/plain": [
       "array([[255., 255., 255., 255., 255.],\n",
       "       [255., 255., 255., 255., 255.],\n",
       "       [255., 255., 255., 255., 255.]])"
      ]
     },
     "execution_count": 14,
     "metadata": {},
     "output_type": "execute_result"
    }
   ],
   "source": [
    "np.ones((3, 5))*255"
   ]
  },
  {
   "cell_type": "code",
   "execution_count": 15,
   "metadata": {},
   "outputs": [
    {
     "name": "stdout",
     "output_type": "stream",
     "text": [
      "[[46 46 46 46]\n",
      " [46 46 46 46]\n",
      " [46 46 46 46]\n",
      " [46 46 46 46]\n",
      " [46 46 46 46]]\n",
      "\n"
     ]
    },
    {
     "data": {
      "text/plain": [
       "array([[7, 7, 7, 7],\n",
       "       [7, 7, 7, 7],\n",
       "       [7, 7, 7, 7],\n",
       "       [7, 7, 7, 7],\n",
       "       [7, 7, 7, 7]])"
      ]
     },
     "execution_count": 15,
     "metadata": {},
     "output_type": "execute_result"
    }
   ],
   "source": [
    "print(np.full((5, 4),fill_value=46))\n",
    "print()\n",
    "np.full((5, 4), 7)"
   ]
  },
  {
   "cell_type": "code",
   "execution_count": 16,
   "metadata": {},
   "outputs": [
    {
     "data": {
      "text/plain": [
       "array([[1, 2],\n",
       "       [3, 4]])"
      ]
     },
     "execution_count": 16,
     "metadata": {},
     "output_type": "execute_result"
    }
   ],
   "source": [
    "np.array([[1, 2], [3, 4]])"
   ]
  },
  {
   "cell_type": "code",
   "execution_count": 17,
   "metadata": {},
   "outputs": [
    {
     "name": "stdout",
     "output_type": "stream",
     "text": [
      "[1, 3, 5, 7]\n",
      "[1 3 5 7]\n"
     ]
    }
   ],
   "source": [
    "## range\n",
    "\n",
    "print(list(range(1, 8, 2)))\n",
    "\n",
    "print(np.arange(1, 8, 2))"
   ]
  },
  {
   "cell_type": "code",
   "execution_count": 18,
   "metadata": {},
   "outputs": [
    {
     "name": "stdout",
     "output_type": "stream",
     "text": [
      "[1 3 5 7 9]\n",
      "[ 3  5  7  9 11]\n",
      "[[ 1  3  5  7  9]\n",
      " [ 3  5  7  9 11]]\n",
      "(2, 5)\n",
      "int64\n"
     ]
    }
   ],
   "source": [
    "A = np.array([[1, 3, 5, 7, 11],[3, 5, 7, 9, 11]], dtype=np.int64)\n",
    "\n",
    "a1 = np.arange(1, 10, 2)\n",
    "a2 = np.arange(3, 12, 2)\n",
    "\n",
    "A = np.array([a1, a2], np.int64)\n",
    "print(a1)\n",
    "print(a2)\n",
    "print(A)\n",
    "print(A.shape)\n",
    "print(A.dtype)"
   ]
  },
  {
   "cell_type": "code",
   "execution_count": 19,
   "metadata": {},
   "outputs": [
    {
     "name": "stdout",
     "output_type": "stream",
     "text": [
      "[[2 0 0 0 0]\n",
      " [0 2 0 0 0]\n",
      " [0 0 2 0 0]\n",
      " [0 0 0 2 0]\n",
      " [0 0 0 0 2]]\n",
      "shape =  (5, 5)\n",
      "dtype =  int64\n"
     ]
    }
   ],
   "source": [
    "a = np.identity(5, dtype=np.int64)*2\n",
    "print(a)\n",
    "\n",
    "print('shape = ',a.shape)\n",
    "print('dtype = ',a.dtype)"
   ]
  },
  {
   "cell_type": "code",
   "execution_count": 20,
   "metadata": {},
   "outputs": [
    {
     "name": "stdout",
     "output_type": "stream",
     "text": [
      "[ 0  1  2  3  4  5  6  7  8  9 10 11]\n"
     ]
    }
   ],
   "source": [
    "arr = np.arange(12)\n",
    "\n",
    "print(arr)"
   ]
  },
  {
   "cell_type": "code",
   "execution_count": 21,
   "metadata": {},
   "outputs": [
    {
     "name": "stdout",
     "output_type": "stream",
     "text": [
      "[[ 0  1  2  3]\n",
      " [ 4  5  6  7]\n",
      " [ 8  9 10 11]]\n"
     ]
    }
   ],
   "source": [
    "arr_3by_4 = arr.reshape(3, 4)\n",
    "print(arr_3by_4)"
   ]
  },
  {
   "cell_type": "code",
   "execution_count": 22,
   "metadata": {},
   "outputs": [
    {
     "name": "stdout",
     "output_type": "stream",
     "text": [
      "[[ 0  1  2  3]\n",
      " [ 4  5  6  7]\n",
      " [ 8  9 10 11]]\n",
      "\n",
      "[0, 1, 2, 3, 4, 5, 6, 7, 8, 9, 10, 11]\n"
     ]
    }
   ],
   "source": [
    "print(arr_3by_4)\n",
    "print()\n",
    "print(list(arr_3by_4.flat))"
   ]
  },
  {
   "cell_type": "code",
   "execution_count": 23,
   "metadata": {},
   "outputs": [
    {
     "name": "stdout",
     "output_type": "stream",
     "text": [
      "[[ 0  4  8]\n",
      " [ 1  5  9]\n",
      " [ 2  6 10]\n",
      " [ 3  7 11]]\n"
     ]
    }
   ],
   "source": [
    "print(arr_3by_4.T)"
   ]
  },
  {
   "cell_type": "code",
   "execution_count": 24,
   "metadata": {},
   "outputs": [
    {
     "name": "stdout",
     "output_type": "stream",
     "text": [
      "(1, 3, 1)\n",
      "\n",
      "[[[0 1 2]]]\n",
      "\n",
      "[[[0]]\n",
      "\n",
      " [[1]]\n",
      "\n",
      " [[2]]]\n"
     ]
    }
   ],
   "source": [
    "pro = np.array([[[0], [1], [2]]])\n",
    "print(pro.shape)\n",
    "print()\n",
    "print(pro.reshape(1, 1, 3))\n",
    "print()\n",
    "print(pro.reshape(3, 1, 1))"
   ]
  },
  {
   "cell_type": "code",
   "execution_count": 25,
   "metadata": {},
   "outputs": [
    {
     "name": "stdout",
     "output_type": "stream",
     "text": [
      "(1, 3, 1)\n",
      "[0 1 2]\n",
      "\n",
      "(3,)\n",
      "\n",
      "[[0]\n",
      " [1]\n",
      " [2]]\n",
      "\n",
      "[[0 1 2]]\n",
      "\n",
      "(1, 3)\n"
     ]
    }
   ],
   "source": [
    "print(pro.shape)\n",
    "\n",
    "print(pro.squeeze())\n",
    "print()\n",
    "print(pro.squeeze().shape)\n",
    "print()\n",
    "print(pro.squeeze(axis = 0))\n",
    "print()\n",
    "print(pro.squeeze(axis = 2))\n",
    "print()\n",
    "print(pro.squeeze(axis = 2).shape)"
   ]
  },
  {
   "cell_type": "code",
   "execution_count": 26,
   "metadata": {},
   "outputs": [
    {
     "name": "stdout",
     "output_type": "stream",
     "text": [
      "[1 2 3] [3 5 1] [1 2 1]\n"
     ]
    },
    {
     "data": {
      "text/plain": [
       "array([[1, 2, 3],\n",
       "       [3, 5, 1],\n",
       "       [1, 2, 1]])"
      ]
     },
     "execution_count": 26,
     "metadata": {},
     "output_type": "execute_result"
    }
   ],
   "source": [
    "a = np.array([1, 2, 3])\n",
    "b = np.array([3, 5, 1])\n",
    "c = np.array([1, 2, 1])\n",
    "\n",
    "print(a, b, c)\n",
    "np.vstack([a, b, c])"
   ]
  },
  {
   "cell_type": "code",
   "execution_count": 27,
   "metadata": {},
   "outputs": [
    {
     "name": "stdout",
     "output_type": "stream",
     "text": [
      "[[1]\n",
      " [2]\n",
      " [3]] \n",
      "\n",
      "[[2]\n",
      " [3]\n",
      " [4]] \n",
      "\n",
      "hstack = [[1 2]\n",
      " [2 3]\n",
      " [3 4]] \n",
      "\n",
      "vstack = [[1]\n",
      " [2]\n",
      " [3]\n",
      " [2]\n",
      " [3]\n",
      " [4]]\n"
     ]
    }
   ],
   "source": [
    "a = np.array([[1], [2], [3]])\n",
    "b = np.array([[2], [3], [4]])\n",
    "\n",
    "print(a,'\\n')\n",
    "print(b,'\\n')\n",
    "\n",
    "print('hstack =', np.hstack([a, b]),'\\n')\n",
    "print('vstack =', np.vstack([a, b]))"
   ]
  },
  {
   "cell_type": "code",
   "execution_count": 28,
   "metadata": {},
   "outputs": [
    {
     "name": "stdout",
     "output_type": "stream",
     "text": [
      "[1 2 3 4 5] [2 3 4 5 6] \n",
      "\n",
      "hstact = [1 2 3 4 5 2 3 4 5 6] \n",
      "\n",
      "vstact = [[1 2 3 4 5]\n",
      " [2 3 4 5 6]] \n",
      "\n",
      "column_stack = [[1 2]\n",
      " [2 3]\n",
      " [3 4]\n",
      " [4 5]\n",
      " [5 6]]\n"
     ]
    }
   ],
   "source": [
    "a = np.arange(1, 6)\n",
    "b = np.arange(2, 7)\n",
    "\n",
    "print(a, b, '\\n')\n",
    "\n",
    "print('hstact =', np.hstack([a, b]), '\\n')\n",
    "print('vstact =', np.vstack([a, b]), '\\n')\n",
    "print('column_stack =', np.column_stack([a, b]))"
   ]
  },
  {
   "cell_type": "code",
   "execution_count": 29,
   "metadata": {},
   "outputs": [
    {
     "name": "stdout",
     "output_type": "stream",
     "text": [
      "[[1 2 6]\n",
      " [2 4 6]\n",
      " [3 6 5]\n",
      " [4 8 4]]\n"
     ]
    }
   ],
   "source": [
    "a_data = [[1, 2, 3, 4],\n",
    "          [2, 4, 6, 8]]\n",
    "\n",
    "b_data = [6, 6, 5, 4]\n",
    "\n",
    "print(np.vstack([a_data, b_data]).T)"
   ]
  },
  {
   "cell_type": "code",
   "execution_count": 30,
   "metadata": {},
   "outputs": [
    {
     "data": {
      "text/plain": [
       "array([0.08079035, 0.71688824, 0.29430464, 0.15567716, 0.83825073])"
      ]
     },
     "execution_count": 30,
     "metadata": {},
     "output_type": "execute_result"
    }
   ],
   "source": [
    "# Random sampling\n",
    "\n",
    "# Uniform (균일분포), integer uniform, Gaussian 분포 (정규분포)\n",
    "\n",
    "# Uniform\n",
    "\n",
    "np.random.rand(5)"
   ]
  },
  {
   "cell_type": "code",
   "execution_count": 31,
   "metadata": {},
   "outputs": [
    {
     "name": "stdout",
     "output_type": "stream",
     "text": [
      "[[0.89539647 0.51534582 0.67215129 0.47904911 0.90398399]\n",
      " [0.24293338 0.11684832 0.94035687 0.75295783 0.69627624]\n",
      " [0.39134001 0.97754509 0.87483382 0.81430889 0.52775562]]\n"
     ]
    }
   ],
   "source": [
    "a = np.random.rand(3, 5)\n",
    "print(a)"
   ]
  },
  {
   "cell_type": "code",
   "execution_count": 32,
   "metadata": {},
   "outputs": [
    {
     "data": {
      "text/plain": [
       "array([9, 8, 4, 1, 1, 3, 9, 3, 5, 9])"
      ]
     },
     "execution_count": 32,
     "metadata": {},
     "output_type": "execute_result"
    }
   ],
   "source": [
    "np.random.randint(1, 10, 10)"
   ]
  },
  {
   "cell_type": "code",
   "execution_count": 33,
   "metadata": {},
   "outputs": [
    {
     "data": {
      "text/plain": [
       "array([[2, 9],\n",
       "       [1, 8],\n",
       "       [6, 5]])"
      ]
     },
     "execution_count": 33,
     "metadata": {},
     "output_type": "execute_result"
    }
   ],
   "source": [
    "np.random.randint(1, 10, (3, 2))"
   ]
  },
  {
   "cell_type": "code",
   "execution_count": 50,
   "metadata": {},
   "outputs": [
    {
     "data": {
      "text/plain": [
       "array([[171.20282641, 172.94526359],\n",
       "       [172.54558002, 171.74916044],\n",
       "       [173.27843766, 172.13049136]])"
      ]
     },
     "execution_count": 50,
     "metadata": {},
     "output_type": "execute_result"
    }
   ],
   "source": [
    "np.random.randn(100)\n",
    "np.random.normal(172, 1, (3, 2))"
   ]
  },
  {
   "cell_type": "code",
   "execution_count": 51,
   "metadata": {},
   "outputs": [
    {
     "data": {
      "text/plain": [
       "array([[171.96989384, 171.60281757],\n",
       "       [173.31554013, 172.47119604],\n",
       "       [173.26890398, 172.91296131]])"
      ]
     },
     "execution_count": 51,
     "metadata": {},
     "output_type": "execute_result"
    }
   ],
   "source": [
    "np.random.seed(503)\n",
    "np.random.normal(172, 1, (3, 2))\n"
   ]
  },
  {
   "cell_type": "code",
   "execution_count": 54,
   "metadata": {},
   "outputs": [
    {
     "name": "stdout",
     "output_type": "stream",
     "text": [
      "[[1 2]\n",
      " [3 4]]\n",
      "2.5\n",
      "2.5\n"
     ]
    }
   ],
   "source": [
    "a = np.array([[1, 2], [3, 4]])\n",
    "\n",
    "print(a)\n",
    "\n",
    "print(np.mean(a))\n",
    "print(np.mean(a, axis=0))\n",
    "print(np.mean(a, axis=1))\n",
    "print(np.median(a))"
   ]
  },
  {
   "cell_type": "code",
   "execution_count": 56,
   "metadata": {},
   "outputs": [
    {
     "name": "stdout",
     "output_type": "stream",
     "text": [
      "1.25\n",
      "1.118033988749895\n",
      "1\n"
     ]
    }
   ],
   "source": [
    "print(np.var(a))\n",
    "print(np.std(a))\n",
    "print(np.min(a))"
   ]
  }
 ],
 "metadata": {
  "kernelspec": {
   "display_name": "pandas_study",
   "language": "python",
   "name": "python3"
  },
  "language_info": {
   "codemirror_mode": {
    "name": "ipython",
    "version": 3
   },
   "file_extension": ".py",
   "mimetype": "text/x-python",
   "name": "python",
   "nbconvert_exporter": "python",
   "pygments_lexer": "ipython3",
   "version": "3.11.3"
  },
  "orig_nbformat": 4
 },
 "nbformat": 4,
 "nbformat_minor": 2
}

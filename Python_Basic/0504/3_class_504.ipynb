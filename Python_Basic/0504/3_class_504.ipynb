{
 "cells": [
  {
   "cell_type": "code",
   "execution_count": 1,
   "metadata": {},
   "outputs": [],
   "source": [
    "import numpy as np\n",
    "import pandas as pd"
   ]
  },
  {
   "cell_type": "code",
   "execution_count": 2,
   "metadata": {},
   "outputs": [
    {
     "name": "stdout",
     "output_type": "stream",
     "text": [
      "{'a': 1, 'b': 2, 'c': 3}\n",
      "<class 'dict'>\n",
      "3\n"
     ]
    }
   ],
   "source": [
    "dict_data = {'a': 1, 'b': 2, 'c': 3}\n",
    "\n",
    "print(dict_data)\n",
    "print(type(dict_data))\n",
    "print(len(dict_data))\n"
   ]
  },
  {
   "cell_type": "code",
   "execution_count": 3,
   "metadata": {},
   "outputs": [
    {
     "name": "stdout",
     "output_type": "stream",
     "text": [
      "sr =  a    1\n",
      "b    2\n",
      "c    3\n",
      "dtype: int64\n",
      "type sr = <class 'pandas.core.series.Series'>\n"
     ]
    }
   ],
   "source": [
    "sr = pd.Series(dict_data)\n",
    "print('sr = ', sr)\n",
    "print('type sr =', type(sr))"
   ]
  },
  {
   "attachments": {},
   "cell_type": "markdown",
   "metadata": {},
   "source": [
    "pd.Series"
   ]
  },
  {
   "cell_type": "code",
   "execution_count": 4,
   "metadata": {},
   "outputs": [
    {
     "name": "stdout",
     "output_type": "stream",
     "text": [
      "key = \n",
      " dict_keys(['a', 'b', 'c'])\n",
      "values =\n",
      " dict_values([1, 2, 3])\n",
      "items =\n",
      " dict_items([('a', 1), ('b', 2), ('c', 3)])\n"
     ]
    }
   ],
   "source": [
    "print('key = \\n', dict_data.keys())\n",
    "print('values =\\n', dict_data.values())\n",
    "print('items =\\n',dict_data.items())"
   ]
  },
  {
   "cell_type": "code",
   "execution_count": 5,
   "metadata": {},
   "outputs": [
    {
     "name": "stdout",
     "output_type": "stream",
     "text": [
      "Index(['a', 'b', 'c'], dtype='object')\n",
      "[1 2 3]\n"
     ]
    }
   ],
   "source": [
    "print(sr.index)\n",
    "print(sr.values)"
   ]
  },
  {
   "cell_type": "code",
   "execution_count": 6,
   "metadata": {},
   "outputs": [
    {
     "name": "stdout",
     "output_type": "stream",
     "text": [
      "1     apple\n",
      "2    banana\n",
      "3     grape\n",
      "dtype: object\n"
     ]
    }
   ],
   "source": [
    "dict_fruit = {1: 'apple', 2: 'banana', 3: 'grape'}\n",
    "sr_fruit = pd.Series(dict_fruit)\n",
    "print(sr_fruit)"
   ]
  },
  {
   "attachments": {},
   "cell_type": "markdown",
   "metadata": {},
   "source": [
    "From list"
   ]
  },
  {
   "cell_type": "code",
   "execution_count": 7,
   "metadata": {},
   "outputs": [
    {
     "name": "stdout",
     "output_type": "stream",
     "text": [
      "1        apple\n",
      "2       banana\n",
      "4    Fineapple\n",
      "dtype: object\n"
     ]
    }
   ],
   "source": [
    "sr_list = pd.Series(['apple', 'banana', 'Fineapple'],\n",
    "                    index = [1, 2, 4])\n",
    "print(sr_list)"
   ]
  },
  {
   "cell_type": "code",
   "execution_count": 8,
   "metadata": {},
   "outputs": [
    {
     "name": "stdout",
     "output_type": "stream",
     "text": [
      "Index([1, 2, 4], dtype='int64')\n",
      "banana\n",
      "<bound method Series.items of 1        apple\n",
      "2       banana\n",
      "4    Fineapple\n",
      "dtype: object>\n"
     ]
    }
   ],
   "source": [
    "print(sr_list.index[0:5])\n",
    "print(sr_list.values[1])\n",
    "print(sr_list.items)"
   ]
  },
  {
   "cell_type": "code",
   "execution_count": 9,
   "metadata": {},
   "outputs": [
    {
     "name": "stdout",
     "output_type": "stream",
     "text": [
      "1    2019-01-02\n",
      "2          3.14\n",
      "3           ABC\n",
      "4           100\n",
      "5          True\n",
      "dtype: object\n"
     ]
    }
   ],
   "source": [
    "sr_lst = pd.Series(['2019-01-02', 3.14, 'ABC', 100, True],\n",
    "                    index=range(1, 6))\n",
    "print(sr_lst)"
   ]
  },
  {
   "cell_type": "code",
   "execution_count": 10,
   "metadata": {},
   "outputs": [
    {
     "name": "stdout",
     "output_type": "stream",
     "text": [
      "loc [1:3] :\n",
      " 1    2019-01-02\n",
      "2          3.14\n",
      "3           ABC\n",
      "dtype: object\n",
      "iloc [1:3] :\n",
      " 2    3.14\n",
      "3     ABC\n",
      "dtype: object\n"
     ]
    }
   ],
   "source": [
    "print('loc [1:3] :\\n', sr_lst.loc[1:3])\n",
    "print('iloc [1:3] :\\n', sr_lst.iloc[1:3])"
   ]
  },
  {
   "cell_type": "code",
   "execution_count": 11,
   "metadata": {},
   "outputs": [
    {
     "name": "stdout",
     "output_type": "stream",
     "text": [
      "RangeIndex(start=1, stop=6, step=1)\n",
      "---------------------------------------------------------------------------\n",
      "[1, 2, 3, 4, 5]\n"
     ]
    }
   ],
   "source": [
    "print(sr_lst.index)\n",
    "print('-'*75)\n",
    "print(list(sr_lst.index))"
   ]
  },
  {
   "cell_type": "code",
   "execution_count": 12,
   "metadata": {},
   "outputs": [
    {
     "name": "stdout",
     "output_type": "stream",
     "text": [
      "이름             현용범\n",
      "생년월일    1990-01-01\n",
      "성별               남\n",
      "학생여부          True\n",
      "dtype: object\n",
      "1990-01-01\n"
     ]
    }
   ],
   "source": [
    "tup_data = ('현용범', '1990-01-01', '남', True)\n",
    "\n",
    "sr_from_tup = pd.Series(tup_data,\n",
    "                        index=['이름', '생년월일', '성별', '학생여부'])\n",
    "\n",
    "print(sr_from_tup)\n",
    "print(sr_from_tup['생년월일'])\n"
   ]
  },
  {
   "cell_type": "code",
   "execution_count": 13,
   "metadata": {},
   "outputs": [
    {
     "name": "stdout",
     "output_type": "stream",
     "text": [
      "이름             현용범\n",
      "생년월일    1990-01-01\n",
      "dtype: object\n",
      "---------------------------------------------------------------------------\n",
      "이름             현용범\n",
      "생년월일    1990-01-01\n",
      "성별               남\n",
      "dtype: object\n"
     ]
    }
   ],
   "source": [
    "print(sr_from_tup.iloc[:2])\n",
    "print('-'*75)\n",
    "print(sr_from_tup.loc['이름':'성별'])"
   ]
  },
  {
   "cell_type": "code",
   "execution_count": 14,
   "metadata": {},
   "outputs": [
    {
     "name": "stdout",
     "output_type": "stream",
     "text": [
      "이름       현용범\n",
      "학생여부    True\n",
      "dtype: object\n"
     ]
    }
   ],
   "source": [
    "print(sr_from_tup[['이름', '학생여부']])"
   ]
  },
  {
   "cell_type": "code",
   "execution_count": 15,
   "metadata": {},
   "outputs": [],
   "source": [
    "tup = ('apple', 'banana','carrot', 'Dates', 'eggplant', 'fig')\n",
    "\n",
    "sr_tup = pd.Series(tup, index=['A', 'B', 'C', 'D', 'E', 'F'])"
   ]
  },
  {
   "cell_type": "code",
   "execution_count": 16,
   "metadata": {},
   "outputs": [
    {
     "name": "stdout",
     "output_type": "stream",
     "text": [
      "C      carrot\n",
      "E    eggplant\n",
      "dtype: object\n",
      "---------------------------------------------------------------------------\n",
      "C      carrot\n",
      "E    eggplant\n",
      "dtype: object\n"
     ]
    }
   ],
   "source": [
    "print(sr_tup.loc[['C', 'E']])\n",
    "print('-'*75)\n",
    "print(sr_tup.iloc[[2, 4]])"
   ]
  },
  {
   "cell_type": "code",
   "execution_count": 17,
   "metadata": {},
   "outputs": [
    {
     "name": "stdout",
     "output_type": "stream",
     "text": [
      "B      banana\n",
      "C      carrot\n",
      "D       Dates\n",
      "E    eggplant\n",
      "dtype: object\n",
      "---------------------------------------------------------------------------\n",
      "B      banana\n",
      "C      carrot\n",
      "D       Dates\n",
      "E    eggplant\n",
      "dtype: object\n"
     ]
    }
   ],
   "source": [
    "print(sr_tup.loc['B':'E'])\n",
    "print('-'*75)\n",
    "print(sr_tup.iloc[1:5])"
   ]
  },
  {
   "cell_type": "code",
   "execution_count": 18,
   "metadata": {},
   "outputs": [
    {
     "name": "stdout",
     "output_type": "stream",
     "text": [
      "a    4\n",
      "b    5\n",
      "c    6\n",
      "d    7\n",
      "dtype: int64\n"
     ]
    }
   ],
   "source": [
    "tup_data3 = (4, 5, 6, 7)\n",
    "\n",
    "sr_data3 = pd.Series(tup_data3,\n",
    "                        index=['a', 'b', 'c', 'd'])\n",
    "\n",
    "print(sr_data3)"
   ]
  },
  {
   "cell_type": "code",
   "execution_count": 19,
   "metadata": {},
   "outputs": [
    {
     "name": "stdout",
     "output_type": "stream",
     "text": [
      "kim     [10, 20]\n",
      "Park          20\n",
      "Hong          30\n",
      "dtype: object\n"
     ]
    }
   ],
   "source": [
    "list_data4 = [[10, 20], 20, 30]\n",
    "\n",
    "sr_data4 = pd.Series(list_data4,\n",
    "                        index=['kim', 'Park', 'Hong'])\n",
    "\n",
    "print(sr_data4)"
   ]
  },
  {
   "cell_type": "code",
   "execution_count": 20,
   "metadata": {},
   "outputs": [
    {
     "data": {
      "text/plain": [
       "a    4\n",
       "b    5\n",
       "c    6\n",
       "d    7\n",
       "Name: variable, dtype: int16"
      ]
     },
     "execution_count": 20,
     "metadata": {},
     "output_type": "execute_result"
    }
   ],
   "source": [
    "sr1 = pd.Series(range(4, 8),\n",
    "                index = list('abcd'),\n",
    "                dtype=np.int16,\n",
    "                name = 'variable')\n",
    "\n",
    "sr1"
   ]
  },
  {
   "cell_type": "code",
   "execution_count": 21,
   "metadata": {},
   "outputs": [
    {
     "name": "stdout",
     "output_type": "stream",
     "text": [
      "kim     [10, 20]\n",
      "Park          20\n",
      "Hong          30\n",
      "dtype: object\n"
     ]
    }
   ],
   "source": [
    "dict_type = {\n",
    "    'kim' : [10, 20],\n",
    "    'Park' : 20,\n",
    "    'Hong' : 30\n",
    "}\n",
    "\n",
    "sr2 = pd.Series(dict_type)\n",
    "print(sr2)"
   ]
  },
  {
   "attachments": {},
   "cell_type": "markdown",
   "metadata": {},
   "source": [
    "DataFrame"
   ]
  },
  {
   "cell_type": "code",
   "execution_count": 31,
   "metadata": {},
   "outputs": [
    {
     "name": "stdout",
     "output_type": "stream",
     "text": [
      "\n",
      "    math  english gender   pass\n",
      "김씨    94       35      남   True\n",
      "이씨    34       86      남  False\n",
      "박씨    56       74      여   True\n"
     ]
    }
   ],
   "source": [
    "dict_data = {\n",
    "    'math':[94,34,56],\n",
    "    'english':[35,86,74],\n",
    "    'gender':['남','남','여'],\n",
    "    'pass':[True, False, True]\n",
    "}\n",
    "\n",
    "print()\n",
    "df = pd.DataFrame(dict_data,index=['김씨', '이씨', '박씨'])\n",
    "print(df)"
   ]
  },
  {
   "cell_type": "code",
   "execution_count": 35,
   "metadata": {},
   "outputs": [
    {
     "name": "stdout",
     "output_type": "stream",
     "text": [
      "      math  english gender   test\n",
      "Jhon    90       85      남   True\n",
      "Jamy    45       23      남  False\n",
      "Eric    94       34      여   True\n",
      "\n",
      "Index(['Jhon', 'Jamy', 'Eric'], dtype='object')\n",
      "\n",
      "Index(['math', 'english', 'gender', 'test'], dtype='object')\n"
     ]
    }
   ],
   "source": [
    "df_from_list = pd.DataFrame(\n",
    "    [[90, 85, '남', True],\n",
    "    [45, 23, '남', False],\n",
    "    [94, 34, '여', True]],\n",
    "    columns=['math', 'english', 'gender', 'test'],\n",
    "    index= ['Jhon', 'Jamy', 'Eric']\n",
    ")\n",
    "\n",
    "print(df_from_list)\n",
    "print()\n",
    "print(df_from_list.index)\n",
    "print()\n",
    "print(df_from_list.columns)"
   ]
  },
  {
   "cell_type": "code",
   "execution_count": 37,
   "metadata": {},
   "outputs": [
    {
     "name": "stdout",
     "output_type": "stream",
     "text": [
      "       나이 성별   학교\n",
      "Jhon   15  남  덕영중\n",
      "Sarah  17  여  수리중\n"
     ]
    }
   ],
   "source": [
    "df_from_list = pd.DataFrame(\n",
    "    [[15, '남', '덕영중'],\n",
    "    [17, '여', '수리중']],\n",
    "    columns=['나이', '성별', '학교'],\n",
    "    index= ['Jhon', 'Sarah']\n",
    ")\n",
    "print(df_from_list)"
   ]
  },
  {
   "attachments": {},
   "cell_type": "markdown",
   "metadata": {},
   "source": [
    "DataFrame 수정"
   ]
  },
  {
   "cell_type": "code",
   "execution_count": 38,
   "metadata": {},
   "outputs": [
    {
     "name": "stdout",
     "output_type": "stream",
     "text": [
      "     나이 gender school\n",
      "현용범  15      남    영문중\n",
      "박채린  17      여    예티중\n"
     ]
    }
   ],
   "source": [
    "df = pd.DataFrame(\n",
    "    [[15, '남', '영문중'],\n",
    "    [17, '여', '예티중']],\n",
    "    columns=['나이', 'gender', 'school'],\n",
    "    index=['현용범', '박채린']\n",
    ")\n",
    "\n",
    "print(df)"
   ]
  },
  {
   "cell_type": "code",
   "execution_count": 41,
   "metadata": {},
   "outputs": [
    {
     "name": "stdout",
     "output_type": "stream",
     "text": [
      "     춘추 남녀   소속\n",
      "현용범  15  남  영문중\n",
      "박채린  17  여  예티중\n"
     ]
    }
   ],
   "source": [
    "df.rename(columns={'나이':'춘추', 'gender':'남녀', 'school':'소속'},\n",
    "          inplace=True)\n",
    "print(df)"
   ]
  },
  {
   "cell_type": "code",
   "execution_count": 42,
   "metadata": {},
   "outputs": [
    {
     "name": "stdout",
     "output_type": "stream",
     "text": [
      "     춘추 남녀   소속\n",
      "미누   15  남  영문중\n",
      "홍다희  17  여  예티중\n"
     ]
    }
   ],
   "source": [
    "df.rename(index = {'현용범':'미누', '박채린':'홍다희'}, inplace=True)\n",
    "\n",
    "print(df)"
   ]
  }
 ],
 "metadata": {
  "kernelspec": {
   "display_name": "pandas_study",
   "language": "python",
   "name": "python3"
  },
  "language_info": {
   "codemirror_mode": {
    "name": "ipython",
    "version": 3
   },
   "file_extension": ".py",
   "mimetype": "text/x-python",
   "name": "python",
   "nbconvert_exporter": "python",
   "pygments_lexer": "ipython3",
   "version": "3.11.3"
  },
  "orig_nbformat": 4
 },
 "nbformat": 4,
 "nbformat_minor": 2
}

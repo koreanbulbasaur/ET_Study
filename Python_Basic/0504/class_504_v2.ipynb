{
 "cells": [
  {
   "cell_type": "code",
   "execution_count": 1,
   "metadata": {},
   "outputs": [],
   "source": [
    "import numpy as np\n",
    "import pandas as pd"
   ]
  },
  {
   "cell_type": "code",
   "execution_count": 5,
   "metadata": {},
   "outputs": [
    {
     "name": "stdout",
     "output_type": "stream",
     "text": [
      "{'a': 1, 'b': 2, 'c': 3}\n",
      "<class 'dict'>\n",
      "3\n",
      "pd. Series\n",
      "sr = \n",
      " a    1\n",
      "b    2\n",
      "c    3\n",
      "dtype: int64\n",
      "type sr =  <class 'pandas.core.series.Series'>\n"
     ]
    }
   ],
   "source": [
    "dict_data = {'a': 1, 'b':2, 'c':3}\n",
    "\n",
    "print(dict_data)\n",
    "print(type(dict_data))\n",
    "print(len(dict_data))\n",
    " \n",
    "print('pd. Series')\n",
    "sr = pd.Series(dict_data)\n",
    "print('sr = \\n', sr)\n",
    "print('type sr = ', type(sr))"
   ]
  },
  {
   "cell_type": "code",
   "execution_count": 11,
   "metadata": {},
   "outputs": [
    {
     "name": "stdout",
     "output_type": "stream",
     "text": [
      "{'a': 1, 'b': 2, 'c': 3}\n",
      "key = \n",
      " dict_keys(['a', 'b', 'c'])\n",
      "values = \n",
      " dict_values([1, 2, 3])\n",
      "items = \n",
      " dict_items([('a', 1), ('b', 2), ('c', 3)])\n",
      "sr\n",
      "Index(['a', 'b', 'c'], dtype='object')\n",
      "[1 2 3]\n"
     ]
    }
   ],
   "source": [
    "## pd.Series\n",
    "print(dict_data)\n",
    "print('key = \\n', dict_data.keys())\n",
    "print('values = \\n', dict_data.values())\n",
    "print('items = \\n', dict_data.items())\n",
    "\n",
    "print('sr')\n",
    "sr\n",
    "print(sr.index)\n",
    "print(sr.values)\n"
   ]
  },
  {
   "cell_type": "code",
   "execution_count": 17,
   "metadata": {},
   "outputs": [
    {
     "name": "stdout",
     "output_type": "stream",
     "text": [
      "1     apple\n",
      "2    banana\n",
      "3     grape\n",
      "dtype: object\n",
      "sr_fruit index = \n",
      " Index([1, 2, 3], dtype='int64')\n",
      "sr_fruit values = \n",
      " ['apple' 'banana' 'grape']\n",
      "sr_list = \n",
      " 1     apple\n",
      "2    banana\n",
      "3     grape\n",
      "dtype: object\n"
     ]
    }
   ],
   "source": [
    "'''\n",
    "1     apple\n",
    "2    banana\n",
    "3     grape\n",
    "'''\n",
    "\n",
    "dict_data = {1:'apple', 2:'banana', 3: 'grape'}\n",
    "sr_fruit = pd.Series(dict_data)\n",
    "print(sr_fruit)\n",
    "print('sr_fruit index = \\n', sr_fruit.index)\n",
    "print('sr_fruit values = \\n', sr_fruit.values)\n",
    "\n",
    "# From list\n",
    "sr_list = pd.Series(['apple', 'banana', 'grape'],\n",
    "                    index = np.arange(1, 4))\n",
    "print('sr_list = \\n', sr_list)"
   ]
  },
  {
   "cell_type": "code",
   "execution_count": 22,
   "metadata": {},
   "outputs": [
    {
     "name": "stdout",
     "output_type": "stream",
     "text": [
      "1     apple\n",
      "2    banana\n",
      "3     grape\n",
      "dtype: object\n",
      "Index([1, 2], dtype='int32')\n",
      "banana\n",
      "<bound method Series.items of a    1\n",
      "b    2\n",
      "c    3\n",
      "dtype: int64>\n"
     ]
    }
   ],
   "source": [
    "print(sr_list)\n",
    "print(sr_list.index[0:2])\n",
    "print(sr_list.values[1])\n",
    "# print(sr.items)\n"
   ]
  },
  {
   "cell_type": "code",
   "execution_count": 34,
   "metadata": {},
   "outputs": [
    {
     "name": "stdout",
     "output_type": "stream",
     "text": [
      "1    2019-01-02\n",
      "2          3.14\n",
      "3           ABC\n",
      "4           100\n",
      "5          True\n",
      "dtype: object\n",
      "loc [1:3] = \n",
      " 1    2019-01-02\n",
      "2          3.14\n",
      "3           ABC\n",
      "dtype: object\n",
      "iloc [1:3] = \n",
      " 2    3.14\n",
      "3     ABC\n",
      "dtype: object\n"
     ]
    }
   ],
   "source": [
    "'''\n",
    "1    2019-01-02\n",
    "2          3.14\n",
    "3           ABC\n",
    "4           100\n",
    "5          True\n",
    "'''\n",
    "sr_from_list = pd.Series(('2019-01-02', 3.14, 'ABC', 100, True),\n",
    "                         index = range(1, 6))\n",
    "\n",
    "print(sr_from_list)\n",
    "\n",
    "sr_from_list[2]\n",
    "print('loc [1:3] = \\n', sr_from_list.loc[1:3])\n",
    "print('iloc [1:3] = \\n', sr_from_list.iloc[1:3])"
   ]
  },
  {
   "cell_type": "code",
   "execution_count": 33,
   "metadata": {},
   "outputs": [
    {
     "name": "stdout",
     "output_type": "stream",
     "text": [
      "[1, 2, 3, 4, 5]\n"
     ]
    }
   ],
   "source": [
    "print(list(sr_from_list.index))"
   ]
  },
  {
   "cell_type": "code",
   "execution_count": 42,
   "metadata": {},
   "outputs": [
    {
     "name": "stdout",
     "output_type": "stream",
     "text": [
      "이름              영인\n",
      "생년월일    2010-05-05\n",
      "성별               여\n",
      "학생여부          True\n",
      "dtype: object\n",
      "이름              영인\n",
      "생년월일    2010-05-05\n",
      "성별               여\n",
      "dtype: object\n",
      "이름        영인\n",
      "학생여부    True\n",
      "dtype: object\n"
     ]
    }
   ],
   "source": [
    "tup_data = ('영인', '2010-05-05', '여', True)\n",
    "\n",
    "sr_from_tup = pd.Series(tup_data,\n",
    "                        index = ['이름', '생년월일', '성별', '학생여부'])\n",
    "\n",
    "print(sr_from_tup)\n",
    "sr_from_tup['생년월일']\n",
    "print(sr_from_tup.loc['이름':'성별'])\n",
    "sr_from_tup.iloc[:2]\n",
    "print(sr_from_tup[['이름', '학생여부']])"
   ]
  },
  {
   "cell_type": "code",
   "execution_count": null,
   "metadata": {},
   "outputs": [],
   "source": [
    "# Series\n",
    "'''\n",
    "A     apple\n",
    "B    tomato\n",
    "C    banana\n",
    "D     melon\n",
    "E     grape\n",
    "F      pear\n",
    "'''\n",
    "# indexing (iloc, loc)\n",
    "'''\n",
    "dtype: object\n",
    "C    banana\n",
    "E     grape\n",
    "'''\n",
    "\n",
    "# slicing (iloc, loc)\n",
    "'''\n",
    "B    tomato\n",
    "C    banana\n",
    "D     melon\n",
    "E     grape\n",
    "dtype: object\n",
    "'''"
   ]
  },
  {
   "cell_type": "code",
   "execution_count": 47,
   "metadata": {},
   "outputs": [
    {
     "data": {
      "text/plain": [
       "['A', 'B', 'C', 'D', 'E', 'F']"
      ]
     },
     "execution_count": 47,
     "metadata": {},
     "output_type": "execute_result"
    }
   ],
   "source": [
    "list('ABCDEF')"
   ]
  },
  {
   "cell_type": "code",
   "execution_count": 53,
   "metadata": {},
   "outputs": [
    {
     "name": "stdout",
     "output_type": "stream",
     "text": [
      "A     apple\n",
      "B    tomato\n",
      "C    banana\n",
      "D     melon\n",
      "E     grape\n",
      "F      pear\n",
      "dtype: object\n",
      "C    banana\n",
      "E     grape\n",
      "dtype: object\n",
      "C    banana\n",
      "E     grape\n",
      "dtype: object\n",
      "B    tomato\n",
      "C    banana\n",
      "D     melon\n",
      "E     grape\n",
      "dtype: object\n",
      "B    tomato\n",
      "C    banana\n",
      "D     melon\n",
      "E     grape\n",
      "dtype: object\n"
     ]
    }
   ],
   "source": [
    "fruit = ['apple', 'tomato', 'banana', 'melon', 'grape', 'pear']\n",
    "\n",
    "sr_fruit = pd.Series(fruit,\n",
    "                     index = list('ABCDEF'))\n",
    "print(sr_fruit)\n",
    "\n",
    "## Indexing, iloc, loc\n",
    "print(sr_fruit.loc[['C', 'E']])\n",
    "print(sr_fruit.iloc[[2, 4]])\n",
    "\n",
    "## slicing, iloc, loc\n",
    "print(sr_fruit.loc['B':'E'])\n",
    "print(sr_fruit.iloc[1:5])\n"
   ]
  },
  {
   "cell_type": "code",
   "execution_count": 56,
   "metadata": {},
   "outputs": [
    {
     "name": "stdout",
     "output_type": "stream",
     "text": [
      "a    4\n",
      "b    5\n",
      "c    6\n",
      "d    7\n",
      "Name: variable, dtype: int16\n",
      "kim     [10, 20]\n",
      "Park          20\n",
      "Hong          30\n",
      "dtype: object\n"
     ]
    }
   ],
   "source": [
    "'''\n",
    "<class 'pandas.core.series.Series'>\n",
    "a    4\n",
    "b    5\n",
    "c    6\n",
    "d    7\n",
    "Name: variable, dtype: int16\n",
    "\n",
    "kim     [10, 20]\n",
    "Park          20\n",
    "Hong          30\n",
    "dtype: object\n",
    "'''\n",
    "\n",
    "sr1 = pd.Series(range(4, 8),\n",
    "                index = list('abcd'),\n",
    "                dtype= np.int16,\n",
    "                name = 'variable')\n",
    "print(sr1)\n",
    "\n",
    "dict_type = {\n",
    "    'kim':[10, 20],\n",
    "    'Park': 20,\n",
    "    'Hong': 30\n",
    "}\n",
    "\n",
    "sr2 = pd.Series(dict_type)\n",
    "print(sr2)"
   ]
  },
  {
   "cell_type": "code",
   "execution_count": 60,
   "metadata": {},
   "outputs": [
    {
     "name": "stdout",
     "output_type": "stream",
     "text": [
      "{'c0': [1, 2, 3], 'c1': [4, 5, 6], 'c2': [7, 8, 9], 'c3': [10, 11, 12], 'c4': [14, 15, 16]}\n",
      "\n",
      "   c0  c1  c2  c3  c4\n",
      "1   1   4   7  10  14\n",
      "2   2   5   8  11  15\n",
      "3   3   6   9  12  16\n"
     ]
    }
   ],
   "source": [
    "## DataFrame \n",
    "\n",
    "dict_data = {\n",
    "    'c0':[1,2,3], 'c1':[4, 5, 6], 'c2':[7,8,9],\n",
    "    'c3':[10, 11, 12], 'c4':[14, 15, 16]\n",
    "}\n",
    "\n",
    "print(dict_data)\n",
    "print()\n",
    "df = pd.DataFrame(dict_data,\n",
    "                  index = range(1, 4))\n",
    "print(df)"
   ]
  },
  {
   "attachments": {},
   "cell_type": "markdown",
   "metadata": {},
   "source": [
    "        수학\t영어\t성별\t합격\n",
    "김씨\t90\t98\t남\tTrue\n",
    "이씨\t80\t89\t남\tFalse\n",
    "박씨\t70\t95\t여\tTrue"
   ]
  },
  {
   "cell_type": "code",
   "execution_count": 61,
   "metadata": {},
   "outputs": [
    {
     "name": "stdout",
     "output_type": "stream",
     "text": [
      "    수학  영어 성별     합격\n",
      "김씨  90  98  남   True\n",
      "이씨  80  89  남  False\n",
      "박씨  70  95  여   True\n"
     ]
    }
   ],
   "source": [
    "df_dict = {\n",
    "    '수학':[90, 80, 70],\n",
    "    '영어':[98, 89, 95],\n",
    "    '성별':['남', '남', '여'],\n",
    "    '합격':[True, False, True]\n",
    "}\n",
    "\n",
    "df_from_dict = pd.DataFrame(df_dict,\n",
    "                            index = ['김씨', '이씨', '박씨'])\n",
    "\n",
    "print(df_from_dict)"
   ]
  },
  {
   "cell_type": "code",
   "execution_count": 63,
   "metadata": {},
   "outputs": [
    {
     "name": "stdout",
     "output_type": "stream",
     "text": [
      "    수학  영어 성별     합격\n",
      "김씨  90  98  남   True\n",
      "이씨  80  89  남  False\n",
      "박씨  70  95  여   True\n",
      "Index(['김씨', '이씨', '박씨'], dtype='object')\n",
      "Index(['수학', '영어', '성별', '합격'], dtype='object')\n"
     ]
    }
   ],
   "source": [
    "df_from_list = pd.DataFrame(\n",
    "    [[90, 98, '남', True],\n",
    "     [80, 89, '남', False],\n",
    "     [70, 95, '여', True]],\n",
    "    columns=['수학', '영어', '성별', '합격'],\n",
    "    index = ['김씨', '이씨', '박씨']\n",
    ")\n",
    "\n",
    "print(df_from_list)\n",
    "print(df_from_list.index)\n",
    "print(df_from_list.columns)\n"
   ]
  },
  {
   "cell_type": "code",
   "execution_count": 64,
   "metadata": {},
   "outputs": [
    {
     "data": {
      "text/plain": [
       "'\\n\\t  나이 성별 학교\\n준서\\t15\\t남\\t덕영중\\n예은\\t17\\t여\\t수리중\\n'"
      ]
     },
     "execution_count": 64,
     "metadata": {},
     "output_type": "execute_result"
    }
   ],
   "source": [
    "'''\n",
    "\t  나이 성별 학교\n",
    "준서\t15\t남\t덕영중\n",
    "예은\t17\t여\t수리중\n",
    "'''\n"
   ]
  },
  {
   "cell_type": "code",
   "execution_count": 69,
   "metadata": {},
   "outputs": [
    {
     "name": "stdout",
     "output_type": "stream",
     "text": [
      "   color size  price   class\n",
      "1  green    M   13.5  class1\n",
      "2    red    L   15.3  class2\n"
     ]
    }
   ],
   "source": [
    "df = pd.DataFrame(\n",
    "    [['green', 'M', 13.5, 'class1'],\n",
    "     ['red', 'L', 15.3, 'class2']]\n",
    ")\n",
    "\n",
    "df.columns = ['color', 'size', 'price', 'class']\n",
    "df.index = range(1, 3)\n",
    "print(df)"
   ]
  },
  {
   "cell_type": "code",
   "execution_count": 74,
   "metadata": {},
   "outputs": [
    {
     "name": "stdout",
     "output_type": "stream",
     "text": [
      "    나이 성별   학교\n",
      "준서  15  남  영우중\n",
      "은결  17  여  에티중\n",
      "     연령 남녀   학교\n",
      "학생1  15  남  영우중\n",
      "학생2  17  여  에티중\n"
     ]
    }
   ],
   "source": [
    "## DataFrame 수정\n",
    "\n",
    "df = pd.DataFrame(\n",
    "    [[15, '남', '영우중'],\n",
    "     [17, '여', '에티중']],\n",
    "    columns= ['나이', '성별', '학교'],\n",
    "    index = ['준서', '은결']\n",
    ")\n",
    "\n",
    "print(df)\n",
    "\n",
    "df.rename(columns= {'나이':'연령', '성별':'남녀'},\n",
    "          inplace=True)\n",
    "df.rename(index = {'준서':'학생1', '은결':'학생2'}, inplace=True)\n",
    "\n",
    "print(df)"
   ]
  },
  {
   "cell_type": "code",
   "execution_count": 17,
   "metadata": {},
   "outputs": [
    {
     "name": "stdout",
     "output_type": "stream",
     "text": [
      "    수학  영어   음악   체육\n",
      "서준  90  98   85  100\n",
      "우현  80  89   95   90\n",
      "인아  70  95  100   90\n"
     ]
    }
   ],
   "source": [
    "import pandas as pd\n",
    "import numpy as np\n",
    "exam_data = {\n",
    "    '수학': [90, 80, 70],\n",
    "    '영어': [98, 89, 95],\n",
    "    '음악': [85, 95, 100],\n",
    "    '체육':[ 100, 90, 90]\n",
    "}\n",
    "\n",
    "df = pd.DataFrame(exam_data,\n",
    "                  index = ['서준', '우현', '인아'])\n",
    "\n",
    "print(df)"
   ]
  },
  {
   "attachments": {},
   "cell_type": "markdown",
   "metadata": {},
   "source": []
  },
  {
   "cell_type": "code",
   "execution_count": 20,
   "metadata": {},
   "outputs": [
    {
     "name": "stdout",
     "output_type": "stream",
     "text": [
      "None\n",
      "    영어   음악   체육\n",
      "서준  98   85  100\n",
      "우현  89   95   90\n",
      "인아  95  100   90\n",
      "    영어   음악   체육\n",
      "서준  98   85  100\n",
      "우현  89   95   90\n",
      "인아  95  100   90\n",
      "    수학  영어   음악   체육\n",
      "서준  90  98   85  100\n",
      "우현  80  89   95   90\n",
      "인아  70  95  100   90\n"
     ]
    }
   ],
   "source": [
    "df = pd.DataFrame(exam_data,\n",
    "                  index = ['서준', '우현', '인아'])\n",
    "\n",
    "df1 = df\n",
    "df2 = df.copy()\n",
    "\n",
    "\n",
    "# print(df.drop(['서준','우현'], axis = 0)) # default axis = 0\n",
    "print(df.drop(['수학'], axis = 1, inplace=True)) # default axis = 0\n",
    "\n",
    "\n",
    "print(df)\n",
    "print(df1)\n",
    "print(df2)\n"
   ]
  },
  {
   "cell_type": "code",
   "execution_count": 27,
   "metadata": {},
   "outputs": [
    {
     "name": "stdout",
     "output_type": "stream",
     "text": [
      "   A           B    C      D    E\n",
      "0  1  2010-07-20  1.0   test  foo\n",
      "1  2  2010-07-20  1.0  train  foo\n",
      "2  1  2010-07-20  1.0   test  foo\n",
      "3  2  2010-07-20  1.0  train  foo\n"
     ]
    },
    {
     "data": {
      "text/html": [
       "<div>\n",
       "<style scoped>\n",
       "    .dataframe tbody tr th:only-of-type {\n",
       "        vertical-align: middle;\n",
       "    }\n",
       "\n",
       "    .dataframe tbody tr th {\n",
       "        vertical-align: top;\n",
       "    }\n",
       "\n",
       "    .dataframe thead th {\n",
       "        text-align: right;\n",
       "    }\n",
       "</style>\n",
       "<table border=\"1\" class=\"dataframe\">\n",
       "  <thead>\n",
       "    <tr style=\"text-align: right;\">\n",
       "      <th></th>\n",
       "      <th>Type</th>\n",
       "      <th>Date</th>\n",
       "      <th>C</th>\n",
       "      <th>D</th>\n",
       "      <th>E</th>\n",
       "    </tr>\n",
       "  </thead>\n",
       "  <tbody>\n",
       "    <tr>\n",
       "      <th>A</th>\n",
       "      <td>1</td>\n",
       "      <td>2010-07-20</td>\n",
       "      <td>1.0</td>\n",
       "      <td>test</td>\n",
       "      <td>foo</td>\n",
       "    </tr>\n",
       "    <tr>\n",
       "      <th>B</th>\n",
       "      <td>2</td>\n",
       "      <td>2010-07-20</td>\n",
       "      <td>1.0</td>\n",
       "      <td>train</td>\n",
       "      <td>foo</td>\n",
       "    </tr>\n",
       "    <tr>\n",
       "      <th>2</th>\n",
       "      <td>1</td>\n",
       "      <td>2010-07-20</td>\n",
       "      <td>1.0</td>\n",
       "      <td>test</td>\n",
       "      <td>foo</td>\n",
       "    </tr>\n",
       "  </tbody>\n",
       "</table>\n",
       "</div>"
      ],
      "text/plain": [
       "   Type        Date    C      D    E\n",
       "A     1  2010-07-20  1.0   test  foo\n",
       "B     2  2010-07-20  1.0  train  foo\n",
       "2     1  2010-07-20  1.0   test  foo"
      ]
     },
     "execution_count": 27,
     "metadata": {},
     "output_type": "execute_result"
    }
   ],
   "source": [
    "df_rename = pd.DataFrame({\n",
    "    'A':[1, 2, 1, 2],\n",
    "    'B': '2010-07-20',\n",
    "    'C': 1.0,\n",
    "    'D': ['test', 'train', 'test', 'train'],\n",
    "    'E':'foo'\n",
    "})\n",
    "\n",
    "print(df_rename)\n",
    "\n",
    "df_rename.drop(3, axis = 0, inplace=True)\n",
    "df_rename.rename(columns= {'A':'Type', 'B':'Date'}, \n",
    "                 index = {0:'A', 1:'B'}, inplace = True)\n",
    "# df_rename.rename(index = {0:'A', 1:'B'}, inplace = True)\n",
    "df_rename"
   ]
  },
  {
   "cell_type": "code",
   "execution_count": null,
   "metadata": {},
   "outputs": [],
   "source": [
    "'''\n",
    "        Type        Date    C      D    E\n",
    "A     1  2021-07-20  1.0   test  foo\n",
    "B     2  2021-07-20  1.0  train  foo\n",
    "2     1  2021-07-20  1.0   test  foo\n",
    "'''"
   ]
  },
  {
   "cell_type": "code",
   "execution_count": 35,
   "metadata": {},
   "outputs": [
    {
     "name": "stdout",
     "output_type": "stream",
     "text": [
      "    수학  영어   음악   체육\n",
      "서준  90  98   85  100\n",
      "우현  80  89   95   90\n",
      "인아  70  95  100   90\n",
      "수학     90\n",
      "영어     98\n",
      "음악     85\n",
      "체육    100\n",
      "Name: 서준, dtype: int64\n",
      "    수학  영어   음악  체육\n",
      "우현  80  89   95  90\n",
      "인아  70  95  100  90\n"
     ]
    }
   ],
   "source": [
    "exam_data = {\n",
    "    '수학': [90, 80, 70],\n",
    "    '영어': [98, 89, 95],\n",
    "    '음악': [85, 95, 100],\n",
    "    '체육':[ 100, 90, 90]\n",
    "}\n",
    "\n",
    "df = pd.DataFrame(exam_data,\n",
    "                  index = ['서준', '우현', '인아'])\n",
    "\n",
    "print(df)\n",
    "print(df.loc['서준'])\n",
    "print(df.iloc[1:3])\n",
    "\n",
    "# df['수학']"
   ]
  },
  {
   "cell_type": "code",
   "execution_count": 44,
   "metadata": {},
   "outputs": [
    {
     "name": "stdout",
     "output_type": "stream",
     "text": [
      "    수학  음악\n",
      "서준  90  85\n",
      "우현  80  95\n",
      "    영어  음악   체육\n",
      "서준  98  85  100\n",
      "우현  89  95   90\n"
     ]
    }
   ],
   "source": [
    "print(df.loc['서준':'우현', ['수학', '음악']])\n",
    "print(df.iloc[0:2, 1:])"
   ]
  },
  {
   "cell_type": "code",
   "execution_count": 49,
   "metadata": {},
   "outputs": [
    {
     "name": "stdout",
     "output_type": "stream",
     "text": [
      "    수학  영어   음악   체육\n",
      "서준  90  98   85  100\n",
      "우현  80  89   95   90\n",
      "인아  70  95  100   90\n",
      "None\n",
      "    영어   음악   체육\n",
      "수학              \n",
      "90  98   85  100\n",
      "80  89   95   90\n",
      "70  95  100   90\n"
     ]
    }
   ],
   "source": [
    "print(df)\n",
    "\n",
    "df.set_index('수학', inplace = True)\n",
    "\n",
    "print(df)"
   ]
  },
  {
   "cell_type": "code",
   "execution_count": 51,
   "metadata": {},
   "outputs": [
    {
     "data": {
      "text/html": [
       "<div>\n",
       "<style scoped>\n",
       "    .dataframe tbody tr th:only-of-type {\n",
       "        vertical-align: middle;\n",
       "    }\n",
       "\n",
       "    .dataframe tbody tr th {\n",
       "        vertical-align: top;\n",
       "    }\n",
       "\n",
       "    .dataframe thead th {\n",
       "        text-align: right;\n",
       "    }\n",
       "</style>\n",
       "<table border=\"1\" class=\"dataframe\">\n",
       "  <thead>\n",
       "    <tr style=\"text-align: right;\">\n",
       "      <th></th>\n",
       "      <th>주식</th>\n",
       "      <th>다리갯수</th>\n",
       "      <th>이름</th>\n",
       "      <th>무리생활</th>\n",
       "      <th>비행</th>\n",
       "    </tr>\n",
       "  </thead>\n",
       "  <tbody>\n",
       "    <tr>\n",
       "      <th>0</th>\n",
       "      <td>고기</td>\n",
       "      <td>4</td>\n",
       "      <td>사자</td>\n",
       "      <td>yes</td>\n",
       "      <td>no</td>\n",
       "    </tr>\n",
       "    <tr>\n",
       "      <th>1</th>\n",
       "      <td>풀</td>\n",
       "      <td>4</td>\n",
       "      <td>사슴</td>\n",
       "      <td>yes</td>\n",
       "      <td>no</td>\n",
       "    </tr>\n",
       "    <tr>\n",
       "      <th>2</th>\n",
       "      <td>고기</td>\n",
       "      <td>4</td>\n",
       "      <td>늑대</td>\n",
       "      <td>yes</td>\n",
       "      <td>no</td>\n",
       "    </tr>\n",
       "    <tr>\n",
       "      <th>3</th>\n",
       "      <td>고기</td>\n",
       "      <td>2</td>\n",
       "      <td>독수리</td>\n",
       "      <td>yes</td>\n",
       "      <td>yes</td>\n",
       "    </tr>\n",
       "    <tr>\n",
       "      <th>4</th>\n",
       "      <td>잡식</td>\n",
       "      <td>2</td>\n",
       "      <td>곰</td>\n",
       "      <td>no</td>\n",
       "      <td>yes</td>\n",
       "    </tr>\n",
       "  </tbody>\n",
       "</table>\n",
       "</div>"
      ],
      "text/plain": [
       "   주식  다리갯수   이름 무리생활   비행\n",
       "0  고기     4   사자  yes   no\n",
       "1   풀     4   사슴  yes   no\n",
       "2  고기     4   늑대  yes   no\n",
       "3  고기     2  독수리  yes  yes\n",
       "4  잡식     2    곰   no  yes"
      ]
     },
     "execution_count": 51,
     "metadata": {},
     "output_type": "execute_result"
    }
   ],
   "source": [
    "df_loc = pd.DataFrame([[\"고기\", 4, \"사자\", \"yes\", \"no\"],\n",
    "                      [\"풀\", 4, \"사슴\", \"yes\", \"no\"],\n",
    "                      [\"고기\", 4, \"늑대\", \"yes\", \"no\"],\n",
    "                      [\"고기\", 2, \"독수리\", \"yes\", \"yes\"],\n",
    "                      [\"잡식\", 2, \"곰\", \"no\", \"yes\"]],\n",
    "                     columns =  [\"주식\", \"다리갯수\", \"이름\", \"무리생활\", \"비행\"])\n",
    "df_loc"
   ]
  },
  {
   "cell_type": "code",
   "execution_count": 56,
   "metadata": {},
   "outputs": [
    {
     "name": "stdout",
     "output_type": "stream",
     "text": [
      "   주식  다리갯수   이름 무리생활   비행\n",
      "0  고기     4   사자  yes   no\n",
      "1   풀     4   사슴  yes   no\n",
      "2  고기     4   늑대  yes   no\n",
      "3  고기     2  독수리  yes  yes\n",
      "4  잡식     2    곰   no  yes\n",
      "\n",
      "   주식  다리갯수   이름 무리생활   비행\n",
      "0  고기     4   사자  yes   no\n",
      "1   풀     4   사슴  yes   no\n",
      "2  고기     4   늑대  yes   no\n",
      "3  고기     2  독수리  yes  yes\n",
      "\n",
      "   주식   이름   비행\n",
      "0  고기   사자   no\n",
      "1   풀   사슴   no\n",
      "2  고기   늑대   no\n",
      "3  고기  독수리  yes\n",
      "4  잡식    곰  yes\n",
      "\n",
      "   주식   이름 무리생활\n",
      "0  고기   사자  yes\n",
      "2  고기   늑대  yes\n",
      "3  고기  독수리  yes\n"
     ]
    }
   ],
   "source": [
    "'''\n",
    " 주식  다리갯수   이름 무리생활   비행\n",
    "0  고기     4   사자  yes   no\n",
    "1   풀     4   사슴  yes   no\n",
    "2  고기     4   늑대  yes   no\n",
    "3  고기     2  독수리  yes  yes\n",
    "'''\n",
    "\n",
    "'''\n",
    "  주식   이름   비행\n",
    "0  고기   사자   no\n",
    "1   풀   사슴   no\n",
    "2  고기   늑대   no\n",
    "3  고기  독수리  yes\n",
    "4  잡식    곰  yes\n",
    "'''\n",
    "\n",
    "'''\n",
    "주식   이름 무리생활\n",
    "0  고기   사자  yes\n",
    "2  고기   늑대  yes\n",
    "3  고기  독수리  yes\n",
    "'''\n",
    "\n",
    "print(df_loc)\n",
    "print()\n",
    "print(df_loc.loc[0:3, :])\n",
    "print()\n",
    "print(df_loc.loc[:, ['주식', '이름', '비행']])\n",
    "print()\n",
    "print(df_loc.loc[[0, 2, 3], ['주식', '이름', '무리생활']])"
   ]
  },
  {
   "cell_type": "code",
   "execution_count": 60,
   "metadata": {},
   "outputs": [
    {
     "name": "stdout",
     "output_type": "stream",
     "text": [
      "   이름  수학  영어   음악   체육\n",
      "0  서준  90  98   85  100\n",
      "1  우현  80  89   95   90\n",
      "2  인아  70  95  100   90\n",
      "   이름  수학  영어   음악   체육  국어   물리\n",
      "0  서준  90  98   85  100  62  100\n",
      "1  우현  80  89   95   90  77  100\n",
      "2  인아  70  95  100   90  59  100\n",
      "3  흥민  95  70   90  100  80  100\n"
     ]
    }
   ],
   "source": [
    "## Insert, delete\n",
    "\n",
    "exam_data = {'이름' : [ '서준', '우현', '인아'],\n",
    "             '수학' : [ 90, 80, 70],\n",
    "             '영어' : [ 98, 89, 95],\n",
    "             '음악' : [ 85, 95, 100],\n",
    "             '체육' : [ 100, 90, 90]}\n",
    "\n",
    "df = pd.DataFrame(exam_data)\n",
    "print(df)\n",
    "\n",
    "df['국어'] = [62, 77, 59]\n",
    "df['물리'] = 100\n",
    "\n",
    "df.loc[3] = ['흥민', 95, 70, 90, 100, 80, 100]\n",
    "\n",
    "print(df)"
   ]
  },
  {
   "cell_type": "code",
   "execution_count": 76,
   "metadata": {},
   "outputs": [
    {
     "name": "stdout",
     "output_type": "stream",
     "text": [
      "   이름  수학  영어   음악   체육\n",
      "0  서준  90  98   85  100\n",
      "1  우현  80  89   95   90\n",
      "2  인아  70  95  100   90\n",
      "       영어   음악   체육\n",
      "이름 수학              \n",
      "서준 90  98   85  100\n",
      "우현 80  89   95   90\n",
      "인아 70  95  100   90\n"
     ]
    }
   ],
   "source": [
    "\n",
    "exam_data = {'이름' : [ '서준', '우현', '인아'],\n",
    "             '수학' : [ 90, 80, 70],\n",
    "             '영어' : [ 98, 89, 95],\n",
    "             '음악' : [ 85, 95, 100],\n",
    "             '체육' : [ 100, 90, 90]}\n",
    "\n",
    "df = pd.DataFrame(exam_data)\n",
    "print(df)\n",
    "df.set_index('이름', inplace=True)\n",
    "df.set_index('수학', append= True, inplace=True)\n",
    "\n",
    "print(df)\n",
    "\n",
    "# df.loc['서준', '체육'] = 50\n",
    "# print(df)\n",
    "\n",
    "# df.iloc[1, 1] = 70\n",
    "# print(df)\n",
    "\n",
    "# df.loc['서준', ['음악', '체육']] = 100, 50\n",
    "\n",
    "# print(df)\n",
    "# print(df.T)\n",
    "# print(df.transpose())\n"
   ]
  },
  {
   "cell_type": "code",
   "execution_count": 88,
   "metadata": {},
   "outputs": [
    {
     "name": "stdout",
     "output_type": "stream",
     "text": [
      "{'c0': [1, 2, 3], 'c1': [4, 5, 6], 'c2': [7, 8, 9], 'c3': [10, 11, 12], 'c4': [14, 15, 16]}\n",
      "\n",
      "    c0  c1  c2  c3  c4\n",
      "r0   1   4   7  10  14\n",
      "r1   2   5   8  11  15\n",
      "r2   3   6   9  12  16\n",
      "    c0  c1  c2  c3  c4\n",
      "r2   3   6   9  12  16\n",
      "r1   2   5   8  11  15\n",
      "r0   1   4   7  10  14\n"
     ]
    }
   ],
   "source": [
    "dict_data = {\n",
    "    'c0':[1,2,3], 'c1':[4, 5, 6], 'c2':[7,8,9],\n",
    "    'c3':[10, 11, 12], 'c4':[14, 15, 16]\n",
    "}\n",
    "\n",
    "print(dict_data)\n",
    "print()\n",
    "df = pd.DataFrame(dict_data,\n",
    "                  index = ['r0', 'r1', 'r2'])\n",
    "print(df)\n",
    "\n",
    "df4 = df.sort_index(ascending=False)\n",
    "print(df4)\n",
    "# df3 = df.reset_index()\n",
    "# print(df3)\n",
    "# new_index = ['r0', 'r1', 'r2', 'r3', 'r4']\n",
    "\n",
    "# df2 = df.reindex(new_index, fill_value= 0)\n",
    "# print(df2)"
   ]
  },
  {
   "cell_type": "code",
   "execution_count": 92,
   "metadata": {},
   "outputs": [
    {
     "name": "stdout",
     "output_type": "stream",
     "text": [
      "    c0  c1  c2  c3  c4\n",
      "r0   1   4   7  10  14\n",
      "r1   2   5   8  11  15\n",
      "r2   3   6   9  12  16\n",
      "    c0  c1  c2  c3  c4\n",
      "r2   3   6   9  12  16\n",
      "r1   2   5   8  11  15\n",
      "r0   1   4   7  10  14\n"
     ]
    }
   ],
   "source": [
    "print(df)\n",
    "df5 = df.sort_values(by = 'c4', ascending=False)\n",
    "print(df5)\n",
    "\n",
    "\n"
   ]
  },
  {
   "cell_type": "code",
   "execution_count": 96,
   "metadata": {},
   "outputs": [
    {
     "name": "stdout",
     "output_type": "stream",
     "text": [
      "국어    100\n",
      "영어     80\n",
      "수학     90\n",
      "dtype: int64\n",
      "국어    50.0\n",
      "영어    40.0\n",
      "수학    45.0\n",
      "dtype: float64\n"
     ]
    }
   ],
   "source": [
    "## 사칙연산, Broadcasting\n",
    "student1 = pd.Series({'국어':100, '영어':80, '수학':90})\n",
    "\n",
    "print(student1)\n",
    "\n",
    "student1_per = (student1*100)/200\n",
    "print(student1_per)\n"
   ]
  },
  {
   "cell_type": "code",
   "execution_count": 101,
   "metadata": {},
   "outputs": [
    {
     "name": "stdout",
     "output_type": "stream",
     "text": [
      "          국어       수학      영어\n",
      "덧셈    190.00   170.00   160.0\n",
      "뺄셈     10.00    10.00     0.0\n",
      "곱셈   9000.00  7200.00  6400.0\n",
      "나눗셈     1.11     1.12     1.0\n"
     ]
    }
   ],
   "source": [
    "student1_pre = pd.Series({'국어':100, '영어':80, '수학':90})\n",
    "student1_post = pd.Series({'수학':80, '국어':90, '영어':80})\n",
    "\n",
    "addition = student1_pre + student1_post\n",
    "subtraction = student1_pre - student1_post\n",
    "multi = student1_pre*student1_post\n",
    "division = student1_pre/student1_post\n",
    "\n",
    "result = pd.DataFrame([addition, subtraction, multi, division],\n",
    "                      index = ['덧셈', '뺄셈', '곱셈', '나눗셈'])\n",
    "print(result.round(2))"
   ]
  },
  {
   "cell_type": "code",
   "execution_count": 102,
   "metadata": {},
   "outputs": [
    {
     "name": "stdout",
     "output_type": "stream",
     "text": [
      "Collecting seaborn\n",
      "  Downloading seaborn-0.12.2-py3-none-any.whl (293 kB)\n",
      "                                              0.0/293.3 kB ? eta -:--:--\n",
      "                                              0.0/293.3 kB ? eta -:--:--\n",
      "     -                                        10.2/293.3 kB ? eta -:--:--\n",
      "     -----                                 41.0/293.3 kB 393.8 kB/s eta 0:00:01\n",
      "     -------------                        112.6/293.3 kB 819.2 kB/s eta 0:00:01\n",
      "     -------------------------------------- 293.3/293.3 kB 1.8 MB/s eta 0:00:00\n",
      "Requirement already satisfied: numpy!=1.24.0,>=1.17 in c:\\users\\etv\\anaconda3\\envs\\pandas_nb\\lib\\site-packages (from seaborn) (1.24.3)\n",
      "Requirement already satisfied: pandas>=0.25 in c:\\users\\etv\\anaconda3\\envs\\pandas_nb\\lib\\site-packages (from seaborn) (2.0.1)\n",
      "Collecting matplotlib!=3.6.1,>=3.1 (from seaborn)\n",
      "  Downloading matplotlib-3.7.1-cp311-cp311-win_amd64.whl (7.6 MB)\n",
      "                                              0.0/7.6 MB ? eta -:--:--\n",
      "     -------------------                      3.7/7.6 MB 120.6 MB/s eta 0:00:01\n",
      "     ---------------------------------------  7.6/7.6 MB 122.7 MB/s eta 0:00:01\n",
      "     ---------------------------------------- 7.6/7.6 MB 81.0 MB/s eta 0:00:00\n",
      "Collecting contourpy>=1.0.1 (from matplotlib!=3.6.1,>=3.1->seaborn)\n",
      "  Downloading contourpy-1.0.7-cp311-cp311-win_amd64.whl (162 kB)\n",
      "                                              0.0/163.0 kB ? eta -:--:--\n",
      "     -------------------------------------- 163.0/163.0 kB 9.5 MB/s eta 0:00:00\n",
      "Collecting cycler>=0.10 (from matplotlib!=3.6.1,>=3.1->seaborn)\n",
      "  Downloading cycler-0.11.0-py3-none-any.whl (6.4 kB)\n",
      "Collecting fonttools>=4.22.0 (from matplotlib!=3.6.1,>=3.1->seaborn)\n",
      "  Downloading fonttools-4.39.3-py3-none-any.whl (1.0 MB)\n",
      "                                              0.0/1.0 MB ? eta -:--:--\n",
      "     ---------------------------------------- 1.0/1.0 MB 62.4 MB/s eta 0:00:00\n",
      "Collecting kiwisolver>=1.0.1 (from matplotlib!=3.6.1,>=3.1->seaborn)\n",
      "  Downloading kiwisolver-1.4.4-cp311-cp311-win_amd64.whl (55 kB)\n",
      "                                              0.0/55.4 kB ? eta -:--:--\n",
      "     ---------------------------------------- 55.4/55.4 kB 3.0 MB/s eta 0:00:00\n",
      "Requirement already satisfied: packaging>=20.0 in c:\\users\\etv\\appdata\\roaming\\python\\python311\\site-packages (from matplotlib!=3.6.1,>=3.1->seaborn) (23.1)\n",
      "Collecting pillow>=6.2.0 (from matplotlib!=3.6.1,>=3.1->seaborn)\n",
      "  Downloading Pillow-9.5.0-cp311-cp311-win_amd64.whl (2.5 MB)\n",
      "                                              0.0/2.5 MB ? eta -:--:--\n",
      "     ---------------------------------------- 2.5/2.5 MB 53.2 MB/s eta 0:00:00\n",
      "Collecting pyparsing>=2.3.1 (from matplotlib!=3.6.1,>=3.1->seaborn)\n",
      "  Downloading pyparsing-3.0.9-py3-none-any.whl (98 kB)\n",
      "                                              0.0/98.3 kB ? eta -:--:--\n",
      "     ---------------------------------------- 98.3/98.3 kB 5.5 MB/s eta 0:00:00\n",
      "Requirement already satisfied: python-dateutil>=2.7 in c:\\users\\etv\\appdata\\roaming\\python\\python311\\site-packages (from matplotlib!=3.6.1,>=3.1->seaborn) (2.8.2)\n",
      "Requirement already satisfied: pytz>=2020.1 in c:\\users\\etv\\anaconda3\\envs\\pandas_nb\\lib\\site-packages (from pandas>=0.25->seaborn) (2023.3)\n",
      "Requirement already satisfied: tzdata>=2022.1 in c:\\users\\etv\\anaconda3\\envs\\pandas_nb\\lib\\site-packages (from pandas>=0.25->seaborn) (2023.3)\n",
      "Requirement already satisfied: six>=1.5 in c:\\users\\etv\\appdata\\roaming\\python\\python311\\site-packages (from python-dateutil>=2.7->matplotlib!=3.6.1,>=3.1->seaborn) (1.16.0)\n",
      "Installing collected packages: pyparsing, pillow, kiwisolver, fonttools, cycler, contourpy, matplotlib, seaborn\n",
      "Successfully installed contourpy-1.0.7 cycler-0.11.0 fonttools-4.39.3 kiwisolver-1.4.4 matplotlib-3.7.1 pillow-9.5.0 pyparsing-3.0.9 seaborn-0.12.2\n"
     ]
    }
   ],
   "source": [
    "! pip install seaborn"
   ]
  },
  {
   "cell_type": "code",
   "execution_count": 103,
   "metadata": {},
   "outputs": [],
   "source": [
    "import seaborn as sns"
   ]
  },
  {
   "cell_type": "code",
   "execution_count": 107,
   "metadata": {},
   "outputs": [
    {
     "name": "stdout",
     "output_type": "stream",
     "text": [
      "<class 'pandas.core.frame.DataFrame'>\n",
      "   survived  pclass     sex   age  sibsp  parch     fare embarked  class   \n",
      "0         0       3    male  22.0      1      0   7.2500        S  Third  \\\n",
      "1         1       1  female  38.0      1      0  71.2833        C  First   \n",
      "2         1       3  female  26.0      0      0   7.9250        S  Third   \n",
      "3         1       1  female  35.0      1      0  53.1000        S  First   \n",
      "4         0       3    male  35.0      0      0   8.0500        S  Third   \n",
      "\n",
      "     who  adult_male deck  embark_town alive  alone  \n",
      "0    man        True  NaN  Southampton    no  False  \n",
      "1  woman       False    C    Cherbourg   yes  False  \n",
      "2  woman       False  NaN  Southampton   yes   True  \n",
      "3  woman       False    C  Southampton   yes  False  \n",
      "4    man        True  NaN  Southampton    no   True  \n",
      "(891, 15)\n"
     ]
    }
   ],
   "source": [
    "titanic = sns.load_dataset('titanic')\n",
    "print(type(titanic))\n",
    "\n",
    "print(titanic.head())\n",
    "print(titanic.shape)"
   ]
  },
  {
   "cell_type": "code",
   "execution_count": null,
   "metadata": {},
   "outputs": [],
   "source": [
    "'''\n",
    "survived   age     fare      won\n",
    "0         0  22.0   7.2500   7250.0\n",
    "1         1  38.0  71.2833  71283.3\n",
    "2         1  26.0   7.9250   7925.0\n",
    "3         1  35.0  53.1000  53100.0\n",
    "4         0  35.0   8.0500   8050.0\n",
    "'''"
   ]
  },
  {
   "cell_type": "code",
   "execution_count": null,
   "metadata": {},
   "outputs": [],
   "source": []
  }
 ],
 "metadata": {
  "kernelspec": {
   "display_name": "pandas_nb",
   "language": "python",
   "name": "python3"
  },
  "language_info": {
   "codemirror_mode": {
    "name": "ipython",
    "version": 3
   },
   "file_extension": ".py",
   "mimetype": "text/x-python",
   "name": "python",
   "nbconvert_exporter": "python",
   "pygments_lexer": "ipython3",
   "version": "3.11.3"
  },
  "orig_nbformat": 4
 },
 "nbformat": 4,
 "nbformat_minor": 2
}
